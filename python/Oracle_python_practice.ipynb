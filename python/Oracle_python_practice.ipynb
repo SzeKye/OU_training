{
 "cells": [
  {
   "cell_type": "code",
   "execution_count": null,
   "id": "bc58c9b0",
   "metadata": {},
   "outputs": [],
   "source": [
    "##python\n",
    "#Python was created by Guido Van Rossum and released in 1991\n",
    "# powerful computer language\n",
    "# simple and easy to learn\n",
    "#free and opensource\n",
    "#interactive\n",
    "##portable\n",
    "#object oriented\n",
    "#interpreted -- bytecode -- translated to native lang -- bytecode -- portable\n",
    "## Dynamic\n",
    "## python is a cross platform programming language\n",
    "## Mac os, Linux,port to java , dotnet\n",
    "## modular programmin - python support of modules and package facilities\n",
    "## Modular programming and reuse of code\n",
    "##python uses whitespace and indentation to delimit blocks\n",
    "##its high level language\n",
    "##rich set of libraries"
   ]
  },
  {
   "cell_type": "code",
   "execution_count": null,
   "id": "e9815329",
   "metadata": {},
   "outputs": [],
   "source": [
    "# Python used for many purposes\n",
    "# \n",
    "#Web development - server side web development\n",
    "#software development - python can help with s/w testing, bug tracking and build control\n",
    "#Data science - Python is used for data analysis, data visualization, and other datascience tasks\n",
    "#Machine learning - python is used in machine learning\n",
    "#Desktop applications: python can be used to build desktop applications including\n",
    "#manay linux and open source applications\n"
   ]
  },
  {
   "cell_type": "code",
   "execution_count": null,
   "id": "5572489a",
   "metadata": {},
   "outputs": [],
   "source": [
    "# single line comment(#)\n",
    "'''\n",
    "Comments are hints that we add to our code to make it easier to understand.\n",
    "Python comments start with #(single line comment)\n",
    "We should use comments:\n",
    "For future references, as comments make our code readable.\n",
    "For debugging.\n",
    "For code collaboration, as comments help peer developers to understand each other's code.\n",
    "Note: Comments are not and should not be used as a substitute to explain poorly written code. \n",
    "Always try to write clean, understandable code, and then use comments as an addition.\n",
    "In most cases, always use comments to explain 'why' rather than 'how' and you are good to go.\n",
    "Note: This approach comes in handy while working with large files. \n",
    "Instead of deleting any line, we can use comments and identify which one is causing an error.\n",
    "'''"
   ]
  },
  {
   "cell_type": "code",
   "execution_count": null,
   "id": "4ced92ec",
   "metadata": {},
   "outputs": [],
   "source": [
    "## variables , identifiers"
   ]
  },
  {
   "cell_type": "code",
   "execution_count": 1,
   "id": "40a387fc",
   "metadata": {},
   "outputs": [],
   "source": [
    "import sys"
   ]
  },
  {
   "cell_type": "code",
   "execution_count": 2,
   "id": "98b02621",
   "metadata": {},
   "outputs": [
    {
     "name": "stdout",
     "output_type": "stream",
     "text": [
      "3.9.12 (main, Apr  4 2022, 05:22:27) [MSC v.1916 64 bit (AMD64)]\n"
     ]
    }
   ],
   "source": [
    "print(sys.version)"
   ]
  },
  {
   "cell_type": "code",
   "execution_count": 3,
   "id": "29338765",
   "metadata": {},
   "outputs": [],
   "source": [
    "import platform"
   ]
  },
  {
   "cell_type": "code",
   "execution_count": 4,
   "id": "11876875",
   "metadata": {},
   "outputs": [
    {
     "data": {
      "text/plain": [
       "'3.9.12'"
      ]
     },
     "execution_count": 4,
     "metadata": {},
     "output_type": "execute_result"
    }
   ],
   "source": [
    "platform.python_version()"
   ]
  },
  {
   "cell_type": "code",
   "execution_count": 175,
   "id": "a546dbf1",
   "metadata": {},
   "outputs": [
    {
     "name": "stdout",
     "output_type": "stream",
     "text": [
      "['ArithmeticError', 'AssertionError', 'AttributeError', 'BaseException', 'BlockingIOError', 'BrokenPipeError', 'BufferError', 'BytesWarning', 'ChildProcessError', 'ConnectionAbortedError', 'ConnectionError', 'ConnectionRefusedError', 'ConnectionResetError', 'DeprecationWarning', 'EOFError', 'Ellipsis', 'EnvironmentError', 'Exception', 'False', 'FileExistsError', 'FileNotFoundError', 'FloatingPointError', 'FutureWarning', 'GeneratorExit', 'IOError', 'ImportError', 'ImportWarning', 'IndentationError', 'IndexError', 'InterruptedError', 'IsADirectoryError', 'KeyError', 'KeyboardInterrupt', 'LookupError', 'MemoryError', 'ModuleNotFoundError', 'NameError', 'None', 'NotADirectoryError', 'NotImplemented', 'NotImplementedError', 'OSError', 'OverflowError', 'PendingDeprecationWarning', 'PermissionError', 'ProcessLookupError', 'RecursionError', 'ReferenceError', 'ResourceWarning', 'RuntimeError', 'RuntimeWarning', 'StopAsyncIteration', 'StopIteration', 'SyntaxError', 'SyntaxWarning', 'SystemError', 'SystemExit', 'TabError', 'TimeoutError', 'True', 'TypeError', 'UnboundLocalError', 'UnicodeDecodeError', 'UnicodeEncodeError', 'UnicodeError', 'UnicodeTranslateError', 'UnicodeWarning', 'UserWarning', 'ValueError', 'Warning', 'WindowsError', 'ZeroDivisionError', '__IPYTHON__', '__build_class__', '__debug__', '__doc__', '__import__', '__loader__', '__name__', '__package__', '__pybind11_internals_v4_msvc__', '__spec__', 'abs', 'all', 'any', 'ascii', 'bin', 'bool', 'breakpoint', 'bytearray', 'bytes', 'callable', 'chr', 'classmethod', 'compile', 'complex', 'copyright', 'credits', 'delattr', 'dict', 'dir', 'display', 'divmod', 'enumerate', 'eval', 'exec', 'execfile', 'filter', 'float', 'format', 'frozenset', 'get_ipython', 'getattr', 'globals', 'hasattr', 'hash', 'help', 'hex', 'id', 'input', 'int', 'isinstance', 'issubclass', 'iter', 'len', 'license', 'list', 'locals', 'map', 'max', 'memoryview', 'min', 'next', 'object', 'oct', 'open', 'ord', 'pow', 'print', 'property', 'range', 'repr', 'reversed', 'round', 'runfile', 'set', 'setattr', 'slice', 'sorted', 'staticmethod', 'str', 'sum', 'super', 'tuple', 'type', 'vars', 'zip']\n"
     ]
    }
   ],
   "source": [
    "print(dir(__builtins__))"
   ]
  },
  {
   "cell_type": "code",
   "execution_count": 9,
   "id": "59420d30",
   "metadata": {
    "collapsed": true
   },
   "outputs": [
    {
     "name": "stdout",
     "output_type": "stream",
     "text": [
      "\n",
      "Please wait a moment while I gather a list of all available modules...\n",
      "\n"
     ]
    },
    {
     "name": "stderr",
     "output_type": "stream",
     "text": [
      "WARNING: AstropyDeprecationWarning: The private astropy._erfa module has been made into its own package, pyerfa, which is a dependency of astropy and can be imported directly using \"import erfa\" [astropy._erfa]\n",
      "D:\\AnacondaS\\lib\\site-packages\\navigator_updater\\utils\\py3compat.py:77: DeprecationWarning:\n",
      "\n",
      "Using or importing the ABCs from 'collections' instead of from 'collections.abc' is deprecated since Python 3.3, and in 3.10 it will stop working\n",
      "\n",
      "D:\\AnacondaS\\lib\\site-packages\\nltk\\twitter\\__init__.py:20: UserWarning:\n",
      "\n",
      "The twython library has not been installed. Some functionality from the twitter package will not be available.\n",
      "\n",
      "D:\\AnacondaS\\lib\\site-packages\\notebook\\utils.py:280: DeprecationWarning:\n",
      "\n",
      "distutils Version classes are deprecated. Use packaging.version instead.\n",
      "\n",
      "D:\\AnacondaS\\lib\\site-packages\\notebook\\utils.py:280: DeprecationWarning:\n",
      "\n",
      "distutils Version classes are deprecated. Use packaging.version instead.\n",
      "\n",
      "D:\\AnacondaS\\lib\\random.py:123: DeprecationWarning:\n",
      "\n",
      "Seeding based on hashing is deprecated\n",
      "since Python 3.9 and will be removed in a subsequent version. The only \n",
      "supported seed types are: None, int, float, str, bytes, and bytearray.\n",
      "\n",
      "D:\\AnacondaS\\lib\\site-packages\\_distutils_hack\\__init__.py:26: UserWarning:\n",
      "\n",
      "Setuptools is replacing distutils.\n",
      "\n",
      "D:\\AnacondaS\\lib\\pkgutil.py:93: DeprecationWarning:\n",
      "\n",
      "pkg_resources is deprecated as an API. See https://setuptools.pypa.io/en/latest/pkg_resources.html\n",
      "\n",
      "D:\\AnacondaS\\lib\\site-packages\\pip\\_vendor\\pkg_resources\\__init__.py:2871: DeprecationWarning:\n",
      "\n",
      "Deprecated call to `pkg_resources.declare_namespace('google')`.\n",
      "Implementing implicit namespace packages (as specified in PEP 420) is preferred to `pkg_resources.declare_namespace`. See https://setuptools.pypa.io/en/latest/references/keywords.html#keyword-namespace-packages\n",
      "\n",
      "D:\\AnacondaS\\lib\\site-packages\\pip\\_vendor\\pkg_resources\\__init__.py:2871: DeprecationWarning:\n",
      "\n",
      "Deprecated call to `pkg_resources.declare_namespace('google')`.\n",
      "Implementing implicit namespace packages (as specified in PEP 420) is preferred to `pkg_resources.declare_namespace`. See https://setuptools.pypa.io/en/latest/references/keywords.html#keyword-namespace-packages\n",
      "\n",
      "D:\\AnacondaS\\lib\\site-packages\\pip\\_vendor\\pkg_resources\\__init__.py:2871: DeprecationWarning:\n",
      "\n",
      "Deprecated call to `pkg_resources.declare_namespace('google')`.\n",
      "Implementing implicit namespace packages (as specified in PEP 420) is preferred to `pkg_resources.declare_namespace`. See https://setuptools.pypa.io/en/latest/references/keywords.html#keyword-namespace-packages\n",
      "\n",
      "D:\\AnacondaS\\lib\\site-packages\\pip\\_vendor\\pkg_resources\\__init__.py:2871: DeprecationWarning:\n",
      "\n",
      "Deprecated call to `pkg_resources.declare_namespace('google.cloud')`.\n",
      "Implementing implicit namespace packages (as specified in PEP 420) is preferred to `pkg_resources.declare_namespace`. See https://setuptools.pypa.io/en/latest/references/keywords.html#keyword-namespace-packages\n",
      "\n",
      "D:\\AnacondaS\\lib\\site-packages\\pip\\_vendor\\pkg_resources\\__init__.py:2350: DeprecationWarning:\n",
      "\n",
      "Deprecated call to `pkg_resources.declare_namespace('google')`.\n",
      "Implementing implicit namespace packages (as specified in PEP 420) is preferred to `pkg_resources.declare_namespace`. See https://setuptools.pypa.io/en/latest/references/keywords.html#keyword-namespace-packages\n",
      "\n",
      "D:\\AnacondaS\\lib\\site-packages\\pip\\_vendor\\pkg_resources\\__init__.py:2871: DeprecationWarning:\n",
      "\n",
      "Deprecated call to `pkg_resources.declare_namespace('google')`.\n",
      "Implementing implicit namespace packages (as specified in PEP 420) is preferred to `pkg_resources.declare_namespace`. See https://setuptools.pypa.io/en/latest/references/keywords.html#keyword-namespace-packages\n",
      "\n",
      "D:\\AnacondaS\\lib\\site-packages\\pip\\_vendor\\pkg_resources\\__init__.py:2871: DeprecationWarning:\n",
      "\n",
      "Deprecated call to `pkg_resources.declare_namespace('google.cloud')`.\n",
      "Implementing implicit namespace packages (as specified in PEP 420) is preferred to `pkg_resources.declare_namespace`. See https://setuptools.pypa.io/en/latest/references/keywords.html#keyword-namespace-packages\n",
      "\n",
      "D:\\AnacondaS\\lib\\site-packages\\pip\\_vendor\\pkg_resources\\__init__.py:2871: DeprecationWarning:\n",
      "\n",
      "Deprecated call to `pkg_resources.declare_namespace('google')`.\n",
      "Implementing implicit namespace packages (as specified in PEP 420) is preferred to `pkg_resources.declare_namespace`. See https://setuptools.pypa.io/en/latest/references/keywords.html#keyword-namespace-packages\n",
      "\n",
      "D:\\AnacondaS\\lib\\site-packages\\pip\\_vendor\\pkg_resources\\__init__.py:2871: DeprecationWarning:\n",
      "\n",
      "Deprecated call to `pkg_resources.declare_namespace('google')`.\n",
      "Implementing implicit namespace packages (as specified in PEP 420) is preferred to `pkg_resources.declare_namespace`. See https://setuptools.pypa.io/en/latest/references/keywords.html#keyword-namespace-packages\n",
      "\n",
      "D:\\AnacondaS\\lib\\site-packages\\pip\\_vendor\\pkg_resources\\__init__.py:2871: DeprecationWarning:\n",
      "\n",
      "Deprecated call to `pkg_resources.declare_namespace('google.logging')`.\n",
      "Implementing implicit namespace packages (as specified in PEP 420) is preferred to `pkg_resources.declare_namespace`. See https://setuptools.pypa.io/en/latest/references/keywords.html#keyword-namespace-packages\n",
      "\n",
      "D:\\AnacondaS\\lib\\site-packages\\pip\\_vendor\\pkg_resources\\__init__.py:2350: DeprecationWarning:\n",
      "\n",
      "Deprecated call to `pkg_resources.declare_namespace('google')`.\n",
      "Implementing implicit namespace packages (as specified in PEP 420) is preferred to `pkg_resources.declare_namespace`. See https://setuptools.pypa.io/en/latest/references/keywords.html#keyword-namespace-packages\n",
      "\n",
      "D:\\AnacondaS\\lib\\site-packages\\pip\\_vendor\\pkg_resources\\__init__.py:2871: DeprecationWarning:\n",
      "\n",
      "Deprecated call to `pkg_resources.declare_namespace('mpl_toolkits')`.\n",
      "Implementing implicit namespace packages (as specified in PEP 420) is preferred to `pkg_resources.declare_namespace`. See https://setuptools.pypa.io/en/latest/references/keywords.html#keyword-namespace-packages\n",
      "\n",
      "D:\\AnacondaS\\lib\\site-packages\\pip\\_vendor\\pkg_resources\\__init__.py:2871: DeprecationWarning:\n",
      "\n",
      "Deprecated call to `pkg_resources.declare_namespace('google')`.\n",
      "Implementing implicit namespace packages (as specified in PEP 420) is preferred to `pkg_resources.declare_namespace`. See https://setuptools.pypa.io/en/latest/references/keywords.html#keyword-namespace-packages\n",
      "\n",
      "D:\\AnacondaS\\lib\\site-packages\\pip\\_vendor\\pkg_resources\\__init__.py:2871: DeprecationWarning:\n",
      "\n",
      "Deprecated call to `pkg_resources.declare_namespace('sphinxcontrib')`.\n",
      "Implementing implicit namespace packages (as specified in PEP 420) is preferred to `pkg_resources.declare_namespace`. See https://setuptools.pypa.io/en/latest/references/keywords.html#keyword-namespace-packages\n",
      "\n",
      "D:\\AnacondaS\\lib\\site-packages\\pip\\_vendor\\pkg_resources\\__init__.py:2871: DeprecationWarning:\n",
      "\n",
      "Deprecated call to `pkg_resources.declare_namespace('sphinxcontrib')`.\n",
      "Implementing implicit namespace packages (as specified in PEP 420) is preferred to `pkg_resources.declare_namespace`. See https://setuptools.pypa.io/en/latest/references/keywords.html#keyword-namespace-packages\n",
      "\n",
      "D:\\AnacondaS\\lib\\site-packages\\pip\\_vendor\\pkg_resources\\__init__.py:2871: DeprecationWarning:\n",
      "\n",
      "Deprecated call to `pkg_resources.declare_namespace('sphinxcontrib')`.\n",
      "Implementing implicit namespace packages (as specified in PEP 420) is preferred to `pkg_resources.declare_namespace`. See https://setuptools.pypa.io/en/latest/references/keywords.html#keyword-namespace-packages\n",
      "\n",
      "D:\\AnacondaS\\lib\\site-packages\\pip\\_vendor\\pkg_resources\\__init__.py:2871: DeprecationWarning:\n",
      "\n",
      "Deprecated call to `pkg_resources.declare_namespace('sphinxcontrib')`.\n",
      "Implementing implicit namespace packages (as specified in PEP 420) is preferred to `pkg_resources.declare_namespace`. See https://setuptools.pypa.io/en/latest/references/keywords.html#keyword-namespace-packages\n",
      "\n",
      "D:\\AnacondaS\\lib\\site-packages\\pip\\_vendor\\pkg_resources\\__init__.py:2871: DeprecationWarning:\n",
      "\n",
      "Deprecated call to `pkg_resources.declare_namespace('sphinxcontrib')`.\n",
      "Implementing implicit namespace packages (as specified in PEP 420) is preferred to `pkg_resources.declare_namespace`. See https://setuptools.pypa.io/en/latest/references/keywords.html#keyword-namespace-packages\n",
      "\n",
      "D:\\AnacondaS\\lib\\site-packages\\pip\\_vendor\\pkg_resources\\__init__.py:2871: DeprecationWarning:\n",
      "\n",
      "Deprecated call to `pkg_resources.declare_namespace('sphinxcontrib')`.\n",
      "Implementing implicit namespace packages (as specified in PEP 420) is preferred to `pkg_resources.declare_namespace`. See https://setuptools.pypa.io/en/latest/references/keywords.html#keyword-namespace-packages\n",
      "\n",
      "D:\\AnacondaS\\lib\\site-packages\\pip\\_vendor\\pkg_resources\\__init__.py:2871: DeprecationWarning:\n",
      "\n",
      "Deprecated call to `pkg_resources.declare_namespace('zope')`.\n",
      "Implementing implicit namespace packages (as specified in PEP 420) is preferred to `pkg_resources.declare_namespace`. See https://setuptools.pypa.io/en/latest/references/keywords.html#keyword-namespace-packages\n",
      "\n"
     ]
    },
    {
     "name": "stderr",
     "output_type": "stream",
     "text": [
      "D:\\AnacondaS\\lib\\site-packages\\skimage\\viewer\\qt.py:5: MatplotlibDeprecationWarning:\n",
      "\n",
      "\n",
      "The QT_RC_MAJOR_VERSION attribute was deprecated in Matplotlib 3.5 and will be removed two minor releases later.\n",
      "\n",
      "D:\\AnacondaS\\lib\\site-packages\\daal4py\\sklearn\\_utils.py:59: DeprecationWarning:\n",
      "\n",
      "distutils Version classes are deprecated. Use packaging.version instead.\n",
      "\n",
      "D:\\AnacondaS\\lib\\site-packages\\daal4py\\sklearn\\_utils.py:59: DeprecationWarning:\n",
      "\n",
      "distutils Version classes are deprecated. Use packaging.version instead.\n",
      "\n",
      "D:\\AnacondaS\\lib\\site-packages\\daal4py\\sklearn\\_utils.py:59: DeprecationWarning:\n",
      "\n",
      "distutils Version classes are deprecated. Use packaging.version instead.\n",
      "\n",
      "D:\\AnacondaS\\lib\\site-packages\\daal4py\\sklearn\\_utils.py:59: DeprecationWarning:\n",
      "\n",
      "distutils Version classes are deprecated. Use packaging.version instead.\n",
      "\n",
      "D:\\AnacondaS\\lib\\site-packages\\daal4py\\sklearn\\_utils.py:59: DeprecationWarning:\n",
      "\n",
      "distutils Version classes are deprecated. Use packaging.version instead.\n",
      "\n",
      "D:\\AnacondaS\\lib\\site-packages\\daal4py\\sklearn\\_utils.py:59: DeprecationWarning:\n",
      "\n",
      "distutils Version classes are deprecated. Use packaging.version instead.\n",
      "\n",
      "D:\\AnacondaS\\lib\\site-packages\\daal4py\\sklearn\\_utils.py:59: DeprecationWarning:\n",
      "\n",
      "distutils Version classes are deprecated. Use packaging.version instead.\n",
      "\n",
      "D:\\AnacondaS\\lib\\site-packages\\daal4py\\sklearn\\_utils.py:59: DeprecationWarning:\n",
      "\n",
      "distutils Version classes are deprecated. Use packaging.version instead.\n",
      "\n",
      "D:\\AnacondaS\\lib\\site-packages\\daal4py\\sklearn\\_utils.py:59: DeprecationWarning:\n",
      "\n",
      "distutils Version classes are deprecated. Use packaging.version instead.\n",
      "\n",
      "D:\\AnacondaS\\lib\\site-packages\\daal4py\\sklearn\\_utils.py:59: DeprecationWarning:\n",
      "\n",
      "distutils Version classes are deprecated. Use packaging.version instead.\n",
      "\n",
      "D:\\AnacondaS\\lib\\site-packages\\daal4py\\sklearn\\_utils.py:59: DeprecationWarning:\n",
      "\n",
      "distutils Version classes are deprecated. Use packaging.version instead.\n",
      "\n",
      "D:\\AnacondaS\\lib\\site-packages\\daal4py\\sklearn\\_utils.py:59: DeprecationWarning:\n",
      "\n",
      "distutils Version classes are deprecated. Use packaging.version instead.\n",
      "\n",
      "D:\\AnacondaS\\lib\\site-packages\\daal4py\\sklearn\\_utils.py:59: DeprecationWarning:\n",
      "\n",
      "distutils Version classes are deprecated. Use packaging.version instead.\n",
      "\n",
      "D:\\AnacondaS\\lib\\site-packages\\daal4py\\sklearn\\_utils.py:59: DeprecationWarning:\n",
      "\n",
      "distutils Version classes are deprecated. Use packaging.version instead.\n",
      "\n",
      "D:\\AnacondaS\\lib\\site-packages\\daal4py\\sklearn\\_utils.py:59: DeprecationWarning:\n",
      "\n",
      "distutils Version classes are deprecated. Use packaging.version instead.\n",
      "\n",
      "D:\\AnacondaS\\lib\\site-packages\\daal4py\\sklearn\\_utils.py:59: DeprecationWarning:\n",
      "\n",
      "distutils Version classes are deprecated. Use packaging.version instead.\n",
      "\n",
      "No QCoreApplication instance found. Application patches not applied. You have to call load_stylesheet function after instantiation of QApplication to take effect. \n",
      "D:\\AnacondaS\\lib\\site-packages\\tables\\__init__.py:24: DeprecationWarning:\n",
      "\n",
      "`np.typeDict` is a deprecated alias for `np.sctypeDict`.\n",
      "\n",
      "D:\\AnacondaS\\lib\\site-packages\\tables\\__init__.py:24: DeprecationWarning:\n",
      "\n",
      "`np.typeDict` is a deprecated alias for `np.sctypeDict`.\n",
      "\n",
      "D:\\AnacondaS\\lib\\site-packages\\tensorboard\\_vendor\\html5lib\\filters\\sanitizer.py:29: DeprecationWarning:\n",
      "\n",
      "html5lib's sanitizer is deprecated; see https://github.com/html5lib/html5lib-python/issues/443 and please let us know if Bleach is unsuitable for your needs\n",
      "\n",
      "D:\\AnacondaS\\lib\\site-packages\\torch\\distributed\\_sharding_spec\\__init__.py:8: DeprecationWarning:\n",
      "\n",
      "torch.distributed._sharding_spec will be deprecated, use torch.distributed._shard.sharding_spec instead\n",
      "\n",
      "NOTE: Redirects are currently not supported in Windows or MacOs.\n",
      "D:\\AnacondaS\\lib\\site-packages\\torchaudio\\backend\\utils.py:66: UserWarning:\n",
      "\n",
      "No audio backend is available.\n",
      "\n",
      "D:\\AnacondaS\\lib\\pkgutil.py:108: VisibleDeprecationWarning:\n",
      "\n",
      "zmq.eventloop.minitornado is deprecated in pyzmq 14.0 and will be removed.\n",
      "    Install tornado itself to use zmq with the tornado IOLoop.\n",
      "    \n",
      "\n"
     ]
    },
    {
     "name": "stdout",
     "output_type": "stream",
     "text": [
      "Cython              commctrl            mmap                socks\n",
      "Day2_practice       compileall          mmapfile            sockshandler\n",
      "Day6_practice       comtypes            mmsystem            sortedcollections\n",
      "Day7_practicePython concurrent          mock                sortedcontainers\n",
      "IPython             conda               modulefinder        soupsieve\n",
      "OpenSSL             conda_build         mpmath              spacy\n",
      "PIL                 conda_content_trust msgpack             spacy_legacy\n",
      "Practice Python     conda_env           msilib              spacy_loggers\n",
      "PyQt5               conda_pack          msvcrt              sphinx\n",
      "Python_Practice     conda_package_handling multidict           spyder\n",
      "TBB                 conda_token         multipledispatch    spyder_kernels\n",
      "__future__          conda_verify        multiprocessing     sqlalchemy\n",
      "_abc                confection          munkres             sqlite3\n",
      "_aix_support        configparser        murmurhash          sre_compile\n",
      "_argon2_cffi_bindings constantly          mypy_extensions     sre_constants\n",
      "_ast                contextlib          nacl                sre_parse\n",
      "_asyncio            contextvars         navigator_updater   srsly\n",
      "_bisect             cookiecutter        nbclassic           ssl\n",
      "_black_version      copy                nbclient            sspi\n",
      "_blake2             copyreg             nbconvert           sspicon\n",
      "_bootlocale         crypt               nbformat            stack_data\n",
      "_bootsubprocess     cryptography        nest_asyncio        stat\n",
      "_bz2                cssselect           netbios             statistics\n",
      "_cffi_backend       csv                 netrc               statsmodels\n",
      "_codecs             ctypes              networkx            string\n",
      "_codecs_cn          cufflinks           nltk                stringprep\n",
      "_codecs_hk          curl                nntplib             struct\n",
      "_codecs_iso2022     curses              nose                subprocess\n",
      "_codecs_jp          cv2                 notebook            sunau\n",
      "_codecs_kr          cwp                 nt                  symbol\n",
      "_codecs_tw          cycler              ntpath              sympy\n",
      "_collections        cymem               ntsecuritycon       symtable\n",
      "_collections_abc    cython              nturl2path          sys\n",
      "_compat_pickle      cytoolz             numba               sysconfig\n",
      "_compression        daal4py             numbergen           tables\n",
      "_contextvars        dask                numbers             tabnanny\n",
      "_csv                dataclasses         numexpr             tabulate\n",
      "_ctypes             datashader          numpy               tarfile\n",
      "_ctypes_test        datashape           numpydoc            tbb\n",
      "_datetime           datetime            oauthlib            tblib\n",
      "_decimal            dateutil            odbc                telnetlib\n",
      "_distutils_hack     day5 _python_practice olefile             tempfile\n",
      "_elementtree        dbi                 onedal              tenacity\n",
      "_functools          dbm                 opcode              tensorboard\n",
      "_hashlib            dde                 openpyxl            tensorboard_data_server\n",
      "_heapq              debugpy             operator            tensorboard_plugin_wit\n",
      "_imp                decimal             opt_einsum          tensorflow\n",
      "_io                 decorator           optparse            tensorflow_estimator\n",
      "_json               defusedxml          os                  tensorflow_io_gcs_filesystem\n",
      "_locale             diff_match_patch    packaging           termcolor\n",
      "_lsprof             difflib             pandas              terminado\n",
      "_lzma               dis                 pandocfilters       test\n",
      "_markupbase         distributed         panel               test_pycosat\n",
      "_md5                distutils           param               testpath\n",
      "_msi                doctest             paramiko            text_unidecode\n",
      "_multibytecodec     docutils            parsel              textdistance\n",
      "_multiprocessing    email               parser              textwrap\n",
      "_nsis               en_core_web_sm      parso               thinc\n",
      "_opcode             encodings           partd               this\n",
      "_operator           ensurepip           past                threading\n",
      "_osx_support        entrypoints         pasta               threadpoolctl\n",
      "_overlapped         enum                pathlib             three_merge\n",
      "_peg_parser         erfa                pathspec            tifffile\n",
      "_pickle             errno               patsy               time\n",
      "_plotly_future_     et_xmlfile          pdb                 timeit\n",
      "_plotly_utils       executing           pep8                timer\n",
      "_py_abc             fastjsonschema      perfmon             tinycss\n",
      "_pydecimal          faulthandler        pexpect             tkinter\n",
      "_pyio               filecmp             pickle              tldextract\n",
      "_pyrsistent_version fileinput           pickleshare         tlz\n",
      "_pytest             filelock            pickletools         token\n",
      "_queue              flake8              pip                 tokenize\n",
      "_random             flask               pipes               toml\n",
      "_sha1               flatbuffers         pkg_resources       tomli\n",
      "_sha256             fnmatch             pkginfo             toolz\n",
      "_sha3               folium              pkgutil             torch\n",
      "_sha512             fontTools           platform            torchaudio\n",
      "_signal             formatter           plistlib            torchvision\n",
      "_sitebuiltins       fractions           plotly              tornado\n",
      "_socket             frozenlist          pluggy              tqdm\n",
      "_sqlite3            fsspec              poplib              trace\n",
      "_sre                ftplib              posixpath           traceback\n",
      "_ssl                functools           poyo                tracemalloc\n",
      "_stat               future              pprint              traitlets\n",
      "_statistics         gast                preshed             tty\n",
      "_string             gc                  profile             turtle\n",
      "_strptime           genericpath         prometheus_client   turtledemo\n",
      "_struct             gensim              prompt_toolkit      twisted\n",
      "_symtable           getopt              protego             typed_ast\n",
      "_system_path        getpass             pstats              typer\n",
      "_testbuffer         gettext             psutil              types\n",
      "_testcapi           glob                pty                 typing\n",
      "_testconsole        glob2               ptyprocess          typing_extensions\n",
      "_testimportmultiple google_auth_oauthlib pure_eval           ucimlrepo\n",
      "_testinternalcapi   google_crc32c       pvectorc            ujson\n",
      "_testmultiphase     graphlib            py                  unicodedata\n",
      "_thread             graphviz            py_compile          unidecode\n",
      "_threading_local    greenlet            pyasn1              unittest\n",
      "_tkinter            grpc                pyasn1_modules      urllib\n",
      "_tracemalloc        gym                 pyclbr              urllib3\n",
      "_uuid               gym_notices         pycodestyle         uu\n",
      "_warnings           gzip                pycosat             uuid\n",
      "_weakref            h5py                pycparser           venv\n",
      "_weakrefset         hamcrest            pyct                w3lib\n",
      "_win32sysloader     hashlib             pycurl              warnings\n",
      "_winapi             heapdict            pydantic            wasabi\n",
      "_winxptheme         heapq               pydantic_core       watchdog\n",
      "_xxsubinterpreters  hmac                pydispatch          wave\n",
      "_yaml               holoviews           pydoc               wcwidth\n",
      "_zoneinfo           html                pydoc_data          weakref\n",
      "abc                 http                pydocstyle          weasel\n",
      "absl                hvplot              pydot               webbrowser\n",
      "adodbapi            hyperlink           pydotplus           webencodings\n",
      "afxres              idlelib             pyexpat             websocket\n",
      "aifc                idna                pyflakes            werkzeug\n",
      "aiohttp             imagecodecs         pygame              wheel\n",
      "aiosignal           imageio             pygments            widgetsnbextension\n",
      "alabaster           imagesize           pylab               wikipedia\n",
      "anaconda_navigator  imaplib             pylint              win2kras\n",
      "anaconda_project    imghdr              pyls_spyder         win32api\n",
      "annotated_types     imp                 pylsp               win32clipboard\n",
      "antigravity         importlib           pylsp_black         win32com\n",
      "anyio               importlib_metadata  pylsp_jsonrpc       win32con\n",
      "appdirs             incremental         pyodbc              win32console\n",
      "apyori              inflection          pyparsing           win32cred\n",
      "argon2              iniconfig           pyreadline          win32crypt\n",
      "argparse            inspect             pyrsistent          win32cryptcon\n",
      "array               intake              pytest              win32ctypes\n",
      "arrow               intervaltree        python_practice_file win32event\n",
      "ast                 io                  pythoncom           win32evtlog\n",
      "astroid             ipaddress           pytz                win32evtlogutil\n",
      "astropy             ipykernel           pyviz_comms         win32file\n",
      "asttokens           ipykernel_launcher  pywin               win32gui\n",
      "astunparse          ipython_genutils    pywin32_bootstrap   win32gui_struct\n",
      "async_timeout       ipywidgets          pywin32_testutil    win32help\n",
      "asynchat            isapi               pywintypes          win32inet\n",
      "asyncio             isort               pywt                win32inetcon\n",
      "asyncore            isympy              pyximport           win32job\n",
      "atexit              itemadapter         qdarkstyle          win32lz\n",
      "atomicwrites        itemloaders         qstylizer           win32net\n",
      "attr                itertools           qtawesome           win32netcon\n",
      "attrs               itsdangerous        qtconsole           win32pdh\n",
      "audioop             jdcal               qtpy                win32pdhquery\n",
      "automat             jedi                queue               win32pdhutil\n",
      "autopep8            jinja2              queuelib            win32pipe\n",
      "babel               jinja2_time         quopri              win32print\n",
      "backcall            jmespath            random              win32process\n",
      "backports           joblib              rasutil             win32profile\n",
      "base64              json                re                  win32ras\n",
      "bcrypt              json5               readline            win32rcparser\n",
      "bdb                 jsonschema          regcheck            win32security\n",
      "binaryornot         jupyter             regex               win32service\n",
      "binascii            jupyter_client      regutil             win32serviceutil\n",
      "binhex              jupyter_console     repo_cli            win32timezone\n",
      "binstar_client      jupyter_core        reprlib             win32trace\n",
      "bisect              jupyter_server      requests            win32traceutil\n",
      "bitarray            jupyterlab          requests_file       win32transaction\n",
      "bkcharts            jupyterlab_plotly   requests_oauthlib   win32ts\n",
      "black               jupyterlab_pygments rlcompleter         win32ui\n",
      "blackd              jupyterlab_server   rope                win32uiole\n",
      "bleach              jupyterlab_widgets  rsa                 win32verstamp\n",
      "blib2to3            jwt                 rtree               win32wnet\n",
      "blis                keras               ruamel_yaml         win_inet_pton\n",
      "bokeh               keras_preprocessing run                 win_unicode_console\n",
      "boto3               keyring             runpy               wincertstore\n",
      "botocore            keyword             s3transfer          winerror\n",
      "bottleneck          kiwisolver          sched               winioctlcon\n",
      "branca              langcodes           scipy               winnt\n",
      "brotli              language_data       scrapy              winperf\n",
      "bs4                 lazy_object_proxy   seaborn             winpty\n",
      "builtins            lib2to3             secrets             winreg\n",
      "bz2                 libarchive          select              winsound\n",
      "cProfile            libfuturize         selectors           winxpgui\n",
      "cachetools          libpasteurize       send2trash          winxptheme\n",
      "caffe2              lief                service_identity    wordcloud\n",
      "calendar            linecache           servicemanager      wrapt\n",
      "catalogue           llvmlite            setuptools          wsgiref\n",
      "certifi             locale              shelve              xarray\n",
      "cffi                locket              shlex               xdrlib\n",
      "cgi                 logging             shutil              xlrd\n",
      "cgitb               lxml                signal              xlsxwriter\n",
      "chardet             lzma                sip                 xlwings\n",
      "charset_normalizer  mailbox             sipconfig           xml\n",
      "chunk               mailcap             sipdistutils        xmlrpc\n",
      "clang               marisa_trie         site                xxsubtype\n",
      "click               markdown            six                 xyzservices\n",
      "cloudpathlib        markupsafe          skimage             yaml\n",
      "cloudpickle         marshal             sklearn             yapf\n",
      "clyent              math                sklearnex           yapftests\n",
      "cmath               matplotlib          slugify             yarl\n",
      "cmd                 matplotlib_inline   smart_open          zict\n",
      "code                mccabe              smtpd               zipapp\n",
      "codecs              menuinst            smtplib             zipfile\n",
      "codeop              mimetypes           snappy              zipimport\n",
      "collections         mistune             sndhdr              zipp\n",
      "colorama            mkl                 sniffio             zlib\n",
      "colorcet            mkl_fft             snowballstemmer     zmq\n",
      "colorlover          mkl_random          socket              zoneinfo\n",
      "colorsys            mlxtend             socketserver        zope\n",
      "\n",
      "Enter any module name to get more help.  Or, type \"modules spam\" to search\n",
      "for modules whose name or summary contain the string \"spam\".\n",
      "\n"
     ]
    }
   ],
   "source": [
    "help(\"modules\")"
   ]
  },
  {
   "cell_type": "code",
   "execution_count": null,
   "id": "184ad817",
   "metadata": {},
   "outputs": [],
   "source": [
    "# #### Identifiers : Names given objects or variables or functions or classes \n",
    "# ## rules for identifiers :\n",
    "# * Start with either a letter ( A - Z a -z) or an underscore (_)\n",
    "# * can be followed by any combination of letters (A-Z a -z) digits (0-9) and underscore \n",
    "# * NO punctuation or special character allowed\n",
    "# * Case Sensitive\n",
    "# * No reserved words can be used as identifiers : class if else return def for in \n",
    "# * NO predefined/ builtins should be used as identifiers : print len int str "
   ]
  },
  {
   "cell_type": "code",
   "execution_count": 10,
   "id": "fd339717",
   "metadata": {},
   "outputs": [],
   "source": [
    "# ### Python DataTypes \n",
    "# 1. Numerical\n",
    "#     * int \n",
    "#     * float\n",
    "#     * complex\n",
    "#     * bool\n",
    "# 2. Character/string : stringtype "
   ]
  },
  {
   "cell_type": "code",
   "execution_count": 11,
   "id": "28559fcb",
   "metadata": {},
   "outputs": [
    {
     "name": "stdout",
     "output_type": "stream",
     "text": [
      "['In', 'Out', '_', '_4', '_8', '__', '___', '__builtin__', '__builtins__', '__doc__', '__loader__', '__name__', '__package__', '__spec__', '_dh', '_i', '_i1', '_i10', '_i11', '_i2', '_i3', '_i4', '_i5', '_i6', '_i7', '_i8', '_i9', '_ih', '_ii', '_iii', '_oh', 'exit', 'get_ipython', 'platform', 'quit', 'sys']\n"
     ]
    }
   ],
   "source": [
    "print(dir())"
   ]
  },
  {
   "cell_type": "code",
   "execution_count": 12,
   "id": "96a37f2e",
   "metadata": {},
   "outputs": [],
   "source": [
    "a = 32\n",
    "b = 24.0\n",
    "c = 12 + 4j\n",
    "d = True\n",
    "e = False"
   ]
  },
  {
   "cell_type": "code",
   "execution_count": 13,
   "id": "012a2d78",
   "metadata": {},
   "outputs": [],
   "source": [
    "a = 32; b=24.0;c=12+4j ; d=True;e=False"
   ]
  },
  {
   "cell_type": "code",
   "execution_count": 17,
   "id": "43af3772",
   "metadata": {},
   "outputs": [
    {
     "data": {
      "text/plain": [
       "int"
      ]
     },
     "execution_count": 17,
     "metadata": {},
     "output_type": "execute_result"
    }
   ],
   "source": [
    "type(a)"
   ]
  },
  {
   "cell_type": "code",
   "execution_count": 16,
   "id": "97a471de",
   "metadata": {},
   "outputs": [
    {
     "data": {
      "text/plain": [
       "float"
      ]
     },
     "execution_count": 16,
     "metadata": {},
     "output_type": "execute_result"
    }
   ],
   "source": [
    "type(b)\n"
   ]
  },
  {
   "cell_type": "code",
   "execution_count": 18,
   "id": "40a7ed41",
   "metadata": {},
   "outputs": [
    {
     "data": {
      "text/plain": [
       "complex"
      ]
     },
     "execution_count": 18,
     "metadata": {},
     "output_type": "execute_result"
    }
   ],
   "source": [
    "type(c)"
   ]
  },
  {
   "cell_type": "code",
   "execution_count": 19,
   "id": "4700abe7",
   "metadata": {},
   "outputs": [],
   "source": [
    "a,b,c,d,e = 32,24.56,15_4j,True,False"
   ]
  },
  {
   "cell_type": "code",
   "execution_count": 28,
   "id": "01222546",
   "metadata": {},
   "outputs": [
    {
     "name": "stdout",
     "output_type": "stream",
     "text": [
      "32\n",
      "<class 'int'>\n",
      "24.56\n",
      "<class 'float'>\n",
      "<class 'complex'>\n",
      "<class 'bool'>\n",
      "<class 'bool'>\n"
     ]
    }
   ],
   "source": [
    "print(a,type(a),b,type(b),type(c),type(d),type(e), sep ='\\n')"
   ]
  },
  {
   "cell_type": "code",
   "execution_count": 20,
   "id": "ccdbd8f1",
   "metadata": {},
   "outputs": [],
   "source": [
    "s = \"hello world\""
   ]
  },
  {
   "cell_type": "code",
   "execution_count": 21,
   "id": "5df86f05",
   "metadata": {},
   "outputs": [
    {
     "data": {
      "text/plain": [
       "'hello world'"
      ]
     },
     "execution_count": 21,
     "metadata": {},
     "output_type": "execute_result"
    }
   ],
   "source": [
    "s"
   ]
  },
  {
   "cell_type": "code",
   "execution_count": null,
   "id": "9a1c0297",
   "metadata": {},
   "outputs": [],
   "source": [
    "# ### Operators in Python :\n",
    "# * Assignment operator : = \n",
    "# * Arithmetic Operators : + - / *  ** (exponent) % (modulus) // (integer divide) \n",
    "# * Arithmetic combined with assignment operators : a = a+b can be written as a += b . : += -= \n",
    "# * Realtional Operators : == , != , > < >= <=\n",
    "# * Logical operators and - &, or - | , not , in, not in\n"
   ]
  },
  {
   "cell_type": "code",
   "execution_count": 36,
   "id": "47955c5d",
   "metadata": {},
   "outputs": [
    {
     "name": "stdout",
     "output_type": "stream",
     "text": [
      "5\n",
      "6\n",
      "0.6666666666666666\n",
      "2\n",
      "8\n"
     ]
    }
   ],
   "source": [
    "num1=2\n",
    "num2=3\n",
    "sum1=num1+num2\n",
    "prod1= num1*num2\n",
    "div1 = num1/num2\n",
    "div2 = num1//num2\n",
    "mod1= num1 % num2\n",
    "prd2 = num1 ** num2\n",
    "print(sum1)\n",
    "print(prod1)\n",
    "print(div1)\n",
    "print(mod1)\n",
    "print(prd2)"
   ]
  },
  {
   "cell_type": "code",
   "execution_count": 37,
   "id": "e793511a",
   "metadata": {},
   "outputs": [],
   "source": [
    "a = 10\n",
    "b =20"
   ]
  },
  {
   "cell_type": "code",
   "execution_count": 38,
   "id": "9fac969b",
   "metadata": {},
   "outputs": [
    {
     "data": {
      "text/plain": [
       "True"
      ]
     },
     "execution_count": 38,
     "metadata": {},
     "output_type": "execute_result"
    }
   ],
   "source": [
    "a == 10"
   ]
  },
  {
   "cell_type": "code",
   "execution_count": 39,
   "id": "8953661c",
   "metadata": {},
   "outputs": [
    {
     "data": {
      "text/plain": [
       "False"
      ]
     },
     "execution_count": 39,
     "metadata": {},
     "output_type": "execute_result"
    }
   ],
   "source": [
    "a > 10"
   ]
  },
  {
   "cell_type": "code",
   "execution_count": 40,
   "id": "f233dd2f",
   "metadata": {},
   "outputs": [
    {
     "data": {
      "text/plain": [
       "True"
      ]
     },
     "execution_count": 40,
     "metadata": {},
     "output_type": "execute_result"
    }
   ],
   "source": [
    "a != b"
   ]
  },
  {
   "cell_type": "code",
   "execution_count": 54,
   "id": "21de2ca5",
   "metadata": {},
   "outputs": [
    {
     "data": {
      "text/plain": [
       "True"
      ]
     },
     "execution_count": 54,
     "metadata": {},
     "output_type": "execute_result"
    }
   ],
   "source": [
    "#membership operators\n",
    "##in and not in\n",
    "\n",
    "##in operators returns true if a variable is found in specified sequence and false otherwise\n",
    "\n",
    "a is not b"
   ]
  },
  {
   "cell_type": "code",
   "execution_count": 41,
   "id": "04c4caae",
   "metadata": {},
   "outputs": [
    {
     "data": {
      "text/plain": [
       "False"
      ]
     },
     "execution_count": 41,
     "metadata": {},
     "output_type": "execute_result"
    }
   ],
   "source": [
    "a == b"
   ]
  },
  {
   "cell_type": "code",
   "execution_count": 42,
   "id": "daa4e5b3",
   "metadata": {},
   "outputs": [
    {
     "name": "stdout",
     "output_type": "stream",
     "text": [
      "enter your namelakshmi padmasree\n",
      "lakshmi padmasree\n"
     ]
    }
   ],
   "source": [
    "##imput operation\n",
    "\n",
    "name = input(\"enter your name\")\n",
    "print(name)"
   ]
  },
  {
   "cell_type": "code",
   "execution_count": null,
   "id": "25f102e1",
   "metadata": {},
   "outputs": [],
   "source": [
    "#enter sub1 marks,sub2 marks and the print the output"
   ]
  },
  {
   "cell_type": "code",
   "execution_count": 57,
   "id": "eb6faedb",
   "metadata": {},
   "outputs": [
    {
     "name": "stdout",
     "output_type": "stream",
     "text": [
      "9090\n",
      "8080\n",
      "170\n"
     ]
    }
   ],
   "source": [
    "sub1 = int(input(sub1))\n",
    "sub2 = int(input(sub2))\n",
    "totalmarks = sub1 + sub2\n",
    "print(totalmarks)"
   ]
  },
  {
   "cell_type": "code",
   "execution_count": 46,
   "id": "48749e95",
   "metadata": {},
   "outputs": [],
   "source": [
    "str1 = \"python\"\n",
    "str2 = \"  programming\"\n"
   ]
  },
  {
   "cell_type": "code",
   "execution_count": 51,
   "id": "868250eb",
   "metadata": {},
   "outputs": [],
   "source": [
    "str1 +=str2"
   ]
  },
  {
   "cell_type": "code",
   "execution_count": 52,
   "id": "6a76fd99",
   "metadata": {},
   "outputs": [
    {
     "name": "stdout",
     "output_type": "stream",
     "text": [
      "python  programming  programming\n"
     ]
    }
   ],
   "source": [
    "print(str1)"
   ]
  },
  {
   "cell_type": "code",
   "execution_count": 56,
   "id": "5d6f9d12",
   "metadata": {},
   "outputs": [
    {
     "name": "stdout",
     "output_type": "stream",
     "text": [
      "Enter basic salary : 34567\n",
      "Total Salary : 39752.050000\n"
     ]
    }
   ],
   "source": [
    "basic_pay = float(input('Enter basic salary : '))\n",
    "HRA = 0.1 * basic_pay\n",
    "TA = 0.05 * basic_pay\n",
    "salary = basic_pay + HRA + TA\n",
    "print('Total Salary : %f' % salary)"
   ]
  },
  {
   "cell_type": "code",
   "execution_count": 58,
   "id": "b037179e",
   "metadata": {},
   "outputs": [],
   "source": [
    "\n",
    "##Conditional branching statements\n",
    "##python supports different types of conditional branching statements\n",
    "#if statement\n",
    "#if-else statement\n",
    "#nested if statement\n",
    "#if-elif-else statment\n",
    "\n",
    "## if statement is the simpliest form of decision control statements\n",
    "#that is frequenty used in decision making\n"
   ]
  },
  {
   "cell_type": "code",
   "execution_count": 61,
   "id": "f46fe3c1",
   "metadata": {},
   "outputs": [
    {
     "name": "stdout",
     "output_type": "stream",
     "text": [
      "please enter a number11\n"
     ]
    }
   ],
   "source": [
    "\n",
    "## check the given number is even or odd number\n",
    "num = int(input(\"please enter a number\"))"
   ]
  },
  {
   "cell_type": "code",
   "execution_count": 62,
   "id": "3c73fc41",
   "metadata": {},
   "outputs": [
    {
     "name": "stdout",
     "output_type": "stream",
     "text": [
      "Odd\n"
     ]
    }
   ],
   "source": [
    "## given number is even or odd\n",
    "if (num%2 == 0):\n",
    "    print(\"Even\")\n",
    "else:\n",
    "    print(\"Odd\")"
   ]
  },
  {
   "cell_type": "code",
   "execution_count": 63,
   "id": "a82f2232",
   "metadata": {},
   "outputs": [
    {
     "name": "stdout",
     "output_type": "stream",
     "text": [
      "Enter the value of a:30\n",
      "Enter the value of b40\n",
      "greatest  40\n"
     ]
    }
   ],
   "source": [
    "## write a program to find the greatest of two numbers\n",
    "\n",
    "\n",
    "a = int(input(\"Enter the value of a:\"))\n",
    "b = int(input(\"Enter the value of b\"))\n",
    "if (a > b):\n",
    "    greatest = a\n",
    "else:\n",
    "    greatest = b\n",
    "print(\"greatest \", greatest)\n"
   ]
  },
  {
   "cell_type": "code",
   "execution_count": 67,
   "id": "66508a25",
   "metadata": {},
   "outputs": [
    {
     "name": "stdout",
     "output_type": "stream",
     "text": [
      "Enter the value of a2\n",
      "Enter the value of b3\n",
      "Enter the value of c4\n",
      "greatest  4\n"
     ]
    }
   ],
   "source": [
    "## write a program to find the greatest of three numbers\n",
    "\n",
    "\n",
    "a = int(input(\"Enter the value of a\"))\n",
    "b = int(input(\"Enter the value of b\"))\n",
    "c = int(input(\"Enter the value of c\"))\n",
    "if (a > b) and (a>c):\n",
    "    greatest = a\n",
    "elif (b >= a) and (b >= c):\n",
    "     greatest = b\n",
    "else:\n",
    "      greatest = c   \n",
    "print(\"greatest \", greatest)"
   ]
  },
  {
   "cell_type": "code",
   "execution_count": 71,
   "id": "90d069a7",
   "metadata": {},
   "outputs": [
    {
     "name": "stdout",
     "output_type": "stream",
     "text": [
      "Enter the number23\n",
      "Not divisible by 5\n"
     ]
    }
   ],
   "source": [
    "\n",
    "#Enter any number as input and show the number divisible by 5\n",
    "num = int(input(\"Enter the number\"))\n",
    "if(num % 5 == 0) :\n",
    "    print (\"Divisible by 5\")\n",
    "else:\n",
    "    print (\"Not divisible by 5\")\n"
   ]
  },
  {
   "cell_type": "code",
   "execution_count": 74,
   "id": "6e31306f",
   "metadata": {},
   "outputs": [
    {
     "name": "stdout",
     "output_type": "stream",
     "text": [
      "Enter a number: 43\n",
      "2\n"
     ]
    }
   ],
   "source": [
    "# how much you need to add or subtract to make the number divisible by 5\n",
    "\n",
    "num = int(input(\"Enter a number: \"))\n",
    "remainder = num%5\n",
    "if remainder <= 2:\n",
    "    print(f\"-{remainder}\")\n",
    "else:\n",
    "    print(5-remainder)"
   ]
  },
  {
   "cell_type": "code",
   "execution_count": 76,
   "id": "a90cfeb9",
   "metadata": {},
   "outputs": [
    {
     "name": "stdout",
     "output_type": "stream",
     "text": [
      "Enter a number : 23\n",
      "3  shoud be subtracted or 7 much be added to 23 to make it completely divisible by 5 \n"
     ]
    }
   ],
   "source": [
    "#number divisible by 5\n",
    "num = int(input (\"Enter a number : \"))\n",
    "rem = num%5\n",
    "if(rem == 0):\n",
    "    print(\"The number is divisible by 5\")\n",
    "else:\n",
    "    print(rem, \n",
    "          \" shoud be subtracted or %d much be added to %d to make it completely divisible by 5 \" %(10-rem,num))"
   ]
  },
  {
   "cell_type": "code",
   "execution_count": 79,
   "id": "7ee1ae28",
   "metadata": {},
   "outputs": [
    {
     "name": "stdout",
     "output_type": "stream",
     "text": [
      "Enter the marks: 30\n",
      "Marks: 30, Grade: F\n"
     ]
    }
   ],
   "source": [
    "\n",
    "# take input marks and grade them :\n",
    "# A => 90 and above\n",
    "# B => 75 - 90\n",
    "# C => 55 - 75\n",
    "# D => 35 - 55\n",
    "# F => <35\n",
    "\n",
    "marks = int(input(\"Enter the marks: \")) \n",
    "\n",
    "if  (marks >= 90):\n",
    "            grade = 'A'\n",
    "elif(75 <= marks < 90):\n",
    "           grade = 'B'\n",
    "elif (55 <= marks < 75):\n",
    "        grade = 'C'\n",
    "elif (35 <= marks < 55):\n",
    "            grade = 'D'\n",
    "else:\n",
    "            grade = 'F'\n",
    "\n",
    "print(f\"Marks: {marks}, Grade: {grade}\")"
   ]
  },
  {
   "cell_type": "code",
   "execution_count": 82,
   "id": "4a747b77",
   "metadata": {},
   "outputs": [
    {
     "name": "stdout",
     "output_type": "stream",
     "text": [
      "enter a number12345\n",
      "number is <=9 or >=9999\n"
     ]
    }
   ],
   "source": [
    "## accept a  number and print whether it is  two digit number or three\n",
    "##digit number else print it more than three digits\n",
    "\n",
    "num = int(input(\"enter a number\"))\n",
    "if 9 < num < 99:\n",
    "    print(\"this is two digit number\")\n",
    "elif 99 < num < 999:\n",
    "    print(\"Three digit nuber\")\n",
    "elif 999 < num < 9999:\n",
    "    print (\"Four digit number\")\n",
    "else:\n",
    "    print(\"number is <=9 or >=9999\")\n",
    "\n"
   ]
  },
  {
   "cell_type": "code",
   "execution_count": null,
   "id": "c45bf658",
   "metadata": {},
   "outputs": [],
   "source": [
    "##Write a program to determine the character entered is a vowel or not\n",
    "\n",
    "\n"
   ]
  },
  {
   "cell_type": "code",
   "execution_count": null,
   "id": "292114eb",
   "metadata": {},
   "outputs": [],
   "source": [
    "## iterative control structures\n",
    "##for loop\n",
    "##while loop\n",
    "#python supports basic loop structures.\n",
    "#Iterative statements are used to repeat the execution of one or more statements\n",
    "#In python, iterative statements are implemented through \n",
    "#while loop and for loop and nested loops\n",
    "\n",
    "\n",
    "## for loop when i know the number of iterations \n",
    "#( ex is want print first 5 number)\n",
    "\n",
    "## while loop --  condition - when the condition is met exit from loop\n",
    "\n",
    "#statement x\n",
    "'''\n",
    "while (condition) :\n",
    "    statement block\n",
    "statement y\n",
    "'''\n",
    "\n"
   ]
  },
  {
   "cell_type": "code",
   "execution_count": 83,
   "id": "be93a136",
   "metadata": {},
   "outputs": [
    {
     "name": "stdout",
     "output_type": "stream",
     "text": [
      "0 2 4 6 8 10 "
     ]
    }
   ],
   "source": [
    "\n",
    "## To print first 10 number using while loop\n",
    "i = 0\n",
    "while(i<=10):\n",
    "    print(i, end = ' ')\n",
    "    i = i+2\n",
    "    "
   ]
  },
  {
   "cell_type": "code",
   "execution_count": 84,
   "id": "54ba52b9",
   "metadata": {},
   "outputs": [
    {
     "name": "stdout",
     "output_type": "stream",
     "text": [
      "sum of first 10 numbers 55\n",
      "Average of first 10 numbers 5.5\n"
     ]
    }
   ],
   "source": [
    "## write a program to calculate the sum and avg of first 10 numbers\n",
    "\n",
    "\n",
    "sum =0\n",
    "for i in range(11):\n",
    "    sum+=i\n",
    "print('sum of first 10 numbers', sum)\n",
    "average = sum /10;\n",
    "print (\"Average of first 10 numbers\", average)"
   ]
  },
  {
   "cell_type": "code",
   "execution_count": 85,
   "id": "34dff9b3",
   "metadata": {},
   "outputs": [
    {
     "name": "stdout",
     "output_type": "stream",
     "text": [
      "0\n",
      "1\n",
      "2\n",
      "3\n",
      "4\n",
      "5\n",
      "6\n",
      "7\n",
      "8\n",
      "9\n",
      "10\n",
      "The sum of first 10 digits : 55\n",
      "The average of first 10 numbers is : 5.5\n"
     ]
    }
   ],
   "source": [
    "i = 0\n",
    "s = 0\n",
    "while(i<=10):\n",
    "    print(i)\n",
    "    s = s + i\n",
    "    i = i + 1\n",
    "\n",
    "avg = s/10\n",
    "\n",
    "print(\"The sum of first 10 digits :\" ,s)\n",
    "print(\"The average of first 10 numbers is :\" ,avg)\n"
   ]
  },
  {
   "cell_type": "code",
   "execution_count": 86,
   "id": "3fcee8dd",
   "metadata": {},
   "outputs": [
    {
     "name": "stdout",
     "output_type": "stream",
     "text": [
      "0 2 4 6 8 10 \n",
      "Total: 30\n",
      "Average: 3.0\n"
     ]
    }
   ],
   "source": [
    "i = 0\n",
    "total = 0\n",
    "while (i <=10):\n",
    "    total += i\n",
    "    print(i, end=\" \")\n",
    "    i+= 2\n",
    "print(f\"\\nTotal: {total}\")\n",
    "print(f\"Average: {total/10}\")"
   ]
  },
  {
   "cell_type": "code",
   "execution_count": null,
   "id": "1b5c2723",
   "metadata": {},
   "outputs": [],
   "source": [
    "#Flow control statements : used with a combination of loop and condition\n",
    "#break : terminates the loop\n",
    "#continue : skips the remaining steps for that iteration"
   ]
  },
  {
   "cell_type": "code",
   "execution_count": 87,
   "id": "8bb9742f",
   "metadata": {},
   "outputs": [
    {
     "name": "stdout",
     "output_type": "stream",
     "text": [
      "1\n",
      "2\n",
      "3\n",
      "4\n",
      "6\n",
      "7\n",
      "8\n",
      "9\n",
      "10\n"
     ]
    }
   ],
   "source": [
    "i = 0\n",
    "while (i < 10):\n",
    "    i = i + 1\n",
    "    if(i == 5):\n",
    "        continue\n",
    "    print(i)"
   ]
  },
  {
   "cell_type": "code",
   "execution_count": 90,
   "id": "93f8fe3d",
   "metadata": {},
   "outputs": [
    {
     "name": "stdout",
     "output_type": "stream",
     "text": [
      "Enter a string (bye to exit) : \n",
      "\n",
      "Enter a string (bye to exit) : \n",
      "\n",
      "Enter a string (bye to exit) : bye\n"
     ]
    }
   ],
   "source": [
    "while True:\n",
    "    str = input (\"Enter a string (bye to exit) : \")\n",
    "    if str == \"bye\":\n",
    "        break\n",
    "    print(str)\n",
    "else:\n",
    "    print(\"Exiting......\")"
   ]
  },
  {
   "cell_type": "code",
   "execution_count": 91,
   "id": "eb8a2491",
   "metadata": {},
   "outputs": [],
   "source": [
    "\n",
    "##For loop\n",
    "#The range() function\n",
    "\n",
    "#The range() is built in function in python that is used to \n",
    "#iterate over a sequence of numbers. The syntax of range()\n",
    "#is range(begin,end,[step])\n",
    "#The range generates a sequence of numbers starting with begin(inclusive) and ending with one less than the end\n",
    "#The step argument is optional, by default every number in the range is increased by 1, but we can specify a different increment using step\n",
    "#it can be both negative and positive but not zero"
   ]
  },
  {
   "cell_type": "code",
   "execution_count": 92,
   "id": "5e9340b8",
   "metadata": {},
   "outputs": [
    {
     "name": "stdout",
     "output_type": "stream",
     "text": [
      "1 2 3 4 5 "
     ]
    }
   ],
   "source": [
    "for i in range(1,6):\n",
    "    print(i,end=' ')"
   ]
  },
  {
   "cell_type": "code",
   "execution_count": 98,
   "id": "63e6bedf",
   "metadata": {},
   "outputs": [
    {
     "name": "stdout",
     "output_type": "stream",
     "text": [
      "0 2 4 6 8 "
     ]
    }
   ],
   "source": [
    "for i in range(0,10,2):\n",
    "    print(i,end=' ')"
   ]
  },
  {
   "cell_type": "code",
   "execution_count": 99,
   "id": "e83308ef",
   "metadata": {},
   "outputs": [
    {
     "name": "stdout",
     "output_type": "stream",
     "text": [
      "P Y T H O N "
     ]
    }
   ],
   "source": [
    "for i in \"PYTHON\":\n",
    "    print(i,end=' ')"
   ]
  },
  {
   "cell_type": "code",
   "execution_count": null,
   "id": "3a8ade0f",
   "metadata": {},
   "outputs": [],
   "source": []
  },
  {
   "cell_type": "code",
   "execution_count": 102,
   "id": "098b3d48",
   "metadata": {
    "collapsed": true
   },
   "outputs": [
    {
     "name": "stdout",
     "output_type": "stream",
     "text": [
      "1\n",
      "2\n",
      "3\n",
      "4\n",
      "6\n",
      "7\n",
      "8\n",
      "9\n",
      "11\n",
      "12\n",
      "13\n",
      "14\n",
      "16\n",
      "17\n",
      "18\n",
      "19\n"
     ]
    }
   ],
   "source": [
    "for i in range(1,20):\n",
    "    if i%5 == 0:\n",
    "        continue\n",
    "    else:\n",
    "        print(i)"
   ]
  },
  {
   "cell_type": "code",
   "execution_count": null,
   "id": "f5d93ef4",
   "metadata": {},
   "outputs": [],
   "source": [
    "## Datastructures\n",
    "## Tuple()\n",
    "## List []\n",
    "## set {}\n",
    "##Dictionary{key : value}\n"
   ]
  },
  {
   "cell_type": "code",
   "execution_count": 103,
   "id": "c54c3500",
   "metadata": {},
   "outputs": [],
   "source": [
    "#A tuple is one dimensional ,\n",
    "#immutable ordered sequence of items which can have mixed datatypes\n",
    "\n",
    "tup1 = (12,'lakshmi',45.3,(3,2),True)\n"
   ]
  },
  {
   "cell_type": "code",
   "execution_count": 104,
   "id": "8f2254f4",
   "metadata": {},
   "outputs": [
    {
     "data": {
      "text/plain": [
       "(12, 'lakshmi', 45.3, (3, 2), True)"
      ]
     },
     "execution_count": 104,
     "metadata": {},
     "output_type": "execute_result"
    }
   ],
   "source": [
    "tup1"
   ]
  },
  {
   "cell_type": "code",
   "execution_count": 105,
   "id": "e8a2a186",
   "metadata": {},
   "outputs": [
    {
     "data": {
      "text/plain": [
       "45.3"
      ]
     },
     "execution_count": 105,
     "metadata": {},
     "output_type": "execute_result"
    }
   ],
   "source": [
    "##access the dataset at index value 2\n",
    "tup1[2]"
   ]
  },
  {
   "cell_type": "code",
   "execution_count": 106,
   "id": "a16793ec",
   "metadata": {},
   "outputs": [
    {
     "data": {
      "text/plain": [
       "'lakshmi'"
      ]
     },
     "execution_count": 106,
     "metadata": {},
     "output_type": "execute_result"
    }
   ],
   "source": [
    "tup1[1]"
   ]
  },
  {
   "cell_type": "code",
   "execution_count": 107,
   "id": "e15c7743",
   "metadata": {
    "collapsed": true
   },
   "outputs": [
    {
     "ename": "TypeError",
     "evalue": "'tuple' object does not support item assignment",
     "output_type": "error",
     "traceback": [
      "\u001b[1;31m---------------------------------------------------------------------------\u001b[0m",
      "\u001b[1;31mTypeError\u001b[0m                                 Traceback (most recent call last)",
      "Input \u001b[1;32mIn [107]\u001b[0m, in \u001b[0;36m<cell line: 1>\u001b[1;34m()\u001b[0m\n\u001b[1;32m----> 1\u001b[0m tup1[\u001b[38;5;241m1\u001b[39m] \u001b[38;5;241m=\u001b[39m \u001b[38;5;124m'\u001b[39m\u001b[38;5;124mPadmasree\u001b[39m\u001b[38;5;124m'\u001b[39m\n",
      "\u001b[1;31mTypeError\u001b[0m: 'tuple' object does not support item assignment"
     ]
    }
   ],
   "source": [
    "##accessing elements with positive index\n",
    "##tup1[1] = 'Padmasree'\n",
    "\n",
    "##A tuple is immutable and cannot be modified"
   ]
  },
  {
   "cell_type": "code",
   "execution_count": 108,
   "id": "4a8be041",
   "metadata": {},
   "outputs": [
    {
     "data": {
      "text/plain": [
       "True"
      ]
     },
     "execution_count": 108,
     "metadata": {},
     "output_type": "execute_result"
    }
   ],
   "source": [
    "tup1[-1]"
   ]
  },
  {
   "cell_type": "code",
   "execution_count": 109,
   "id": "dd74c071",
   "metadata": {},
   "outputs": [
    {
     "data": {
      "text/plain": [
       "45.3"
      ]
     },
     "execution_count": 109,
     "metadata": {},
     "output_type": "execute_result"
    }
   ],
   "source": [
    "##accesing with negative index\n",
    "tup1[-3]"
   ]
  },
  {
   "cell_type": "code",
   "execution_count": 110,
   "id": "41dbf3fe",
   "metadata": {},
   "outputs": [
    {
     "data": {
      "text/plain": [
       "('lakshmi', 45.3, (3, 2))"
      ]
     },
     "execution_count": 110,
     "metadata": {},
     "output_type": "execute_result"
    }
   ],
   "source": [
    "## count starts from first index and stops before the second index\n",
    "tup1[1:4]"
   ]
  },
  {
   "cell_type": "code",
   "execution_count": null,
   "id": "7bdf18cd",
   "metadata": {},
   "outputs": [],
   "source": [
    "## List -- one dimensional mutable ordered sequence of items \n",
    "#which can be of mixed datatypes"
   ]
  },
  {
   "cell_type": "code",
   "execution_count": 112,
   "id": "a6ef4dbd",
   "metadata": {},
   "outputs": [],
   "source": [
    "list1=['lakshmi',101,25.6,True,11]   ##created a list"
   ]
  },
  {
   "cell_type": "code",
   "execution_count": 113,
   "id": "05fa5fb9",
   "metadata": {},
   "outputs": [
    {
     "data": {
      "text/plain": [
       "['lakshmi', 101, 25.6, True, 11]"
      ]
     },
     "execution_count": 113,
     "metadata": {},
     "output_type": "execute_result"
    }
   ],
   "source": [
    "list1    ##view the list"
   ]
  },
  {
   "cell_type": "code",
   "execution_count": 114,
   "id": "22762579",
   "metadata": {},
   "outputs": [],
   "source": [
    "list1.append('abc') ##add new items"
   ]
  },
  {
   "cell_type": "code",
   "execution_count": 115,
   "id": "210701ae",
   "metadata": {},
   "outputs": [
    {
     "data": {
      "text/plain": [
       "['lakshmi', 101, 25.6, True, 11, 'abc']"
      ]
     },
     "execution_count": 115,
     "metadata": {},
     "output_type": "execute_result"
    }
   ],
   "source": [
    "list1"
   ]
  },
  {
   "cell_type": "code",
   "execution_count": 116,
   "id": "7b024d19",
   "metadata": {},
   "outputs": [],
   "source": [
    "list1.remove(101)  ## remove the items"
   ]
  },
  {
   "cell_type": "code",
   "execution_count": 117,
   "id": "a98b613e",
   "metadata": {},
   "outputs": [
    {
     "data": {
      "text/plain": [
       "['lakshmi', 25.6, True, 11, 'abc']"
      ]
     },
     "execution_count": 117,
     "metadata": {},
     "output_type": "execute_result"
    }
   ],
   "source": [
    "list1"
   ]
  },
  {
   "cell_type": "code",
   "execution_count": 119,
   "id": "61783260",
   "metadata": {},
   "outputs": [],
   "source": [
    "list1.append(101)"
   ]
  },
  {
   "cell_type": "code",
   "execution_count": 123,
   "id": "2e5cd872",
   "metadata": {},
   "outputs": [],
   "source": [
    "list1.insert(3,4)    ## modify list to insert a new item at a certain index"
   ]
  },
  {
   "cell_type": "code",
   "execution_count": 127,
   "id": "5021687a",
   "metadata": {},
   "outputs": [],
   "source": [
    "list1.insert(6,100)"
   ]
  },
  {
   "cell_type": "code",
   "execution_count": 128,
   "id": "abe1f5e0",
   "metadata": {},
   "outputs": [
    {
     "data": {
      "text/plain": [
       "['lakshmi', 25.6, 4, 11, 'abc', 101, 100]"
      ]
     },
     "execution_count": 128,
     "metadata": {},
     "output_type": "execute_result"
    }
   ],
   "source": [
    "list1"
   ]
  },
  {
   "cell_type": "code",
   "execution_count": 126,
   "id": "69102eb4",
   "metadata": {},
   "outputs": [
    {
     "data": {
      "text/plain": [
       "True"
      ]
     },
     "execution_count": 126,
     "metadata": {},
     "output_type": "execute_result"
    }
   ],
   "source": [
    "list1.pop(2)   ##accessing the elements by index position"
   ]
  },
  {
   "cell_type": "code",
   "execution_count": 129,
   "id": "5e20ebcd",
   "metadata": {},
   "outputs": [
    {
     "data": {
      "text/plain": [
       "101"
      ]
     },
     "execution_count": 129,
     "metadata": {},
     "output_type": "execute_result"
    }
   ],
   "source": [
    "list1[5]"
   ]
  },
  {
   "cell_type": "code",
   "execution_count": 130,
   "id": "77e656ba",
   "metadata": {},
   "outputs": [
    {
     "data": {
      "text/plain": [
       "[25.6, 4, 11]"
      ]
     },
     "execution_count": 130,
     "metadata": {},
     "output_type": "execute_result"
    }
   ],
   "source": [
    "## slice the list\n",
    "list1[1:4]\n",
    "\n",
    "## count starts from first index and stops before the second index"
   ]
  },
  {
   "cell_type": "code",
   "execution_count": null,
   "id": "eb13c88f",
   "metadata": {},
   "outputs": [],
   "source": [
    "##Dictionaries store a mapping between a set of keys and a set of values\n",
    "# ## Dictionaries : key value pairs of data \n",
    "#     d = {key : value }\n",
    "\n",
    "# ##### Key : can any python object but need to be immutable and unique for that dictionary (Num, string, tup)\n",
    "##### Value : can be any arbitrary Python object ( number string list tup ...)\n",
    "## define,modify,view,lookup\n"
   ]
  },
  {
   "cell_type": "code",
   "execution_count": 131,
   "id": "9c66bd57",
   "metadata": {},
   "outputs": [],
   "source": [
    "d = {'name' : 'lakshmi'}"
   ]
  },
  {
   "cell_type": "code",
   "execution_count": 132,
   "id": "5300c33c",
   "metadata": {},
   "outputs": [],
   "source": [
    "emp = {'name' : 'lakshmi','exp' : 10,'desg':'Trainer'}"
   ]
  },
  {
   "cell_type": "code",
   "execution_count": 133,
   "id": "c050a874",
   "metadata": {},
   "outputs": [
    {
     "data": {
      "text/plain": [
       "{'name': 'lakshmi', 'exp': 10, 'desg': 'Trainer'}"
      ]
     },
     "execution_count": 133,
     "metadata": {},
     "output_type": "execute_result"
    }
   ],
   "source": [
    "emp"
   ]
  },
  {
   "cell_type": "code",
   "execution_count": 134,
   "id": "7c726e0c",
   "metadata": {},
   "outputs": [
    {
     "data": {
      "text/plain": [
       "dict_keys(['name', 'exp', 'desg'])"
      ]
     },
     "execution_count": 134,
     "metadata": {},
     "output_type": "execute_result"
    }
   ],
   "source": [
    "emp.keys()"
   ]
  },
  {
   "cell_type": "code",
   "execution_count": 135,
   "id": "f2c98253",
   "metadata": {},
   "outputs": [
    {
     "data": {
      "text/plain": [
       "dict_values(['lakshmi', 10, 'Trainer'])"
      ]
     },
     "execution_count": 135,
     "metadata": {},
     "output_type": "execute_result"
    }
   ],
   "source": [
    "emp.values()"
   ]
  },
  {
   "cell_type": "code",
   "execution_count": 136,
   "id": "4a2c8a65",
   "metadata": {},
   "outputs": [],
   "source": [
    "input1 = {'Brazil' :['Brasilia', 'Russia':'Moscow','India': 'Delhi', 'China':'Beijing','South Africa':'Pretoria'}"
   ]
  },
  {
   "cell_type": "code",
   "execution_count": 137,
   "id": "153f2c81",
   "metadata": {},
   "outputs": [
    {
     "data": {
      "text/plain": [
       "{'Brazil': 'Brasilia',\n",
       " 'Russia': 'Moscow',\n",
       " 'India': 'Delhi',\n",
       " 'China': 'Beijing',\n",
       " 'South Africa': 'Pretoria'}"
      ]
     },
     "execution_count": 137,
     "metadata": {},
     "output_type": "execute_result"
    }
   ],
   "source": [
    "input1"
   ]
  },
  {
   "cell_type": "code",
   "execution_count": 138,
   "id": "c8b0473e",
   "metadata": {},
   "outputs": [],
   "source": [
    "input1 = {'Brazil' :['Brasilia',17.3], 'Russia':['Moscow',3.28],'India':['Delhi',4.5], \n",
    "          'China':['Beijing',9.6],'South Africa':['Pretoria',1.22]}"
   ]
  },
  {
   "cell_type": "code",
   "execution_count": 139,
   "id": "bc707c95",
   "metadata": {},
   "outputs": [
    {
     "data": {
      "text/plain": [
       "{'Brazil': ['Brasilia', 17.3],\n",
       " 'Russia': ['Moscow', 3.28],\n",
       " 'India': ['Delhi', 4.5],\n",
       " 'China': ['Beijing', 9.6],\n",
       " 'South Africa': ['Pretoria', 1.22]}"
      ]
     },
     "execution_count": 139,
     "metadata": {},
     "output_type": "execute_result"
    }
   ],
   "source": [
    "input1"
   ]
  },
  {
   "cell_type": "code",
   "execution_count": 140,
   "id": "83822a7f",
   "metadata": {},
   "outputs": [
    {
     "data": {
      "text/plain": [
       "dict_keys(['Brazil', 'Russia', 'India', 'China', 'South Africa'])"
      ]
     },
     "execution_count": 140,
     "metadata": {},
     "output_type": "execute_result"
    }
   ],
   "source": [
    "input1.keys()"
   ]
  },
  {
   "cell_type": "code",
   "execution_count": 141,
   "id": "00aafe3f",
   "metadata": {},
   "outputs": [
    {
     "data": {
      "text/plain": [
       "dict_values([['Brasilia', 17.3], ['Moscow', 3.28], ['Delhi', 4.5], ['Beijing', 9.6], ['Pretoria', 1.22]])"
      ]
     },
     "execution_count": 141,
     "metadata": {},
     "output_type": "execute_result"
    }
   ],
   "source": [
    "input1.values()"
   ]
  },
  {
   "cell_type": "code",
   "execution_count": 142,
   "id": "b94bfde7",
   "metadata": {},
   "outputs": [],
   "source": [
    "input1.update({'Brazil' :['Brasilia',18.3]})"
   ]
  },
  {
   "cell_type": "code",
   "execution_count": 143,
   "id": "6089a21e",
   "metadata": {},
   "outputs": [
    {
     "data": {
      "text/plain": [
       "{'Brazil': ['Brasilia', 18.3],\n",
       " 'Russia': ['Moscow', 3.28],\n",
       " 'India': ['Delhi', 4.5],\n",
       " 'China': ['Beijing', 9.6],\n",
       " 'South Africa': ['Pretoria', 1.22]}"
      ]
     },
     "execution_count": 143,
     "metadata": {},
     "output_type": "execute_result"
    }
   ],
   "source": [
    "input1"
   ]
  },
  {
   "cell_type": "code",
   "execution_count": 144,
   "id": "da4ab35d",
   "metadata": {},
   "outputs": [],
   "source": [
    "input1.update({'xyz':['abc',10.9]})"
   ]
  },
  {
   "cell_type": "code",
   "execution_count": 145,
   "id": "98e756c4",
   "metadata": {},
   "outputs": [
    {
     "data": {
      "text/plain": [
       "{'Brazil': ['Brasilia', 18.3],\n",
       " 'Russia': ['Moscow', 3.28],\n",
       " 'India': ['Delhi', 4.5],\n",
       " 'China': ['Beijing', 9.6],\n",
       " 'South Africa': ['Pretoria', 1.22],\n",
       " 'xyz': ['abc', 10.9]}"
      ]
     },
     "execution_count": 145,
     "metadata": {},
     "output_type": "execute_result"
    }
   ],
   "source": [
    "input1"
   ]
  },
  {
   "cell_type": "code",
   "execution_count": 149,
   "id": "647a8344",
   "metadata": {},
   "outputs": [],
   "source": [
    "#set : A set is an unorderd collectionof unique elements\n",
    "##create a set\n",
    "\n",
    "set1=set(['Audi','BMW','Ferrari','GM','Mercedes'])"
   ]
  },
  {
   "cell_type": "code",
   "execution_count": 150,
   "id": "1b78ca78",
   "metadata": {},
   "outputs": [
    {
     "data": {
      "text/plain": [
       "{'Audi', 'BMW', 'Ferrari', 'GM', 'Mercedes'}"
      ]
     },
     "execution_count": 150,
     "metadata": {},
     "output_type": "execute_result"
    }
   ],
   "source": [
    "set1   ##view the set"
   ]
  },
  {
   "cell_type": "code",
   "execution_count": 151,
   "id": "759d2af8",
   "metadata": {},
   "outputs": [
    {
     "data": {
      "text/plain": [
       "set"
      ]
     },
     "execution_count": 151,
     "metadata": {},
     "output_type": "execute_result"
    }
   ],
   "source": [
    "type(set1)   ##view the object type"
   ]
  },
  {
   "cell_type": "code",
   "execution_count": 153,
   "id": "1e1c09d4",
   "metadata": {},
   "outputs": [],
   "source": [
    "\n",
    "set1=set(['Audi','BMW','Ferrari','GM','Mercedes'])\n",
    "set2=set(['Ferrari','GM','ford','Toyota','Zen'])"
   ]
  },
  {
   "cell_type": "code",
   "execution_count": null,
   "id": "6d75cdb2",
   "metadata": {},
   "outputs": [],
   "source": [
    "## set opetations -- AND (intersection operations- common in both sets),\n",
    "##OR (union operations - all the elements from both the sets)"
   ]
  },
  {
   "cell_type": "code",
   "execution_count": 154,
   "id": "d05fc9a4",
   "metadata": {},
   "outputs": [],
   "source": [
    "result = set1 | set2"
   ]
  },
  {
   "cell_type": "code",
   "execution_count": 155,
   "id": "2d41ac76",
   "metadata": {},
   "outputs": [
    {
     "data": {
      "text/plain": [
       "{'Audi', 'BMW', 'Ferrari', 'GM', 'Mercedes', 'Toyota', 'Zen', 'ford'}"
      ]
     },
     "execution_count": 155,
     "metadata": {},
     "output_type": "execute_result"
    }
   ],
   "source": [
    "result"
   ]
  },
  {
   "cell_type": "code",
   "execution_count": 156,
   "id": "10be7eac",
   "metadata": {},
   "outputs": [],
   "source": [
    "result = set1 & set2"
   ]
  },
  {
   "cell_type": "code",
   "execution_count": 157,
   "id": "cdef69f9",
   "metadata": {},
   "outputs": [
    {
     "data": {
      "text/plain": [
       "{'Ferrari', 'GM'}"
      ]
     },
     "execution_count": 157,
     "metadata": {},
     "output_type": "execute_result"
    }
   ],
   "source": [
    "result"
   ]
  },
  {
   "cell_type": "code",
   "execution_count": 158,
   "id": "dd643ad3",
   "metadata": {},
   "outputs": [],
   "source": [
    "studentlist = ['abc','bcd','cde','def','efg']"
   ]
  },
  {
   "cell_type": "code",
   "execution_count": 159,
   "id": "db404d8b",
   "metadata": {},
   "outputs": [
    {
     "data": {
      "text/plain": [
       "True"
      ]
     },
     "execution_count": 159,
     "metadata": {},
     "output_type": "execute_result"
    }
   ],
   "source": [
    "'c' in studentlist   ## testing the presence of a string"
   ]
  },
  {
   "cell_type": "code",
   "execution_count": 160,
   "id": "6fca675c",
   "metadata": {},
   "outputs": [
    {
     "data": {
      "text/plain": [
       "False"
      ]
     },
     "execution_count": 160,
     "metadata": {},
     "output_type": "execute_result"
    }
   ],
   "source": [
    "'x' in studentlist"
   ]
  },
  {
   "cell_type": "code",
   "execution_count": null,
   "id": "615c977d",
   "metadata": {},
   "outputs": [],
   "source": [
    "## in operator is used to generate a Boolean value \n",
    "#to indicate whether a given value is present in the container or not"
   ]
  },
  {
   "cell_type": "code",
   "execution_count": 163,
   "id": "b9ef60b8",
   "metadata": {},
   "outputs": [],
   "source": [
    "word ='abcd'"
   ]
  },
  {
   "cell_type": "code",
   "execution_count": 164,
   "id": "83a1d20f",
   "metadata": {},
   "outputs": [
    {
     "data": {
      "text/plain": [
       "False"
      ]
     },
     "execution_count": 164,
     "metadata": {},
     "output_type": "execute_result"
    }
   ],
   "source": [
    "'t' in word"
   ]
  },
  {
   "cell_type": "code",
   "execution_count": 165,
   "id": "ec0cb0af",
   "metadata": {},
   "outputs": [
    {
     "data": {
      "text/plain": [
       "True"
      ]
     },
     "execution_count": 165,
     "metadata": {},
     "output_type": "execute_result"
    }
   ],
   "source": [
    "'c' in word"
   ]
  },
  {
   "cell_type": "code",
   "execution_count": 166,
   "id": "34edbd49",
   "metadata": {},
   "outputs": [],
   "source": [
    "tup1 = (68,96,71)\n",
    "tup2 = (92,87,83)"
   ]
  },
  {
   "cell_type": "code",
   "execution_count": 167,
   "id": "c23d2777",
   "metadata": {},
   "outputs": [],
   "source": [
    "result = tup1 + tup2"
   ]
  },
  {
   "cell_type": "code",
   "execution_count": 168,
   "id": "a5919dd0",
   "metadata": {},
   "outputs": [
    {
     "data": {
      "text/plain": [
       "(68, 96, 71, 92, 87, 83)"
      ]
     },
     "execution_count": 168,
     "metadata": {},
     "output_type": "execute_result"
    }
   ],
   "source": [
    "result"
   ]
  },
  {
   "cell_type": "code",
   "execution_count": 169,
   "id": "8f996ad6",
   "metadata": {},
   "outputs": [
    {
     "data": {
      "text/plain": [
       "[68, 96, 71, 92, 87, 83]"
      ]
     },
     "execution_count": 169,
     "metadata": {},
     "output_type": "execute_result"
    }
   ],
   "source": [
    "list1 = [68,96,71]\n",
    "list2 =  [92,87,83]\n",
    "result = list1+list2\n",
    "result"
   ]
  },
  {
   "cell_type": "code",
   "execution_count": 172,
   "id": "eb81dd28",
   "metadata": {
    "collapsed": true
   },
   "outputs": [
    {
     "ename": "TypeError",
     "evalue": "can't multiply sequence by non-int of type 'list'",
     "output_type": "error",
     "traceback": [
      "\u001b[1;31m---------------------------------------------------------------------------\u001b[0m",
      "\u001b[1;31mTypeError\u001b[0m                                 Traceback (most recent call last)",
      "Input \u001b[1;32mIn [172]\u001b[0m, in \u001b[0;36m<cell line: 1>\u001b[1;34m()\u001b[0m\n\u001b[1;32m----> 1\u001b[0m result \u001b[38;5;241m=\u001b[39m \u001b[43mlist1\u001b[49m\u001b[38;5;241;43m*\u001b[39;49m\u001b[43mlist2\u001b[49m\n\u001b[0;32m      2\u001b[0m \u001b[38;5;124;03m'''\u001b[39;00m\n\u001b[0;32m      3\u001b[0m \u001b[38;5;124;03m---------------------------------------------------------------------------\u001b[39;00m\n\u001b[0;32m      4\u001b[0m \u001b[38;5;124;03mTypeError                                 Traceback (most recent call last)\u001b[39;00m\n\u001b[1;32m   (...)\u001b[0m\n\u001b[0;32m      8\u001b[0m \u001b[38;5;124;03mTypeError: can't multiply sequence by non-int of type 'list'\u001b[39;00m\n\u001b[0;32m      9\u001b[0m \u001b[38;5;124;03m'''\u001b[39;00m\n",
      "\u001b[1;31mTypeError\u001b[0m: can't multiply sequence by non-int of type 'list'"
     ]
    }
   ],
   "source": [
    "result = list1*list2\n",
    "'''\n",
    "---------------------------------------------------------------------------\n",
    "TypeError                                 Traceback (most recent call last)\n",
    "Input In [171], in <cell line: 1>()\n",
    "----> 1 result = list1*list2\n",
    "\n",
    "TypeError: can't multiply sequence by non-int of type 'list'\n",
    "'''"
   ]
  },
  {
   "cell_type": "code",
   "execution_count": 173,
   "id": "dfff96ed",
   "metadata": {},
   "outputs": [],
   "source": [
    "result = list1 * 3"
   ]
  },
  {
   "cell_type": "code",
   "execution_count": 174,
   "id": "521ec751",
   "metadata": {},
   "outputs": [
    {
     "data": {
      "text/plain": [
       "[68, 96, 71, 68, 96, 71, 68, 96, 71]"
      ]
     },
     "execution_count": 174,
     "metadata": {},
     "output_type": "execute_result"
    }
   ],
   "source": [
    "result\n",
    "\n",
    "##repeating original content"
   ]
  },
  {
   "cell_type": "code",
   "execution_count": 176,
   "id": "d90f5c63",
   "metadata": {},
   "outputs": [
    {
     "data": {
      "text/plain": [
       "'Predefined Functions:\\nString Function\\nNumber Functions\\nDate Functions\\nString functions:\\nString is a sequence of characters in Python. The data type of String in Python is called “str”.\\nHow to create a String in Python :There are several ways to create strings in Python.\\nWe can use ‘ (single quotes)\\nWe can use ” (double quotes)\\nTriple double quotes “”” and triple single quotes ”’ are used for creating multi-line strings in Python.'"
      ]
     },
     "execution_count": 176,
     "metadata": {},
     "output_type": "execute_result"
    }
   ],
   "source": [
    "###functions\n",
    "\n",
    "\n",
    "'''Predefined Functions:\n",
    "String Function\n",
    "Number Functions\n",
    "Date Functions\n",
    "String functions:\n",
    "String is a sequence of characters in Python. The data type of String in Python is called “str”.\n",
    "How to create a String in Python :There are several ways to create strings in Python.\n",
    "We can use ‘ (single quotes)\n",
    "We can use ” (double quotes)\n",
    "Triple double quotes “”” and triple single quotes ”’ are used for creating multi-line strings in Python.'''\n"
   ]
  },
  {
   "cell_type": "code",
   "execution_count": 177,
   "id": "4b608b7a",
   "metadata": {},
   "outputs": [
    {
     "name": "stdout",
     "output_type": "stream",
     "text": [
      "learning Datascience\n"
     ]
    }
   ],
   "source": [
    "#Accessing Strings:\n",
    "str = \"learning Datascience\"\n",
    "# displaying whole\n",
    "print(str)\n"
   ]
  },
  {
   "cell_type": "code",
   "execution_count": 178,
   "id": "5b051675",
   "metadata": {},
   "outputs": [
    {
     "name": "stdout",
     "output_type": "stream",
     "text": [
      "l\n",
      "a\n",
      "e\n",
      "c\n"
     ]
    }
   ],
   "source": [
    "# displaying first character of\n",
    "print(str[0])\n",
    "# displaying third character \n",
    "print(str[2])\n",
    "# displaying the last characterof the \n",
    "print(str[-1])\n",
    "# displaying the second last \n",
    "print(str[-2])\n"
   ]
  },
  {
   "cell_type": "code",
   "execution_count": 179,
   "id": "2b72b9fc",
   "metadata": {},
   "outputs": [
    {
     "data": {
      "text/plain": [
       "'String Operators:\\n\\nOperator Description\\n\\n+ It is known as concatenation operator used to join the strings given either side of the operator.\\n* It is known as repetition operator. It concatenates the multiple copies of the same string.\\n[] It is known as slice operator. It is used to access the sub-strings of a particular string.\\n[:] It is known as range slice operator. It is used to access the characters from the specified range.\\n\\nIn It is known as membership operator. It returns if a particular sub-string is present in the \\nspecified string.\\n\\nnot in It is also a membership operator and does the exact reverse of in. It returns true if a particular \\nsubstring is not present in the specified string.\\n\\nr/R It is used to specify the raw string. Raw strings are used in the cases where we need to print the \\nactual meaning of escape characters such as \"C://python\". To define any string as a raw string, \\nthe character r or R is followed by the string.\\n\\n% It is used to perform string formatting. It makes use of the format specifiers used in C \\nprogramming like %d or %f to map their values in python. We will discuss how formatting is \\ndone in python.'"
      ]
     },
     "execution_count": 179,
     "metadata": {},
     "output_type": "execute_result"
    }
   ],
   "source": [
    "\n",
    "'''String Operators:\n",
    "\n",
    "Operator Description\n",
    "\n",
    "+ It is known as concatenation operator used to join the strings given either side of the operator.\n",
    "* It is known as repetition operator. It concatenates the multiple copies of the same string.\n",
    "[] It is known as slice operator. It is used to access the sub-strings of a particular string.\n",
    "[:] It is known as range slice operator. It is used to access the characters from the specified range.\n",
    "\n",
    "In It is known as membership operator. It returns if a particular sub-string is present in the \n",
    "specified string.\n",
    "\n",
    "not in It is also a membership operator and does the exact reverse of in. It returns true if a particular \n",
    "substring is not present in the specified string.\n",
    "\n",
    "r/R It is used to specify the raw string. Raw strings are used in the cases where we need to print the \n",
    "actual meaning of escape characters such as \"C://python\". To define any string as a raw string, \n",
    "the character r or R is followed by the string.\n",
    "\n",
    "% It is used to perform string formatting. It makes use of the format specifiers used in C \n",
    "programming like %d or %f to map their values in python. We will discuss how formatting is \n",
    "done in python.'''\n"
   ]
  },
  {
   "cell_type": "code",
   "execution_count": 180,
   "id": "718adcdd",
   "metadata": {},
   "outputs": [
    {
     "name": "stdout",
     "output_type": "stream",
     "text": [
      "HelloHelloHello\n",
      "Hello world\n",
      "o\n",
      "ll\n",
      "False\n",
      "False\n",
      "C://python\n",
      "The string str : Hello\n"
     ]
    }
   ],
   "source": [
    "str = \"Hello\" \n",
    "str1 = \" world\" \n",
    "print(str*3) # prints HelloHelloHello \n",
    "print(str+str1)# prints Hello world \n",
    "print(str[4]) # prints o \n",
    "print(str[2:4]); # prints ll \n",
    "print('w' in str) # prints false as w is not present in str \n",
    "print('wo' not in str1) # prints false as wo is present in str1. \n",
    "print(r'C://python') # prints C://python37 as it is written \n",
    "print(\"The string str : %s\"%(str)) # prints The string str : Hello\n"
   ]
  },
  {
   "cell_type": "code",
   "execution_count": 181,
   "id": "d8100b47",
   "metadata": {},
   "outputs": [
    {
     "name": "stdout",
     "output_type": "stream",
     "text": [
      "learning pythonOracle\n",
      "OracleOracleOracleOracleOracle\n",
      "arni\n",
      "False\n",
      "True\n",
      "c://Python\n",
      "String format is learning python\n",
      "15\n",
      "Learning python\n",
      "False\n",
      "False\n",
      "learning python Oracle\n",
      "10 20\n",
      "1\n",
      "7\n",
      "['learning', 'python']\n"
     ]
    }
   ],
   "source": [
    "'''STRING FUNCTIONS :\n",
    "Method Description\n",
    "capitalize() It capitalizes the first character of the String. This function is deprecated in python3\n",
    "casefold() It returns a version of s suitable for case-less comparisons.\n",
    "center(width \n",
    ",fillchar)\n",
    "It returns a space padded string with the original string centred with equal number \n",
    "of left and right spaces.\n",
    "count(string,begin,\n",
    "end)\n",
    "It counts the number of occurrences of a substring in a String between begin and \n",
    "end index.\n",
    "endswith(suffix \n",
    ",begin=0,end=len(s\n",
    "tring))\n",
    "It returns a Boolean value if the string terminates with given suffix between begin \n",
    "and end.\n",
    "find(substring \n",
    ",beginIndex,\n",
    "endIndex)\n",
    "It returns the index value of the string where substring is found between begin \n",
    "index and end index.\n",
    "format(value) It returns a formatted version of S, using the passed value.\n",
    "index(subsring, \n",
    "beginIndex, \n",
    "endIndex)\n",
    "It throws an exception if string is not found. It works same as find() method.\n",
    "isalnum() It returns true if the characters in the string are alphanumeric i.e., alphabets or \n",
    "numbers and there is at least 1 character. Otherwise, it returns false.\n",
    "isalpha() It returns true if all the characters are alphabets and there is at least one character, \n",
    "otherwise False.\n",
    "isdecimal() It returns true if all the characters of the string are decimals.\n",
    "isdigit() It returns true if all the characters are digits and there is at least one character, \n",
    "otherwise False.\n",
    "isidentifier() It returns true if the string is the valid identifier.\n",
    "islower() It returns true if the characters of a string are in lower case, otherwise false.\n",
    "isnumeric() It returns true if the string contains only numeric characters.\n",
    "isupper() It returns true if characters of a string are in Upper case.\n",
    "isspace() It returns true if the characters of a string are white-space, otherwise false.\n",
    "istitle() It returns true if the string is titled properly and false otherwise. A title string is the \n",
    "one in which the first character is upper-case whereas the other characters are \n",
    "lower-case.\n",
    "join(seq) It merges the strings representation of the given sequence.\n",
    "len(string) It returns the length of a string.\n",
    "lower() It converts all the characters of a string to Lower case.\n",
    "replace(old,new[,c\n",
    "ount])\n",
    "It replaces the old sequence of characters with the new sequence. The max \n",
    "characters are replaced if max is given.\n",
    "split(str,num=strin\n",
    "g.count(str))\n",
    "Splits the string according to the delimiter str. The string splits according to the \n",
    "space if the delimiter is not provided. It returns the list of substring concatenated \n",
    "with the delimiter.\n",
    "upper() It converts all the characters of a string to Upper Case.'''\n",
    "\n",
    "\n",
    "# In[11]:\n",
    "\n",
    "\n",
    "str=\"learning python\"\n",
    "str2=\"Oracle\"\n",
    "print(str+str2)\n",
    "print(str2*5)\n",
    "print(str[2:6])\n",
    "print(\"Sigma\" in str)\n",
    "print(\"Sigma\" not in str)\n",
    "print(r'c://Python')\n",
    "print(\"String format is %s\"%str)\n",
    "print(len(str))\n",
    "print(str.capitalize())\n",
    "print(str2.isupper())\n",
    "print(str.istitle())\n",
    "print(\"{} {}\".format(str,str2))\n",
    "l=10\n",
    "b=20\n",
    "print(\"{} {}\".format(l,b))\n",
    "print(str.count('l'))\n",
    "print(str.find('g'))\n",
    "print(str.split(\" \"))\n"
   ]
  },
  {
   "cell_type": "code",
   "execution_count": 182,
   "id": "1a576fb4",
   "metadata": {},
   "outputs": [
    {
     "data": {
      "text/plain": [
       "'\\nNumber Functions:\\nThese functions are of four types :\\nNumeric Functions\\nLogarithmic and Power Functions\\nTrigonometric and Angular Functions\\nSpecial and Constant Functions\\nMathematical operations can be performed with ease by importing a module named “math”.\\n1. ceil() :- This function returns the greatest integral value. If number is already integer, same number is returned.\\n2. floor() :- This function returns the smallest integral value . If number is already integer, same number is returned\\n'"
      ]
     },
     "execution_count": 182,
     "metadata": {},
     "output_type": "execute_result"
    }
   ],
   "source": [
    "'''\n",
    "Number Functions:\n",
    "These functions are of four types :\n",
    "Numeric Functions\n",
    "Logarithmic and Power Functions\n",
    "Trigonometric and Angular Functions\n",
    "Special and Constant Functions\n",
    "Mathematical operations can be performed with ease by importing a module named “math”.\n",
    "1. ceil() :- This function returns the greatest integral value. If number is already integer, same number is returned.\n",
    "2. floor() :- This function returns the smallest integral value . If number is already integer, same number is returned\n",
    "'''\n"
   ]
  },
  {
   "cell_type": "code",
   "execution_count": 183,
   "id": "294796f1",
   "metadata": {},
   "outputs": [],
   "source": [
    "import math"
   ]
  },
  {
   "cell_type": "code",
   "execution_count": 185,
   "id": "5a1cfd63",
   "metadata": {},
   "outputs": [
    {
     "data": {
      "text/plain": [
       "['__doc__',\n",
       " '__loader__',\n",
       " '__name__',\n",
       " '__package__',\n",
       " '__spec__',\n",
       " 'acos',\n",
       " 'acosh',\n",
       " 'asin',\n",
       " 'asinh',\n",
       " 'atan',\n",
       " 'atan2',\n",
       " 'atanh',\n",
       " 'ceil',\n",
       " 'comb',\n",
       " 'copysign',\n",
       " 'cos',\n",
       " 'cosh',\n",
       " 'degrees',\n",
       " 'dist',\n",
       " 'e',\n",
       " 'erf',\n",
       " 'erfc',\n",
       " 'exp',\n",
       " 'expm1',\n",
       " 'fabs',\n",
       " 'factorial',\n",
       " 'floor',\n",
       " 'fmod',\n",
       " 'frexp',\n",
       " 'fsum',\n",
       " 'gamma',\n",
       " 'gcd',\n",
       " 'hypot',\n",
       " 'inf',\n",
       " 'isclose',\n",
       " 'isfinite',\n",
       " 'isinf',\n",
       " 'isnan',\n",
       " 'isqrt',\n",
       " 'lcm',\n",
       " 'ldexp',\n",
       " 'lgamma',\n",
       " 'log',\n",
       " 'log10',\n",
       " 'log1p',\n",
       " 'log2',\n",
       " 'modf',\n",
       " 'nan',\n",
       " 'nextafter',\n",
       " 'perm',\n",
       " 'pi',\n",
       " 'pow',\n",
       " 'prod',\n",
       " 'radians',\n",
       " 'remainder',\n",
       " 'sin',\n",
       " 'sinh',\n",
       " 'sqrt',\n",
       " 'tan',\n",
       " 'tanh',\n",
       " 'tau',\n",
       " 'trunc',\n",
       " 'ulp']"
      ]
     },
     "execution_count": 185,
     "metadata": {},
     "output_type": "execute_result"
    }
   ],
   "source": [
    "dir(math)"
   ]
  },
  {
   "cell_type": "code",
   "execution_count": 186,
   "id": "4facba81",
   "metadata": {},
   "outputs": [
    {
     "name": "stdout",
     "output_type": "stream",
     "text": [
      "Help on built-in function factorial in module math:\n",
      "\n",
      "factorial(x, /)\n",
      "    Find x!.\n",
      "    \n",
      "    Raise a ValueError if x is negative or non-integral.\n",
      "\n"
     ]
    }
   ],
   "source": [
    "help(math.factorial)"
   ]
  },
  {
   "cell_type": "code",
   "execution_count": 187,
   "id": "1b075252",
   "metadata": {},
   "outputs": [
    {
     "data": {
      "text/plain": [
       "120"
      ]
     },
     "execution_count": 187,
     "metadata": {},
     "output_type": "execute_result"
    }
   ],
   "source": [
    "math.factorial(5)"
   ]
  },
  {
   "cell_type": "code",
   "execution_count": 188,
   "id": "c5f527a3",
   "metadata": {},
   "outputs": [
    {
     "data": {
      "text/plain": [
       "120"
      ]
     },
     "execution_count": 188,
     "metadata": {},
     "output_type": "execute_result"
    }
   ],
   "source": [
    "5*4*3*2*1"
   ]
  },
  {
   "cell_type": "code",
   "execution_count": 189,
   "id": "02f19a8e",
   "metadata": {},
   "outputs": [
    {
     "data": {
      "text/plain": [
       "'\\nNumber Functions:\\nThese functions are of four types :\\nNumeric Functions\\nLogarithmic and Power Functions\\nTrigonometric and Angular Functions\\nSpecial and Constant Functions\\nMathematical operations can be performed with ease by importing a module named “math”.\\n1. ceil() :- This function returns the greatest integral value. If number is already integer, same number is returned.\\n2. floor() :- This function returns the smallest integral value . If number is already integer, same number is returned\\n'"
      ]
     },
     "execution_count": 189,
     "metadata": {},
     "output_type": "execute_result"
    }
   ],
   "source": [
    "\n",
    "'''\n",
    "Number Functions:\n",
    "These functions are of four types :\n",
    "Numeric Functions\n",
    "Logarithmic and Power Functions\n",
    "Trigonometric and Angular Functions\n",
    "Special and Constant Functions\n",
    "Mathematical operations can be performed with ease by importing a module named “math”.\n",
    "1. ceil() :- This function returns the greatest integral value. If number is already integer, same number is returned.\n",
    "2. floor() :- This function returns the smallest integral value . If number is already integer, same number is returned\n",
    "'''"
   ]
  },
  {
   "cell_type": "code",
   "execution_count": 190,
   "id": "cb1fdde1",
   "metadata": {},
   "outputs": [
    {
     "data": {
      "text/plain": [
       "'Logarithmic and Power Functions\\n1. exp(a) :- This function returns the value of e raised to the power a (e**a) .\\n2. log(a, b) :- This function returns the logarithmic value of a with base b. If base is not mentioned, the computed value \\nis of natural log.\\n'"
      ]
     },
     "execution_count": 190,
     "metadata": {},
     "output_type": "execute_result"
    }
   ],
   "source": [
    "'''Logarithmic and Power Functions\n",
    "1. exp(a) :- This function returns the value of e raised to the power a (e**a) .\n",
    "2. log(a, b) :- This function returns the logarithmic value of a with base b. If base is not mentioned, the computed value \n",
    "is of natural log.\n",
    "'''"
   ]
  },
  {
   "cell_type": "code",
   "execution_count": 191,
   "id": "9d38033c",
   "metadata": {},
   "outputs": [
    {
     "name": "stdout",
     "output_type": "stream",
     "text": [
      "The e**4 value is : 54.598150033144236\n",
      "The value of log 2 with base 3 is : 0.6309297535714574\n"
     ]
    }
   ],
   "source": [
    "import math \n",
    " \n",
    "# returning the exp of 4 \n",
    "print (\"The e**4 value is : \", end=\"\") \n",
    "print (math.exp(4)) \n",
    " \n",
    "# returning the log of 2,3 \n",
    "print (\"The value of log 2 with base 3 is : \", end=\"\") \n",
    "print (math.log(2,3))\n"
   ]
  },
  {
   "cell_type": "code",
   "execution_count": 192,
   "id": "a18a4721",
   "metadata": {},
   "outputs": [
    {
     "name": "stdout",
     "output_type": "stream",
     "text": [
      "The value of 3 to the power 2 is : 25.0\n",
      "The value of square root of 25 : 3.0\n"
     ]
    }
   ],
   "source": [
    "import math \n",
    " \n",
    "# returning the value of 3**2 \n",
    "print (\"The value of 3 to the power 2 is : \", end=\"\") \n",
    "print (math.pow(5,2)) \n",
    " \n",
    "# returning the square root of 25 \n",
    "print (\"The value of square root of 25 : \", end=\"\") \n",
    "print (math.sqrt(9))\n"
   ]
  },
  {
   "cell_type": "code",
   "execution_count": 193,
   "id": "bdb417c3",
   "metadata": {},
   "outputs": [
    {
     "data": {
      "text/plain": [
       "'\\nDate Functions\\n1. calendar(year, w, l, c) :- This function displays the year, width of characters, no. of lines per week and column \\nseparations.\\n2. firstweekday() :- This function returns the first week day number. By default 0 (Monday).\\n3. isleap (year) :- This function checks if year mentioned in argument is leap or not.\\n4. leapdays (year1, year2) :- This function returns the number of leap days between the specified years in \\narguments.\\n5. month (year, month, w, l) :- This function prints the month of a specific year mentioned in arguments. It takes 4\\narguments, year, month, width of characters and no. of lines taken by a week.\\n'"
      ]
     },
     "execution_count": 193,
     "metadata": {},
     "output_type": "execute_result"
    }
   ],
   "source": [
    "'''\n",
    "Date Functions\n",
    "1. calendar(year, w, l, c) :- This function displays the year, width of characters, no. of lines per week and column \n",
    "separations.\n",
    "2. firstweekday() :- This function returns the first week day number. By default 0 (Monday).\n",
    "3. isleap (year) :- This function checks if year mentioned in argument is leap or not.\n",
    "4. leapdays (year1, year2) :- This function returns the number of leap days between the specified years in \n",
    "arguments.\n",
    "5. month (year, month, w, l) :- This function prints the month of a specific year mentioned in arguments. It takes 4\n",
    "arguments, year, month, width of characters and no. of lines taken by a week.\n",
    "'''\n"
   ]
  },
  {
   "cell_type": "code",
   "execution_count": 194,
   "id": "58a981a9",
   "metadata": {},
   "outputs": [],
   "source": [
    "import calendar"
   ]
  },
  {
   "cell_type": "code",
   "execution_count": 195,
   "id": "f444a2e8",
   "metadata": {
    "collapsed": true
   },
   "outputs": [
    {
     "data": {
      "text/plain": [
       "['Calendar',\n",
       " 'EPOCH',\n",
       " 'FRIDAY',\n",
       " 'February',\n",
       " 'HTMLCalendar',\n",
       " 'IllegalMonthError',\n",
       " 'IllegalWeekdayError',\n",
       " 'January',\n",
       " 'LocaleHTMLCalendar',\n",
       " 'LocaleTextCalendar',\n",
       " 'MONDAY',\n",
       " 'SATURDAY',\n",
       " 'SUNDAY',\n",
       " 'THURSDAY',\n",
       " 'TUESDAY',\n",
       " 'TextCalendar',\n",
       " 'WEDNESDAY',\n",
       " '_EPOCH_ORD',\n",
       " '__all__',\n",
       " '__builtins__',\n",
       " '__cached__',\n",
       " '__doc__',\n",
       " '__file__',\n",
       " '__loader__',\n",
       " '__name__',\n",
       " '__package__',\n",
       " '__spec__',\n",
       " '_colwidth',\n",
       " '_locale',\n",
       " '_localized_day',\n",
       " '_localized_month',\n",
       " '_monthlen',\n",
       " '_nextmonth',\n",
       " '_prevmonth',\n",
       " '_spacing',\n",
       " 'c',\n",
       " 'calendar',\n",
       " 'datetime',\n",
       " 'day_abbr',\n",
       " 'day_name',\n",
       " 'different_locale',\n",
       " 'error',\n",
       " 'firstweekday',\n",
       " 'format',\n",
       " 'formatstring',\n",
       " 'isleap',\n",
       " 'leapdays',\n",
       " 'main',\n",
       " 'mdays',\n",
       " 'month',\n",
       " 'month_abbr',\n",
       " 'month_name',\n",
       " 'monthcalendar',\n",
       " 'monthrange',\n",
       " 'prcal',\n",
       " 'prmonth',\n",
       " 'prweek',\n",
       " 'repeat',\n",
       " 'setfirstweekday',\n",
       " 'sys',\n",
       " 'timegm',\n",
       " 'week',\n",
       " 'weekday',\n",
       " 'weekheader']"
      ]
     },
     "execution_count": 195,
     "metadata": {},
     "output_type": "execute_result"
    }
   ],
   "source": [
    "dir(calendar)"
   ]
  },
  {
   "cell_type": "code",
   "execution_count": 196,
   "id": "87d41bd8",
   "metadata": {
    "collapsed": true
   },
   "outputs": [
    {
     "name": "stdout",
     "output_type": "stream",
     "text": [
      "The calender of year 2012 is : \n",
      "                                  2012\n",
      "\n",
      "      January                   February                   March\n",
      "Mo Tu We Th Fr Sa Su      Mo Tu We Th Fr Sa Su      Mo Tu We Th Fr Sa Su\n",
      "                   1             1  2  3  4  5                1  2  3  4\n",
      " 2  3  4  5  6  7  8       6  7  8  9 10 11 12       5  6  7  8  9 10 11\n",
      " 9 10 11 12 13 14 15      13 14 15 16 17 18 19      12 13 14 15 16 17 18\n",
      "16 17 18 19 20 21 22      20 21 22 23 24 25 26      19 20 21 22 23 24 25\n",
      "23 24 25 26 27 28 29      27 28 29                  26 27 28 29 30 31\n",
      "30 31\n",
      "\n",
      "       April                      May                       June\n",
      "Mo Tu We Th Fr Sa Su      Mo Tu We Th Fr Sa Su      Mo Tu We Th Fr Sa Su\n",
      "                   1          1  2  3  4  5  6                   1  2  3\n",
      " 2  3  4  5  6  7  8       7  8  9 10 11 12 13       4  5  6  7  8  9 10\n",
      " 9 10 11 12 13 14 15      14 15 16 17 18 19 20      11 12 13 14 15 16 17\n",
      "16 17 18 19 20 21 22      21 22 23 24 25 26 27      18 19 20 21 22 23 24\n",
      "23 24 25 26 27 28 29      28 29 30 31               25 26 27 28 29 30\n",
      "30\n",
      "\n",
      "        July                     August                  September\n",
      "Mo Tu We Th Fr Sa Su      Mo Tu We Th Fr Sa Su      Mo Tu We Th Fr Sa Su\n",
      "                   1             1  2  3  4  5                      1  2\n",
      " 2  3  4  5  6  7  8       6  7  8  9 10 11 12       3  4  5  6  7  8  9\n",
      " 9 10 11 12 13 14 15      13 14 15 16 17 18 19      10 11 12 13 14 15 16\n",
      "16 17 18 19 20 21 22      20 21 22 23 24 25 26      17 18 19 20 21 22 23\n",
      "23 24 25 26 27 28 29      27 28 29 30 31            24 25 26 27 28 29 30\n",
      "30 31\n",
      "\n",
      "      October                   November                  December\n",
      "Mo Tu We Th Fr Sa Su      Mo Tu We Th Fr Sa Su      Mo Tu We Th Fr Sa Su\n",
      " 1  2  3  4  5  6  7                1  2  3  4                      1  2\n",
      " 8  9 10 11 12 13 14       5  6  7  8  9 10 11       3  4  5  6  7  8  9\n",
      "15 16 17 18 19 20 21      12 13 14 15 16 17 18      10 11 12 13 14 15 16\n",
      "22 23 24 25 26 27 28      19 20 21 22 23 24 25      17 18 19 20 21 22 23\n",
      "29 30 31                  26 27 28 29 30            24 25 26 27 28 29 30\n",
      "                                                    31\n",
      "\n",
      "The starting day number in calendar is : 0\n",
      "The year is leap\n",
      "The leap days between 1950 and 2000 are : 12\n",
      "The month 5th of 2016 is :\n",
      "      May 2016\n",
      "Mo Tu We Th Fr Sa Su\n",
      "                   1\n",
      " 2  3  4  5  6  7  8\n",
      " 9 10 11 12 13 14 15\n",
      "16 17 18 19 20 21 22\n",
      "23 24 25 26 27 28 29\n",
      "30 31\n",
      "\n"
     ]
    }
   ],
   "source": [
    "# using calender to print calendar of year \n",
    "# prints calendar of 2012 \n",
    "print (\"The calender of year 2012 is : \") \n",
    "print (calendar.calendar(2012,2,1,6)) \n",
    " \n",
    "#using firstweekday() to print starting day number \n",
    "print (\"The starting day number in calendar is : \",end=\"\") \n",
    "print (calendar.firstweekday()) \n",
    "if (calendar.isleap(2008)): \n",
    " print (\"The year is leap\") \n",
    "else : print (\"The year is not leap\") \n",
    " \n",
    "#using leapdays() to print leap days between years\n",
    "print (\"The leap days between 1950 and 2000 are : \",end=\"\") \n",
    "print (calendar.leapdays(1950, 2000)) \n",
    "print (\"The month 5th of 2016 is :\") \n",
    "print (calendar.month(2016,5,2,1)) \n"
   ]
  },
  {
   "cell_type": "code",
   "execution_count": null,
   "id": "cf2a8b6e",
   "metadata": {},
   "outputs": [],
   "source": [
    "'''\n",
    "UserDefined Functions\n",
    "Function's declaration begins with the keyword def and followed by the function name.\n",
    "The function may take arguments(s) as input within the opening and closing parentheses.\n",
    "After defining the function name and arguments(s) a block of program statement(s) start at the next line and \n",
    "these statement(s) must be indented.\n",
    "\n",
    "Syntax of a user defined function:\n",
    "def function_name(argument1, argument2, ...) :\n",
    " statement_1\n",
    " statement_2\n",
    " ....\n",
    "'''\n",
    "'''\n",
    "Types of Arguments in Python:\n",
    "Required Arguments\n",
    "Default Arguments\n",
    "Keyword Arguments\n",
    "Variable Arguments\n",
    "Position only Argument\n",
    "Required Argument:\n",
    "The number of arguments is passed is as per the function declaration. \n",
    "'''\n",
    "\n"
   ]
  },
  {
   "cell_type": "code",
   "execution_count": 199,
   "id": "433c9e00",
   "metadata": {},
   "outputs": [],
   "source": [
    "##required arguments x\n",
    "def square(x):\n",
    "    return (x*x)"
   ]
  },
  {
   "cell_type": "code",
   "execution_count": 200,
   "id": "83e53bd9",
   "metadata": {},
   "outputs": [
    {
     "data": {
      "text/plain": [
       "9"
      ]
     },
     "execution_count": 200,
     "metadata": {},
     "output_type": "execute_result"
    }
   ],
   "source": [
    "square(3)"
   ]
  },
  {
   "cell_type": "code",
   "execution_count": 201,
   "id": "db2711db",
   "metadata": {},
   "outputs": [],
   "source": [
    "##default argument for y is 2 \n",
    "def square1(x,y=2):\n",
    "    return(x*x+2*x*y+y*y)\n"
   ]
  },
  {
   "cell_type": "code",
   "execution_count": 202,
   "id": "fd989796",
   "metadata": {},
   "outputs": [
    {
     "data": {
      "text/plain": [
       "49"
      ]
     },
     "execution_count": 202,
     "metadata": {},
     "output_type": "execute_result"
    }
   ],
   "source": [
    "square1(5)"
   ]
  },
  {
   "cell_type": "code",
   "execution_count": 203,
   "id": "cd9782b2",
   "metadata": {},
   "outputs": [
    {
     "data": {
      "text/plain": [
       "25"
      ]
     },
     "execution_count": 203,
     "metadata": {},
     "output_type": "execute_result"
    }
   ],
   "source": [
    "square1(2,3)"
   ]
  },
  {
   "cell_type": "code",
   "execution_count": 206,
   "id": "5f2583ef",
   "metadata": {},
   "outputs": [],
   "source": [
    "def add(*number):\n",
    "    n=0\n",
    "    for x in number:\n",
    "        x+=n\n",
    "    return x"
   ]
  },
  {
   "cell_type": "code",
   "execution_count": 207,
   "id": "202fd894",
   "metadata": {},
   "outputs": [
    {
     "data": {
      "text/plain": [
       "20"
      ]
     },
     "execution_count": 207,
     "metadata": {},
     "output_type": "execute_result"
    }
   ],
   "source": [
    "add(10,20)"
   ]
  },
  {
   "cell_type": "code",
   "execution_count": 208,
   "id": "a6cc8154",
   "metadata": {},
   "outputs": [
    {
     "data": {
      "text/plain": [
       "40"
      ]
     },
     "execution_count": 208,
     "metadata": {},
     "output_type": "execute_result"
    }
   ],
   "source": [
    "add(10,20,30,40)"
   ]
  },
  {
   "cell_type": "code",
   "execution_count": 209,
   "id": "b0081b3f",
   "metadata": {},
   "outputs": [
    {
     "data": {
      "text/plain": [
       "50"
      ]
     },
     "execution_count": 209,
     "metadata": {},
     "output_type": "execute_result"
    }
   ],
   "source": [
    "add(10,20,30,40,50)"
   ]
  },
  {
   "cell_type": "code",
   "execution_count": 210,
   "id": "e5eab77f",
   "metadata": {},
   "outputs": [
    {
     "data": {
      "text/plain": [
       "'Lambda Functions\\nLambda usage used for short hand expression building in application. \\nThe power of lambda is better shown when you \\nuse them as an anonymous function inside another function.\\nSmall anonymous (unnamed) functions can be created with lambda keyword. \\nLambda forms can be used as an \\nargument to other function where function objects are required but \\nsyntactically they are restricted to a single \\nexpression.\\n'"
      ]
     },
     "execution_count": 210,
     "metadata": {},
     "output_type": "execute_result"
    }
   ],
   "source": [
    "'''Lambda Functions\n",
    "Lambda usage used for short hand expression building in application. \n",
    "The power of lambda is better shown when you \n",
    "use them as an anonymous function inside another function.\n",
    "Small anonymous (unnamed) functions can be created with lambda keyword. \n",
    "Lambda forms can be used as an \n",
    "argument to other function where function objects are required but \n",
    "syntactically they are restricted to a single \n",
    "expression.\n",
    "'''\n"
   ]
  },
  {
   "cell_type": "code",
   "execution_count": 211,
   "id": "aa24151e",
   "metadata": {},
   "outputs": [
    {
     "name": "stdout",
     "output_type": "stream",
     "text": [
      "3.5\n"
     ]
    }
   ],
   "source": [
    "##Without Lambda :\n",
    "def average(x, y):\n",
    "    return (x + y)/2\n",
    "print(average(4, 3))\n"
   ]
  },
  {
   "cell_type": "code",
   "execution_count": 212,
   "id": "d86cb7cd",
   "metadata": {},
   "outputs": [
    {
     "name": "stdout",
     "output_type": "stream",
     "text": [
      "3.5\n"
     ]
    }
   ],
   "source": [
    "#With Lambda :\n",
    "print((lambda x, y: (x + y)/2)(4, 3))"
   ]
  },
  {
   "cell_type": "code",
   "execution_count": null,
   "id": "7a86c17e",
   "metadata": {},
   "outputs": [],
   "source": [
    "'''Lambda Functions:\n",
    "Lambda functions have their own local namespace and cannot access variables other than those in their parameter list \n",
    "and those in the global namespace. Lambda forms can take any number of arguments but return just one value in the \n",
    "form of an expression. They cannot contain commands or multiple expressions.\n",
    "We can call the following methods for lambda operators\n",
    "map()\n",
    "reduce()\n",
    "filter()\n",
    "Lambda: map() can be applied to more than one list. The lists have to have the same length. map() will apply its lambda \n",
    "function to the elements of the argument lists. Syntax: map(func, var) function applies the function func to each of the \n",
    "elements in var and returns a new list.\n",
    "'''\n"
   ]
  },
  {
   "cell_type": "code",
   "execution_count": 215,
   "id": "8e1acf36",
   "metadata": {},
   "outputs": [],
   "source": [
    "list1=[20,50,39,102,339,220]\n",
    "result = list(filter(lambda x:(x%5 == 0),list1))"
   ]
  },
  {
   "cell_type": "code",
   "execution_count": 216,
   "id": "6a432045",
   "metadata": {},
   "outputs": [
    {
     "data": {
      "text/plain": [
       "[20, 50, 220]"
      ]
     },
     "execution_count": 216,
     "metadata": {},
     "output_type": "execute_result"
    }
   ],
   "source": [
    "result"
   ]
  },
  {
   "cell_type": "code",
   "execution_count": 225,
   "id": "ca1da6ee",
   "metadata": {},
   "outputs": [
    {
     "data": {
      "text/plain": [
       "[40, 100, 78, 204, 678, 440]"
      ]
     },
     "execution_count": 225,
     "metadata": {},
     "output_type": "execute_result"
    }
   ],
   "source": [
    "## double each member in the list\n",
    "list2=[20,50,39,102,339,220]\n",
    "mylist=map(lambda x: x*2 , list2)\n",
    "list(mylist)\n"
   ]
  },
  {
   "cell_type": "code",
   "execution_count": 235,
   "id": "b5ec248e",
   "metadata": {},
   "outputs": [],
   "source": [
    "from functools import reduce\n",
    "## product of all numbers in the list\n",
    "list3=[1,2,3,4,5]\n"
   ]
  },
  {
   "cell_type": "code",
   "execution_count": 236,
   "id": "6c77dd02",
   "metadata": {},
   "outputs": [],
   "source": [
    "mylist=reduce(lambda x,y: x*y , list3)\n"
   ]
  },
  {
   "cell_type": "code",
   "execution_count": 237,
   "id": "e938a3f5",
   "metadata": {},
   "outputs": [
    {
     "data": {
      "text/plain": [
       "120"
      ]
     },
     "execution_count": 237,
     "metadata": {},
     "output_type": "execute_result"
    }
   ],
   "source": [
    "mylist"
   ]
  },
  {
   "cell_type": "code",
   "execution_count": null,
   "id": "11702c0e",
   "metadata": {},
   "outputs": [],
   "source": [
    "##exercise\n",
    "#write a function that accepts 3 integers and return true if any of the intergers is 0.otherwise return false\n",
    "#write a function that displays \"Hello name\" for any given name passed to it\n"
   ]
  },
  {
   "cell_type": "code",
   "execution_count": 238,
   "id": "b67db628",
   "metadata": {},
   "outputs": [],
   "source": [
    "def func1(a,b,c):\n",
    "    return not all((a,b,c))\n"
   ]
  },
  {
   "cell_type": "code",
   "execution_count": 239,
   "id": "ec1b255d",
   "metadata": {},
   "outputs": [],
   "source": [
    "\n",
    "def func2(name):\n",
    "    print(f\"Hello {name}\")"
   ]
  },
  {
   "cell_type": "code",
   "execution_count": 240,
   "id": "e68e8653",
   "metadata": {},
   "outputs": [
    {
     "data": {
      "text/plain": [
       "True"
      ]
     },
     "execution_count": 240,
     "metadata": {},
     "output_type": "execute_result"
    }
   ],
   "source": [
    "func1(1,0,0)"
   ]
  },
  {
   "cell_type": "code",
   "execution_count": 241,
   "id": "2ab81228",
   "metadata": {},
   "outputs": [
    {
     "name": "stdout",
     "output_type": "stream",
     "text": [
      "Hello lakshmi\n"
     ]
    }
   ],
   "source": [
    "func2('lakshmi')"
   ]
  },
  {
   "cell_type": "code",
   "execution_count": 242,
   "id": "69187bd0",
   "metadata": {},
   "outputs": [
    {
     "name": "stdout",
     "output_type": "stream",
     "text": [
      "Hello brydon\n"
     ]
    }
   ],
   "source": [
    "def greet(name):\n",
    "  print(f\"Hello {name}\")\n",
    "greet(\"brydon\")"
   ]
  },
  {
   "cell_type": "code",
   "execution_count": 243,
   "id": "822d2eb4",
   "metadata": {},
   "outputs": [
    {
     "data": {
      "text/plain": [
       "True"
      ]
     },
     "execution_count": 243,
     "metadata": {},
     "output_type": "execute_result"
    }
   ],
   "source": [
    "def check_zero(a: int, b: int, c: int):\n",
    "    if a == 0 or b == 0 or c == 0:\n",
    "        return True\n",
    "    else:\n",
    "        return False\n",
    "\n",
    "check_zero(1,2,3)\n",
    "check_zero(1,0,1)"
   ]
  },
  {
   "cell_type": "code",
   "execution_count": 244,
   "id": "6c969348",
   "metadata": {},
   "outputs": [
    {
     "name": "stdout",
     "output_type": "stream",
     "text": [
      "Hello john\n"
     ]
    }
   ],
   "source": [
    "def greet(name: str):\n",
    "    print(f\"Hello {name}\")\n",
    "greet('john')"
   ]
  },
  {
   "cell_type": "code",
   "execution_count": 246,
   "id": "a7f58953",
   "metadata": {},
   "outputs": [
    {
     "name": "stdout",
     "output_type": "stream",
     "text": [
      "True\n",
      "Hello John\n"
     ]
    }
   ],
   "source": [
    "def funA(a,b,c):\n",
    "    return (a == 0 or b == 0 or c == 0)\n",
    "\n",
    "def funB(name):\n",
    "    print(\"Hello \" + name)\n",
    "\n",
    "print(funA(0,1,2))\n",
    "funB(\"John\")"
   ]
  },
  {
   "cell_type": "code",
   "execution_count": 249,
   "id": "d4dd213c",
   "metadata": {},
   "outputs": [
    {
     "ename": "TypeError",
     "evalue": "unsupported operand type(s) for /: 'list' and 'list'",
     "output_type": "error",
     "traceback": [
      "\u001b[1;31m---------------------------------------------------------------------------\u001b[0m",
      "\u001b[1;31mTypeError\u001b[0m                                 Traceback (most recent call last)",
      "Input \u001b[1;32mIn [249]\u001b[0m, in \u001b[0;36m<cell line: 6>\u001b[1;34m()\u001b[0m\n\u001b[0;32m      3\u001b[0m distance \u001b[38;5;241m=\u001b[39m [\u001b[38;5;241m10\u001b[39m,\u001b[38;5;241m15\u001b[39m,\u001b[38;5;241m17\u001b[39m,\u001b[38;5;241m26\u001b[39m]\n\u001b[0;32m      4\u001b[0m time \u001b[38;5;241m=\u001b[39m [\u001b[38;5;241m.3\u001b[39m,\u001b[38;5;241m.47\u001b[39m,\u001b[38;5;241m.55\u001b[39m,\u001b[38;5;241m1.2\u001b[39m]\n\u001b[1;32m----> 6\u001b[0m speed \u001b[38;5;241m=\u001b[39m \u001b[43mdistance\u001b[49m\u001b[38;5;241;43m/\u001b[39;49m\u001b[43mtime\u001b[49m\n",
      "\u001b[1;31mTypeError\u001b[0m: unsupported operand type(s) for /: 'list' and 'list'"
     ]
    }
   ],
   "source": [
    "## Numpy\n",
    "\n",
    "distance = [10,15,17,26]\n",
    "time = [.3,.47,.55,1.2]\n",
    "\n",
    "speed = distance/time\n",
    "\n",
    "## you cannot apply mathematical operations over the entire list"
   ]
  },
  {
   "cell_type": "code",
   "execution_count": 254,
   "id": "68ec6895",
   "metadata": {},
   "outputs": [],
   "source": [
    "import numpy as np\n",
    "distance = [10,15,17,26]\n",
    "time = [.3,.47,.55,1.2]\n",
    "np_distance =np.array(distance)\n",
    "np_time =np.array(time)"
   ]
  },
  {
   "cell_type": "code",
   "execution_count": 255,
   "id": "dcff267e",
   "metadata": {},
   "outputs": [],
   "source": [
    "speed = np_distance/np_time"
   ]
  },
  {
   "cell_type": "code",
   "execution_count": 256,
   "id": "fde9e2e9",
   "metadata": {},
   "outputs": [
    {
     "data": {
      "text/plain": [
       "array([33.33333333, 31.91489362, 30.90909091, 21.66666667])"
      ]
     },
     "execution_count": 256,
     "metadata": {},
     "output_type": "execute_result"
    }
   ],
   "source": [
    "speed"
   ]
  },
  {
   "cell_type": "code",
   "execution_count": 257,
   "id": "dd076fc0",
   "metadata": {},
   "outputs": [
    {
     "data": {
      "text/plain": [
       "[10, 15, 17, 26, 10, 15, 17, 26, 10, 15, 17, 26]"
      ]
     },
     "execution_count": 257,
     "metadata": {},
     "output_type": "execute_result"
    }
   ],
   "source": [
    "distance * 3"
   ]
  },
  {
   "cell_type": "code",
   "execution_count": 258,
   "id": "a857848c",
   "metadata": {},
   "outputs": [
    {
     "data": {
      "text/plain": [
       "array([30, 45, 51, 78])"
      ]
     },
     "execution_count": 258,
     "metadata": {},
     "output_type": "execute_result"
    }
   ],
   "source": [
    "np_distance*3"
   ]
  },
  {
   "cell_type": "code",
   "execution_count": null,
   "id": "476f19ed",
   "metadata": {},
   "outputs": [],
   "source": [
    "'''\n",
    "#NumPyis the foundational package for mathematical computing in Python.\n",
    "#It has the following properties:\n",
    "#Executes element-wise computations and mathematical calculations\n",
    "#Tools for reading/writing array based datasets to disk\n",
    "#Tools for integrating language codes (C, C++)\n",
    "#Supports fast and efficient multidimensional arrays (ndarray)\n",
    "#Performs linear algebraic operations, Fourier transforms, and random number generation\n",
    "#Efficient way of storing and manipulating data\n",
    "\n",
    "\n",
    "An Array in NumPy has the following properties(ndarray)\n",
    "\n",
    "collection of values\n",
    "add,remove,change\n",
    "single type(homogeneous)\n",
    "multidimensional\n",
    "mathematical function support\n",
    "fast and efficient\n",
    "\n",
    "\n",
    "purpose of ndarray: in python ndarray is used as the primary container\n",
    "to exchange data between algorithms\n",
    "\n",
    "These arrays can be on dimensional,two dimensional,three dimensional, multi dimensional\n",
    "\n",
    "'''"
   ]
  },
  {
   "cell_type": "code",
   "execution_count": 259,
   "id": "6fe21917",
   "metadata": {},
   "outputs": [],
   "source": [
    "\n",
    "first_trial_cyclist=[10,15,17,26]\n",
    "second_trail_cyclist =[12,11,21,24]"
   ]
  },
  {
   "cell_type": "code",
   "execution_count": 260,
   "id": "faf5bb69",
   "metadata": {},
   "outputs": [],
   "source": [
    "\n",
    "np_first=np.array(first_trial_cyclist)\n",
    "np_second=np.array(second_trail_cyclist)\n",
    "np_total=np_first+np_second\n"
   ]
  },
  {
   "cell_type": "code",
   "execution_count": 261,
   "id": "791950f7",
   "metadata": {},
   "outputs": [
    {
     "data": {
      "text/plain": [
       "array([22, 26, 38, 50])"
      ]
     },
     "execution_count": 261,
     "metadata": {},
     "output_type": "execute_result"
    }
   ],
   "source": [
    "np_total"
   ]
  },
  {
   "cell_type": "code",
   "execution_count": 263,
   "id": "da538197",
   "metadata": {},
   "outputs": [
    {
     "data": {
      "text/plain": [
       "10"
      ]
     },
     "execution_count": 263,
     "metadata": {},
     "output_type": "execute_result"
    }
   ],
   "source": [
    "first_trial_cyclist[0]"
   ]
  },
  {
   "cell_type": "code",
   "execution_count": 265,
   "id": "ac4b356b",
   "metadata": {},
   "outputs": [
    {
     "data": {
      "text/plain": [
       "[10, 15, 17]"
      ]
     },
     "execution_count": 265,
     "metadata": {},
     "output_type": "execute_result"
    }
   ],
   "source": [
    "first_trial_cyclist[0:3]"
   ]
  },
  {
   "cell_type": "code",
   "execution_count": 266,
   "id": "1a18df91",
   "metadata": {},
   "outputs": [],
   "source": [
    "np_new = np.array([np_first,np_second])"
   ]
  },
  {
   "cell_type": "code",
   "execution_count": 267,
   "id": "f99fd4ca",
   "metadata": {},
   "outputs": [
    {
     "data": {
      "text/plain": [
       "array([[10, 15, 17, 26],\n",
       "       [12, 11, 21, 24]])"
      ]
     },
     "execution_count": 267,
     "metadata": {},
     "output_type": "execute_result"
    }
   ],
   "source": [
    "np_new"
   ]
  },
  {
   "cell_type": "code",
   "execution_count": 272,
   "id": "d7cb943f",
   "metadata": {},
   "outputs": [],
   "source": [
    "\n",
    "x = np.array([[1,2],[3,4]])\n",
    "y = np.array([[5,6],[7,8]])"
   ]
  },
  {
   "cell_type": "code",
   "execution_count": 273,
   "id": "0566bb34",
   "metadata": {},
   "outputs": [
    {
     "data": {
      "text/plain": [
       "array([[ 6,  8],\n",
       "       [10, 12]])"
      ]
     },
     "execution_count": 273,
     "metadata": {},
     "output_type": "execute_result"
    }
   ],
   "source": [
    "x + y"
   ]
  },
  {
   "cell_type": "code",
   "execution_count": 274,
   "id": "11f27197",
   "metadata": {},
   "outputs": [
    {
     "data": {
      "text/plain": [
       "array([[ 6,  8],\n",
       "       [10, 12]])"
      ]
     },
     "execution_count": 274,
     "metadata": {},
     "output_type": "execute_result"
    }
   ],
   "source": [
    "np.add(x,y)"
   ]
  },
  {
   "cell_type": "code",
   "execution_count": 275,
   "id": "0d9cb700",
   "metadata": {},
   "outputs": [
    {
     "data": {
      "text/plain": [
       "array([[4, 4],\n",
       "       [4, 4]])"
      ]
     },
     "execution_count": 275,
     "metadata": {},
     "output_type": "execute_result"
    }
   ],
   "source": [
    "np.subtract(y,x)"
   ]
  },
  {
   "cell_type": "code",
   "execution_count": 277,
   "id": "aca03218",
   "metadata": {},
   "outputs": [
    {
     "data": {
      "text/plain": [
       "10"
      ]
     },
     "execution_count": 277,
     "metadata": {},
     "output_type": "execute_result"
    }
   ],
   "source": [
    "x.sum()"
   ]
  },
  {
   "cell_type": "code",
   "execution_count": 278,
   "id": "e544a3f2",
   "metadata": {},
   "outputs": [
    {
     "data": {
      "text/plain": [
       "26"
      ]
     },
     "execution_count": 278,
     "metadata": {},
     "output_type": "execute_result"
    }
   ],
   "source": [
    "y.sum()"
   ]
  },
  {
   "cell_type": "code",
   "execution_count": 279,
   "id": "e6e3e8a5",
   "metadata": {},
   "outputs": [
    {
     "data": {
      "text/plain": [
       "array([ 1,  3,  6, 10], dtype=int32)"
      ]
     },
     "execution_count": 279,
     "metadata": {},
     "output_type": "execute_result"
    }
   ],
   "source": [
    "x.cumsum()"
   ]
  },
  {
   "cell_type": "code",
   "execution_count": 280,
   "id": "3e9a42c7",
   "metadata": {},
   "outputs": [
    {
     "data": {
      "text/plain": [
       "array([ 1,  2,  6, 24], dtype=int32)"
      ]
     },
     "execution_count": 280,
     "metadata": {},
     "output_type": "execute_result"
    }
   ],
   "source": [
    "x.cumprod()"
   ]
  },
  {
   "cell_type": "code",
   "execution_count": 281,
   "id": "24d39a78",
   "metadata": {},
   "outputs": [
    {
     "data": {
      "text/plain": [
       "(1, 4, 2.5)"
      ]
     },
     "execution_count": 281,
     "metadata": {},
     "output_type": "execute_result"
    }
   ],
   "source": [
    "x.min(),x.max(),x.mean()"
   ]
  },
  {
   "cell_type": "code",
   "execution_count": 282,
   "id": "9d4a9b3c",
   "metadata": {},
   "outputs": [
    {
     "data": {
      "text/plain": [
       "(2, 2)"
      ]
     },
     "execution_count": 282,
     "metadata": {},
     "output_type": "execute_result"
    }
   ],
   "source": [
    "x.shape"
   ]
  },
  {
   "cell_type": "code",
   "execution_count": 283,
   "id": "da48e3de",
   "metadata": {},
   "outputs": [
    {
     "data": {
      "text/plain": [
       "4"
      ]
     },
     "execution_count": 283,
     "metadata": {},
     "output_type": "execute_result"
    }
   ],
   "source": [
    "x.size"
   ]
  },
  {
   "cell_type": "code",
   "execution_count": 284,
   "id": "b5dc9ab6",
   "metadata": {},
   "outputs": [
    {
     "data": {
      "text/plain": [
       "array([[3, 4]])"
      ]
     },
     "execution_count": 284,
     "metadata": {},
     "output_type": "execute_result"
    }
   ],
   "source": [
    "x[1:3]"
   ]
  },
  {
   "cell_type": "code",
   "execution_count": null,
   "id": "5d4859b1",
   "metadata": {},
   "outputs": [],
   "source": [
    "## universal Function(ufunc)"
   ]
  },
  {
   "cell_type": "code",
   "execution_count": 289,
   "id": "c5ba1958",
   "metadata": {},
   "outputs": [],
   "source": [
    "from numpy import ufunc"
   ]
  },
  {
   "cell_type": "code",
   "execution_count": 291,
   "id": "b0258c74",
   "metadata": {},
   "outputs": [
    {
     "data": {
      "text/plain": [
       "array([1.41421356, 2.        , 3.        ])"
      ]
     },
     "execution_count": 291,
     "metadata": {},
     "output_type": "execute_result"
    }
   ],
   "source": [
    "\n",
    "np.sqrt([2,4,9])"
   ]
  },
  {
   "cell_type": "code",
   "execution_count": null,
   "id": "f41203e6",
   "metadata": {},
   "outputs": [],
   "source": [
    "## shape of an array using shape manipulation functions\n",
    "##flatten,split,stack,reshape,resize"
   ]
  },
  {
   "cell_type": "code",
   "execution_count": 298,
   "id": "326b2103",
   "metadata": {},
   "outputs": [],
   "source": [
    "result = np.array([[10,15,17,26,23,20],[12,11,21,24,34,23]])"
   ]
  },
  {
   "cell_type": "code",
   "execution_count": 299,
   "id": "3cdc1e8b",
   "metadata": {},
   "outputs": [
    {
     "data": {
      "text/plain": [
       "array([[10, 15, 17, 26, 23, 20],\n",
       "       [12, 11, 21, 24, 34, 23]])"
      ]
     },
     "execution_count": 299,
     "metadata": {},
     "output_type": "execute_result"
    }
   ],
   "source": [
    "result"
   ]
  },
  {
   "cell_type": "code",
   "execution_count": 300,
   "id": "7763bea7",
   "metadata": {},
   "outputs": [
    {
     "data": {
      "text/plain": [
       "(2, 6)"
      ]
     },
     "execution_count": 300,
     "metadata": {},
     "output_type": "execute_result"
    }
   ],
   "source": [
    "result.shape"
   ]
  },
  {
   "cell_type": "code",
   "execution_count": 295,
   "id": "b71b1baa",
   "metadata": {},
   "outputs": [
    {
     "data": {
      "text/plain": [
       "array([10, 15, 17, 26, 12, 11, 21, 24])"
      ]
     },
     "execution_count": 295,
     "metadata": {},
     "output_type": "execute_result"
    }
   ],
   "source": [
    "result.flatten()"
   ]
  },
  {
   "cell_type": "code",
   "execution_count": 301,
   "id": "49a199e9",
   "metadata": {},
   "outputs": [
    {
     "data": {
      "text/plain": [
       "array([10, 15, 17, 26, 23, 20, 12, 11, 21, 24, 34, 23])"
      ]
     },
     "execution_count": 301,
     "metadata": {},
     "output_type": "execute_result"
    }
   ],
   "source": [
    "result.ravel()"
   ]
  },
  {
   "cell_type": "code",
   "execution_count": 302,
   "id": "b0f59c8f",
   "metadata": {},
   "outputs": [
    {
     "data": {
      "text/plain": [
       "array([[10, 15, 17, 26],\n",
       "       [23, 20, 12, 11],\n",
       "       [21, 24, 34, 23]])"
      ]
     },
     "execution_count": 302,
     "metadata": {},
     "output_type": "execute_result"
    }
   ],
   "source": [
    "result.reshape(3,4)"
   ]
  },
  {
   "cell_type": "code",
   "execution_count": 303,
   "id": "a0a02cd3",
   "metadata": {},
   "outputs": [
    {
     "data": {
      "text/plain": [
       "2"
      ]
     },
     "execution_count": 303,
     "metadata": {},
     "output_type": "execute_result"
    }
   ],
   "source": [
    "result.ndim"
   ]
  },
  {
   "cell_type": "code",
   "execution_count": 304,
   "id": "be983d64",
   "metadata": {},
   "outputs": [
    {
     "data": {
      "text/plain": [
       "[array([[10, 15, 17],\n",
       "        [12, 11, 21]]),\n",
       " array([[26, 23, 20],\n",
       "        [24, 34, 23]])]"
      ]
     },
     "execution_count": 304,
     "metadata": {},
     "output_type": "execute_result"
    }
   ],
   "source": [
    "np.hsplit(result,2)"
   ]
  },
  {
   "cell_type": "code",
   "execution_count": null,
   "id": "3ddfcd7d",
   "metadata": {},
   "outputs": [],
   "source": [
    "###The various features of Pandas makes it an efficient library for Data Scientists.\n",
    "#Fast and efficient data wrangling\n",
    "#Powerful data structure\n",
    "#High performance merging and joining of data sets\n",
    "#Tools for reading/ writing data\n",
    "#Intelligent and automated data alignment\n",
    "#Easy data aggregation and transformation"
   ]
  },
  {
   "cell_type": "code",
   "execution_count": 308,
   "id": "ab8463f8",
   "metadata": {},
   "outputs": [],
   "source": [
    "import pandas as pd\n",
    "sample_data = pd.read_csv('d:/Sample_data.csv')"
   ]
  },
  {
   "cell_type": "code",
   "execution_count": 309,
   "id": "3d73b8f8",
   "metadata": {},
   "outputs": [
    {
     "data": {
      "text/html": [
       "<div>\n",
       "<style scoped>\n",
       "    .dataframe tbody tr th:only-of-type {\n",
       "        vertical-align: middle;\n",
       "    }\n",
       "\n",
       "    .dataframe tbody tr th {\n",
       "        vertical-align: top;\n",
       "    }\n",
       "\n",
       "    .dataframe thead th {\n",
       "        text-align: right;\n",
       "    }\n",
       "</style>\n",
       "<table border=\"1\" class=\"dataframe\">\n",
       "  <thead>\n",
       "    <tr style=\"text-align: right;\">\n",
       "      <th></th>\n",
       "      <th>ID</th>\n",
       "      <th>Gender</th>\n",
       "      <th>Race</th>\n",
       "      <th>SEB</th>\n",
       "      <th>School</th>\n",
       "      <th>Prog</th>\n",
       "      <th>Read</th>\n",
       "      <th>Write</th>\n",
       "      <th>Math1</th>\n",
       "      <th>Math2</th>\n",
       "      <th>SST</th>\n",
       "    </tr>\n",
       "  </thead>\n",
       "  <tbody>\n",
       "    <tr>\n",
       "      <th>0</th>\n",
       "      <td>70</td>\n",
       "      <td>0</td>\n",
       "      <td>4</td>\n",
       "      <td>1</td>\n",
       "      <td>1</td>\n",
       "      <td>1</td>\n",
       "      <td>57</td>\n",
       "      <td>52</td>\n",
       "      <td>41</td>\n",
       "      <td>47</td>\n",
       "      <td>57</td>\n",
       "    </tr>\n",
       "    <tr>\n",
       "      <th>1</th>\n",
       "      <td>121</td>\n",
       "      <td>1</td>\n",
       "      <td>4</td>\n",
       "      <td>2</td>\n",
       "      <td>1</td>\n",
       "      <td>3</td>\n",
       "      <td>68</td>\n",
       "      <td>59</td>\n",
       "      <td>53</td>\n",
       "      <td>63</td>\n",
       "      <td>61</td>\n",
       "    </tr>\n",
       "    <tr>\n",
       "      <th>2</th>\n",
       "      <td>86</td>\n",
       "      <td>0</td>\n",
       "      <td>4</td>\n",
       "      <td>3</td>\n",
       "      <td>1</td>\n",
       "      <td>1</td>\n",
       "      <td>44</td>\n",
       "      <td>33</td>\n",
       "      <td>54</td>\n",
       "      <td>58</td>\n",
       "      <td>31</td>\n",
       "    </tr>\n",
       "    <tr>\n",
       "      <th>3</th>\n",
       "      <td>141</td>\n",
       "      <td>0</td>\n",
       "      <td>4</td>\n",
       "      <td>3</td>\n",
       "      <td>1</td>\n",
       "      <td>3</td>\n",
       "      <td>63</td>\n",
       "      <td>44</td>\n",
       "      <td>47</td>\n",
       "      <td>53</td>\n",
       "      <td>56</td>\n",
       "    </tr>\n",
       "    <tr>\n",
       "      <th>4</th>\n",
       "      <td>172</td>\n",
       "      <td>0</td>\n",
       "      <td>4</td>\n",
       "      <td>2</td>\n",
       "      <td>1</td>\n",
       "      <td>2</td>\n",
       "      <td>47</td>\n",
       "      <td>52</td>\n",
       "      <td>57</td>\n",
       "      <td>53</td>\n",
       "      <td>61</td>\n",
       "    </tr>\n",
       "    <tr>\n",
       "      <th>...</th>\n",
       "      <td>...</td>\n",
       "      <td>...</td>\n",
       "      <td>...</td>\n",
       "      <td>...</td>\n",
       "      <td>...</td>\n",
       "      <td>...</td>\n",
       "      <td>...</td>\n",
       "      <td>...</td>\n",
       "      <td>...</td>\n",
       "      <td>...</td>\n",
       "      <td>...</td>\n",
       "    </tr>\n",
       "    <tr>\n",
       "      <th>195</th>\n",
       "      <td>31</td>\n",
       "      <td>1</td>\n",
       "      <td>2</td>\n",
       "      <td>2</td>\n",
       "      <td>2</td>\n",
       "      <td>1</td>\n",
       "      <td>55</td>\n",
       "      <td>59</td>\n",
       "      <td>52</td>\n",
       "      <td>42</td>\n",
       "      <td>56</td>\n",
       "    </tr>\n",
       "    <tr>\n",
       "      <th>196</th>\n",
       "      <td>145</td>\n",
       "      <td>1</td>\n",
       "      <td>4</td>\n",
       "      <td>2</td>\n",
       "      <td>1</td>\n",
       "      <td>3</td>\n",
       "      <td>42</td>\n",
       "      <td>46</td>\n",
       "      <td>38</td>\n",
       "      <td>36</td>\n",
       "      <td>46</td>\n",
       "    </tr>\n",
       "    <tr>\n",
       "      <th>197</th>\n",
       "      <td>187</td>\n",
       "      <td>1</td>\n",
       "      <td>4</td>\n",
       "      <td>2</td>\n",
       "      <td>2</td>\n",
       "      <td>1</td>\n",
       "      <td>57</td>\n",
       "      <td>41</td>\n",
       "      <td>57</td>\n",
       "      <td>55</td>\n",
       "      <td>52</td>\n",
       "    </tr>\n",
       "    <tr>\n",
       "      <th>198</th>\n",
       "      <td>118</td>\n",
       "      <td>1</td>\n",
       "      <td>4</td>\n",
       "      <td>2</td>\n",
       "      <td>1</td>\n",
       "      <td>1</td>\n",
       "      <td>55</td>\n",
       "      <td>62</td>\n",
       "      <td>58</td>\n",
       "      <td>58</td>\n",
       "      <td>61</td>\n",
       "    </tr>\n",
       "    <tr>\n",
       "      <th>199</th>\n",
       "      <td>137</td>\n",
       "      <td>1</td>\n",
       "      <td>4</td>\n",
       "      <td>3</td>\n",
       "      <td>1</td>\n",
       "      <td>2</td>\n",
       "      <td>63</td>\n",
       "      <td>65</td>\n",
       "      <td>65</td>\n",
       "      <td>53</td>\n",
       "      <td>61</td>\n",
       "    </tr>\n",
       "  </tbody>\n",
       "</table>\n",
       "<p>200 rows × 11 columns</p>\n",
       "</div>"
      ],
      "text/plain": [
       "      ID  Gender  Race  SEB  School  Prog  Read  Write  Math1  Math2  SST\n",
       "0     70       0     4    1       1     1    57     52     41     47   57\n",
       "1    121       1     4    2       1     3    68     59     53     63   61\n",
       "2     86       0     4    3       1     1    44     33     54     58   31\n",
       "3    141       0     4    3       1     3    63     44     47     53   56\n",
       "4    172       0     4    2       1     2    47     52     57     53   61\n",
       "..   ...     ...   ...  ...     ...   ...   ...    ...    ...    ...  ...\n",
       "195   31       1     2    2       2     1    55     59     52     42   56\n",
       "196  145       1     4    2       1     3    42     46     38     36   46\n",
       "197  187       1     4    2       2     1    57     41     57     55   52\n",
       "198  118       1     4    2       1     1    55     62     58     58   61\n",
       "199  137       1     4    3       1     2    63     65     65     53   61\n",
       "\n",
       "[200 rows x 11 columns]"
      ]
     },
     "execution_count": 309,
     "metadata": {},
     "output_type": "execute_result"
    }
   ],
   "source": [
    "sample_data"
   ]
  },
  {
   "cell_type": "code",
   "execution_count": 310,
   "id": "d97753b7",
   "metadata": {},
   "outputs": [
    {
     "data": {
      "text/html": [
       "<div>\n",
       "<style scoped>\n",
       "    .dataframe tbody tr th:only-of-type {\n",
       "        vertical-align: middle;\n",
       "    }\n",
       "\n",
       "    .dataframe tbody tr th {\n",
       "        vertical-align: top;\n",
       "    }\n",
       "\n",
       "    .dataframe thead th {\n",
       "        text-align: right;\n",
       "    }\n",
       "</style>\n",
       "<table border=\"1\" class=\"dataframe\">\n",
       "  <thead>\n",
       "    <tr style=\"text-align: right;\">\n",
       "      <th></th>\n",
       "      <th>Read</th>\n",
       "      <th>SST</th>\n",
       "    </tr>\n",
       "  </thead>\n",
       "  <tbody>\n",
       "    <tr>\n",
       "      <th>0</th>\n",
       "      <td>57</td>\n",
       "      <td>57</td>\n",
       "    </tr>\n",
       "    <tr>\n",
       "      <th>1</th>\n",
       "      <td>68</td>\n",
       "      <td>61</td>\n",
       "    </tr>\n",
       "    <tr>\n",
       "      <th>2</th>\n",
       "      <td>44</td>\n",
       "      <td>31</td>\n",
       "    </tr>\n",
       "    <tr>\n",
       "      <th>3</th>\n",
       "      <td>63</td>\n",
       "      <td>56</td>\n",
       "    </tr>\n",
       "    <tr>\n",
       "      <th>4</th>\n",
       "      <td>47</td>\n",
       "      <td>61</td>\n",
       "    </tr>\n",
       "    <tr>\n",
       "      <th>...</th>\n",
       "      <td>...</td>\n",
       "      <td>...</td>\n",
       "    </tr>\n",
       "    <tr>\n",
       "      <th>195</th>\n",
       "      <td>55</td>\n",
       "      <td>56</td>\n",
       "    </tr>\n",
       "    <tr>\n",
       "      <th>196</th>\n",
       "      <td>42</td>\n",
       "      <td>46</td>\n",
       "    </tr>\n",
       "    <tr>\n",
       "      <th>197</th>\n",
       "      <td>57</td>\n",
       "      <td>52</td>\n",
       "    </tr>\n",
       "    <tr>\n",
       "      <th>198</th>\n",
       "      <td>55</td>\n",
       "      <td>61</td>\n",
       "    </tr>\n",
       "    <tr>\n",
       "      <th>199</th>\n",
       "      <td>63</td>\n",
       "      <td>61</td>\n",
       "    </tr>\n",
       "  </tbody>\n",
       "</table>\n",
       "<p>200 rows × 2 columns</p>\n",
       "</div>"
      ],
      "text/plain": [
       "     Read  SST\n",
       "0      57   57\n",
       "1      68   61\n",
       "2      44   31\n",
       "3      63   56\n",
       "4      47   61\n",
       "..    ...  ...\n",
       "195    55   56\n",
       "196    42   46\n",
       "197    57   52\n",
       "198    55   61\n",
       "199    63   61\n",
       "\n",
       "[200 rows x 2 columns]"
      ]
     },
     "execution_count": 310,
     "metadata": {},
     "output_type": "execute_result"
    }
   ],
   "source": [
    "sample_data.loc[ :,['Read', 'SST']]"
   ]
  },
  {
   "cell_type": "code",
   "execution_count": 311,
   "id": "e44c92f2",
   "metadata": {},
   "outputs": [
    {
     "data": {
      "text/html": [
       "<div>\n",
       "<style scoped>\n",
       "    .dataframe tbody tr th:only-of-type {\n",
       "        vertical-align: middle;\n",
       "    }\n",
       "\n",
       "    .dataframe tbody tr th {\n",
       "        vertical-align: top;\n",
       "    }\n",
       "\n",
       "    .dataframe thead th {\n",
       "        text-align: right;\n",
       "    }\n",
       "</style>\n",
       "<table border=\"1\" class=\"dataframe\">\n",
       "  <thead>\n",
       "    <tr style=\"text-align: right;\">\n",
       "      <th></th>\n",
       "      <th>ID</th>\n",
       "      <th>Gender</th>\n",
       "      <th>Race</th>\n",
       "      <th>SEB</th>\n",
       "      <th>School</th>\n",
       "      <th>Prog</th>\n",
       "      <th>Read</th>\n",
       "      <th>Write</th>\n",
       "      <th>Math1</th>\n",
       "      <th>Math2</th>\n",
       "      <th>SST</th>\n",
       "    </tr>\n",
       "  </thead>\n",
       "  <tbody>\n",
       "    <tr>\n",
       "      <th>0</th>\n",
       "      <td>70</td>\n",
       "      <td>0</td>\n",
       "      <td>4</td>\n",
       "      <td>1</td>\n",
       "      <td>1</td>\n",
       "      <td>1</td>\n",
       "      <td>57</td>\n",
       "      <td>52</td>\n",
       "      <td>41</td>\n",
       "      <td>47</td>\n",
       "      <td>57</td>\n",
       "    </tr>\n",
       "    <tr>\n",
       "      <th>1</th>\n",
       "      <td>121</td>\n",
       "      <td>1</td>\n",
       "      <td>4</td>\n",
       "      <td>2</td>\n",
       "      <td>1</td>\n",
       "      <td>3</td>\n",
       "      <td>68</td>\n",
       "      <td>59</td>\n",
       "      <td>53</td>\n",
       "      <td>63</td>\n",
       "      <td>61</td>\n",
       "    </tr>\n",
       "    <tr>\n",
       "      <th>2</th>\n",
       "      <td>86</td>\n",
       "      <td>0</td>\n",
       "      <td>4</td>\n",
       "      <td>3</td>\n",
       "      <td>1</td>\n",
       "      <td>1</td>\n",
       "      <td>44</td>\n",
       "      <td>33</td>\n",
       "      <td>54</td>\n",
       "      <td>58</td>\n",
       "      <td>31</td>\n",
       "    </tr>\n",
       "    <tr>\n",
       "      <th>3</th>\n",
       "      <td>141</td>\n",
       "      <td>0</td>\n",
       "      <td>4</td>\n",
       "      <td>3</td>\n",
       "      <td>1</td>\n",
       "      <td>3</td>\n",
       "      <td>63</td>\n",
       "      <td>44</td>\n",
       "      <td>47</td>\n",
       "      <td>53</td>\n",
       "      <td>56</td>\n",
       "    </tr>\n",
       "    <tr>\n",
       "      <th>4</th>\n",
       "      <td>172</td>\n",
       "      <td>0</td>\n",
       "      <td>4</td>\n",
       "      <td>2</td>\n",
       "      <td>1</td>\n",
       "      <td>2</td>\n",
       "      <td>47</td>\n",
       "      <td>52</td>\n",
       "      <td>57</td>\n",
       "      <td>53</td>\n",
       "      <td>61</td>\n",
       "    </tr>\n",
       "  </tbody>\n",
       "</table>\n",
       "</div>"
      ],
      "text/plain": [
       "    ID  Gender  Race  SEB  School  Prog  Read  Write  Math1  Math2  SST\n",
       "0   70       0     4    1       1     1    57     52     41     47   57\n",
       "1  121       1     4    2       1     3    68     59     53     63   61\n",
       "2   86       0     4    3       1     1    44     33     54     58   31\n",
       "3  141       0     4    3       1     3    63     44     47     53   56\n",
       "4  172       0     4    2       1     2    47     52     57     53   61"
      ]
     },
     "execution_count": 311,
     "metadata": {},
     "output_type": "execute_result"
    }
   ],
   "source": [
    "sample_data.head()"
   ]
  },
  {
   "cell_type": "code",
   "execution_count": 312,
   "id": "e6df1861",
   "metadata": {},
   "outputs": [
    {
     "data": {
      "text/plain": [
       "ID        200\n",
       "Gender    200\n",
       "Race      200\n",
       "SEB       200\n",
       "School    200\n",
       "Prog      200\n",
       "Read      200\n",
       "Write     200\n",
       "Math1     200\n",
       "Math2     200\n",
       "SST       200\n",
       "dtype: int64"
      ]
     },
     "execution_count": 312,
     "metadata": {},
     "output_type": "execute_result"
    }
   ],
   "source": [
    "\n",
    "\n",
    "sample_data.count()"
   ]
  },
  {
   "cell_type": "code",
   "execution_count": 313,
   "id": "1b2a0d00",
   "metadata": {},
   "outputs": [
    {
     "data": {
      "text/html": [
       "<div>\n",
       "<style scoped>\n",
       "    .dataframe tbody tr th:only-of-type {\n",
       "        vertical-align: middle;\n",
       "    }\n",
       "\n",
       "    .dataframe tbody tr th {\n",
       "        vertical-align: top;\n",
       "    }\n",
       "\n",
       "    .dataframe thead th {\n",
       "        text-align: right;\n",
       "    }\n",
       "</style>\n",
       "<table border=\"1\" class=\"dataframe\">\n",
       "  <thead>\n",
       "    <tr style=\"text-align: right;\">\n",
       "      <th></th>\n",
       "      <th>ID</th>\n",
       "      <th>Gender</th>\n",
       "      <th>Race</th>\n",
       "      <th>SEB</th>\n",
       "      <th>School</th>\n",
       "      <th>Prog</th>\n",
       "      <th>Read</th>\n",
       "      <th>Write</th>\n",
       "      <th>Math1</th>\n",
       "      <th>Math2</th>\n",
       "      <th>SST</th>\n",
       "    </tr>\n",
       "  </thead>\n",
       "  <tbody>\n",
       "    <tr>\n",
       "      <th>0</th>\n",
       "      <td>False</td>\n",
       "      <td>False</td>\n",
       "      <td>False</td>\n",
       "      <td>False</td>\n",
       "      <td>False</td>\n",
       "      <td>False</td>\n",
       "      <td>False</td>\n",
       "      <td>False</td>\n",
       "      <td>False</td>\n",
       "      <td>False</td>\n",
       "      <td>False</td>\n",
       "    </tr>\n",
       "    <tr>\n",
       "      <th>1</th>\n",
       "      <td>False</td>\n",
       "      <td>False</td>\n",
       "      <td>False</td>\n",
       "      <td>False</td>\n",
       "      <td>False</td>\n",
       "      <td>False</td>\n",
       "      <td>False</td>\n",
       "      <td>False</td>\n",
       "      <td>False</td>\n",
       "      <td>False</td>\n",
       "      <td>False</td>\n",
       "    </tr>\n",
       "    <tr>\n",
       "      <th>2</th>\n",
       "      <td>False</td>\n",
       "      <td>False</td>\n",
       "      <td>False</td>\n",
       "      <td>False</td>\n",
       "      <td>False</td>\n",
       "      <td>False</td>\n",
       "      <td>False</td>\n",
       "      <td>False</td>\n",
       "      <td>False</td>\n",
       "      <td>False</td>\n",
       "      <td>False</td>\n",
       "    </tr>\n",
       "    <tr>\n",
       "      <th>3</th>\n",
       "      <td>False</td>\n",
       "      <td>False</td>\n",
       "      <td>False</td>\n",
       "      <td>False</td>\n",
       "      <td>False</td>\n",
       "      <td>False</td>\n",
       "      <td>False</td>\n",
       "      <td>False</td>\n",
       "      <td>False</td>\n",
       "      <td>False</td>\n",
       "      <td>False</td>\n",
       "    </tr>\n",
       "    <tr>\n",
       "      <th>4</th>\n",
       "      <td>False</td>\n",
       "      <td>False</td>\n",
       "      <td>False</td>\n",
       "      <td>False</td>\n",
       "      <td>False</td>\n",
       "      <td>False</td>\n",
       "      <td>False</td>\n",
       "      <td>False</td>\n",
       "      <td>False</td>\n",
       "      <td>False</td>\n",
       "      <td>False</td>\n",
       "    </tr>\n",
       "    <tr>\n",
       "      <th>...</th>\n",
       "      <td>...</td>\n",
       "      <td>...</td>\n",
       "      <td>...</td>\n",
       "      <td>...</td>\n",
       "      <td>...</td>\n",
       "      <td>...</td>\n",
       "      <td>...</td>\n",
       "      <td>...</td>\n",
       "      <td>...</td>\n",
       "      <td>...</td>\n",
       "      <td>...</td>\n",
       "    </tr>\n",
       "    <tr>\n",
       "      <th>195</th>\n",
       "      <td>False</td>\n",
       "      <td>False</td>\n",
       "      <td>False</td>\n",
       "      <td>False</td>\n",
       "      <td>False</td>\n",
       "      <td>False</td>\n",
       "      <td>False</td>\n",
       "      <td>False</td>\n",
       "      <td>False</td>\n",
       "      <td>False</td>\n",
       "      <td>False</td>\n",
       "    </tr>\n",
       "    <tr>\n",
       "      <th>196</th>\n",
       "      <td>False</td>\n",
       "      <td>False</td>\n",
       "      <td>False</td>\n",
       "      <td>False</td>\n",
       "      <td>False</td>\n",
       "      <td>False</td>\n",
       "      <td>False</td>\n",
       "      <td>False</td>\n",
       "      <td>False</td>\n",
       "      <td>False</td>\n",
       "      <td>False</td>\n",
       "    </tr>\n",
       "    <tr>\n",
       "      <th>197</th>\n",
       "      <td>False</td>\n",
       "      <td>False</td>\n",
       "      <td>False</td>\n",
       "      <td>False</td>\n",
       "      <td>False</td>\n",
       "      <td>False</td>\n",
       "      <td>False</td>\n",
       "      <td>False</td>\n",
       "      <td>False</td>\n",
       "      <td>False</td>\n",
       "      <td>False</td>\n",
       "    </tr>\n",
       "    <tr>\n",
       "      <th>198</th>\n",
       "      <td>False</td>\n",
       "      <td>False</td>\n",
       "      <td>False</td>\n",
       "      <td>False</td>\n",
       "      <td>False</td>\n",
       "      <td>False</td>\n",
       "      <td>False</td>\n",
       "      <td>False</td>\n",
       "      <td>False</td>\n",
       "      <td>False</td>\n",
       "      <td>False</td>\n",
       "    </tr>\n",
       "    <tr>\n",
       "      <th>199</th>\n",
       "      <td>False</td>\n",
       "      <td>False</td>\n",
       "      <td>False</td>\n",
       "      <td>False</td>\n",
       "      <td>False</td>\n",
       "      <td>False</td>\n",
       "      <td>False</td>\n",
       "      <td>False</td>\n",
       "      <td>False</td>\n",
       "      <td>False</td>\n",
       "      <td>False</td>\n",
       "    </tr>\n",
       "  </tbody>\n",
       "</table>\n",
       "<p>200 rows × 11 columns</p>\n",
       "</div>"
      ],
      "text/plain": [
       "        ID  Gender   Race    SEB  School   Prog   Read  Write  Math1  Math2  \\\n",
       "0    False   False  False  False   False  False  False  False  False  False   \n",
       "1    False   False  False  False   False  False  False  False  False  False   \n",
       "2    False   False  False  False   False  False  False  False  False  False   \n",
       "3    False   False  False  False   False  False  False  False  False  False   \n",
       "4    False   False  False  False   False  False  False  False  False  False   \n",
       "..     ...     ...    ...    ...     ...    ...    ...    ...    ...    ...   \n",
       "195  False   False  False  False   False  False  False  False  False  False   \n",
       "196  False   False  False  False   False  False  False  False  False  False   \n",
       "197  False   False  False  False   False  False  False  False  False  False   \n",
       "198  False   False  False  False   False  False  False  False  False  False   \n",
       "199  False   False  False  False   False  False  False  False  False  False   \n",
       "\n",
       "       SST  \n",
       "0    False  \n",
       "1    False  \n",
       "2    False  \n",
       "3    False  \n",
       "4    False  \n",
       "..     ...  \n",
       "195  False  \n",
       "196  False  \n",
       "197  False  \n",
       "198  False  \n",
       "199  False  \n",
       "\n",
       "[200 rows x 11 columns]"
      ]
     },
     "execution_count": 313,
     "metadata": {},
     "output_type": "execute_result"
    }
   ],
   "source": [
    "sample_data.isna()"
   ]
  },
  {
   "cell_type": "code",
   "execution_count": 314,
   "id": "9fcf19fb",
   "metadata": {},
   "outputs": [],
   "source": [
    "\n",
    "sample_data['Total']= sample_data.loc[ : , 'Read' :'SST'].sum(axis = 1)\n"
   ]
  },
  {
   "cell_type": "code",
   "execution_count": 315,
   "id": "9e193fcd",
   "metadata": {},
   "outputs": [],
   "source": [
    "sample_data.insert(1, 'Name', 'B', allow_duplicates=True)\n",
    "\n"
   ]
  },
  {
   "cell_type": "code",
   "execution_count": null,
   "id": "28902644",
   "metadata": {},
   "outputs": [],
   "source": []
  }
 ],
 "metadata": {
  "kernelspec": {
   "display_name": "Python 3 (ipykernel)",
   "language": "python",
   "name": "python3"
  },
  "language_info": {
   "codemirror_mode": {
    "name": "ipython",
    "version": 3
   },
   "file_extension": ".py",
   "mimetype": "text/x-python",
   "name": "python",
   "nbconvert_exporter": "python",
   "pygments_lexer": "ipython3",
   "version": "3.9.12"
  }
 },
 "nbformat": 4,
 "nbformat_minor": 5
}
