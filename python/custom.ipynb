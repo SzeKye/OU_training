{
 "cells": [
  {
   "cell_type": "markdown",
   "id": "095dd0fa",
   "metadata": {},
   "source": [
    "Python\n",
    "Powerful computer language\n",
    "simple and easy to learn\n",
    "free and open source\n",
    "interactive\n",
    "portable\n",
    "object oriented\n",
    "interpreted -- bytecode -- translated to native lang -- bytecode --portable\n",
    "dynamic\n",
    "python is a cross platform programming language\n",
    "mac os, linux, port to java, dotnet\n",
    "modular programming and reuse of code\n",
    "python uses whitespaces and indentation to delimit blocks\n",
    "high level programming language"
   ]
  },
  {
   "cell_type": "markdown",
   "id": "23b16480",
   "metadata": {},
   "source": [
    "Python used for many purposes\n",
    "web development -server side web development.\n",
    "softtware development - python can help with software testing, bug tracking and build control.\n",
    "data science - python is used for data analysis, data visualisation, and other data science tasks\n",
    "machine learning - python is used in machine learning\n",
    "desktop applications: python can be used to build desktop applications including many linux and open source applications"
   ]
  },
  {
   "cell_type": "code",
   "execution_count": 1,
   "id": "1c24523e",
   "metadata": {},
   "outputs": [
    {
     "data": {
      "text/plain": [
       "\"\\ncomments are hints that we add to our code to make it easier to understand\\npython comments start with #(single line comment)\\nWe should use comments:\\nFor future references, as comments make our code readable.\\nFor debugging.\\nFor code collaboration, as comments help peer developers to understand each other's code.\\nNote: Comments are not and should not be used as a substitute to explain poorly written code.\\nAlways try to write clean, understandable code, and then use comments as an addition. \\nIn most cases, always use comments to explain  'why' rather than 'how' and you are good to go.\\nNote: This approach comes in handy while working with large files.\\nInstead of deleting any line, we can use comments and identify which one is causing an error.\\n\""
      ]
     },
     "execution_count": 1,
     "metadata": {},
     "output_type": "execute_result"
    }
   ],
   "source": [
    "# single line comments\n",
    "'''\n",
    "comments are hints that we add to our code to make it easier to understand\n",
    "python comments start with #(single line comment)\n",
    "We should use comments:\n",
    "For future references, as comments make our code readable.\n",
    "For debugging.\n",
    "For code collaboration, as comments help peer developers to understand each other's code.\n",
    "Note: Comments are not and should not be used as a substitute to explain poorly written code.\n",
    "Always try to write clean, understandable code, and then use comments as an addition. \n",
    "In most cases, always use comments to explain  'why' rather than 'how' and you are good to go.\n",
    "Note: This approach comes in handy while working with large files.\n",
    "Instead of deleting any line, we can use comments and identify which one is causing an error.\n",
    "'''"
   ]
  },
  {
   "cell_type": "code",
   "execution_count": 2,
   "id": "5bafe251",
   "metadata": {},
   "outputs": [],
   "source": [
    "## variables, identifiers"
   ]
  },
  {
   "cell_type": "code",
   "execution_count": 3,
   "id": "8a42bc58",
   "metadata": {},
   "outputs": [],
   "source": [
    "import sys"
   ]
  },
  {
   "cell_type": "code",
   "execution_count": 4,
   "id": "18daaa21",
   "metadata": {},
   "outputs": [
    {
     "name": "stdout",
     "output_type": "stream",
     "text": [
      "3.12.7 | packaged by Anaconda, Inc. | (main, Oct  4 2024, 13:17:27) [MSC v.1929 64 bit (AMD64)]\n"
     ]
    }
   ],
   "source": [
    "print(sys.version)"
   ]
  },
  {
   "cell_type": "code",
   "execution_count": 5,
   "id": "6e8a7bc2",
   "metadata": {},
   "outputs": [],
   "source": [
    "import platform"
   ]
  },
  {
   "cell_type": "code",
   "execution_count": 6,
   "id": "844f5d4e",
   "metadata": {},
   "outputs": [
    {
     "data": {
      "text/plain": [
       "'3.12.7'"
      ]
     },
     "execution_count": 6,
     "metadata": {},
     "output_type": "execute_result"
    }
   ],
   "source": [
    "platform.python_version()"
   ]
  },
  {
   "cell_type": "code",
   "execution_count": 7,
   "id": "27349ffa",
   "metadata": {},
   "outputs": [
    {
     "name": "stdout",
     "output_type": "stream",
     "text": [
      "['ArithmeticError', 'AssertionError', 'AttributeError', 'BaseException', 'BaseExceptionGroup', 'BlockingIOError', 'BrokenPipeError', 'BufferError', 'BytesWarning', 'ChildProcessError', 'ConnectionAbortedError', 'ConnectionError', 'ConnectionRefusedError', 'ConnectionResetError', 'DeprecationWarning', 'EOFError', 'Ellipsis', 'EncodingWarning', 'EnvironmentError', 'Exception', 'ExceptionGroup', 'False', 'FileExistsError', 'FileNotFoundError', 'FloatingPointError', 'FutureWarning', 'GeneratorExit', 'IOError', 'ImportError', 'ImportWarning', 'IndentationError', 'IndexError', 'InterruptedError', 'IsADirectoryError', 'KeyError', 'KeyboardInterrupt', 'LookupError', 'MemoryError', 'ModuleNotFoundError', 'NameError', 'None', 'NotADirectoryError', 'NotImplemented', 'NotImplementedError', 'OSError', 'OverflowError', 'PendingDeprecationWarning', 'PermissionError', 'ProcessLookupError', 'RecursionError', 'ReferenceError', 'ResourceWarning', 'RuntimeError', 'RuntimeWarning', 'StopAsyncIteration', 'StopIteration', 'SyntaxError', 'SyntaxWarning', 'SystemError', 'SystemExit', 'TabError', 'TimeoutError', 'True', 'TypeError', 'UnboundLocalError', 'UnicodeDecodeError', 'UnicodeEncodeError', 'UnicodeError', 'UnicodeTranslateError', 'UnicodeWarning', 'UserWarning', 'ValueError', 'Warning', 'WindowsError', 'ZeroDivisionError', '__IPYTHON__', '__build_class__', '__debug__', '__doc__', '__import__', '__loader__', '__name__', '__package__', '__spec__', 'abs', 'aiter', 'all', 'anext', 'any', 'ascii', 'bin', 'bool', 'breakpoint', 'bytearray', 'bytes', 'callable', 'chr', 'classmethod', 'compile', 'complex', 'copyright', 'credits', 'delattr', 'dict', 'dir', 'display', 'divmod', 'enumerate', 'eval', 'exec', 'execfile', 'filter', 'float', 'format', 'frozenset', 'get_ipython', 'getattr', 'globals', 'hasattr', 'hash', 'help', 'hex', 'id', 'input', 'int', 'isinstance', 'issubclass', 'iter', 'len', 'license', 'list', 'locals', 'map', 'max', 'memoryview', 'min', 'next', 'object', 'oct', 'open', 'ord', 'pow', 'print', 'property', 'range', 'repr', 'reversed', 'round', 'runfile', 'set', 'setattr', 'slice', 'sorted', 'staticmethod', 'str', 'sum', 'super', 'tuple', 'type', 'vars', 'zip']\n"
     ]
    }
   ],
   "source": [
    "print(dir(__builtins__))"
   ]
  },
  {
   "cell_type": "code",
   "execution_count": 8,
   "id": "0ea77c06",
   "metadata": {},
   "outputs": [
    {
     "data": {
      "text/plain": [
       "['__add__',\n",
       " '__class__',\n",
       " '__contains__',\n",
       " '__delattr__',\n",
       " '__dir__',\n",
       " '__doc__',\n",
       " '__eq__',\n",
       " '__format__',\n",
       " '__ge__',\n",
       " '__getattribute__',\n",
       " '__getitem__',\n",
       " '__getnewargs__',\n",
       " '__getstate__',\n",
       " '__gt__',\n",
       " '__hash__',\n",
       " '__init__',\n",
       " '__init_subclass__',\n",
       " '__iter__',\n",
       " '__le__',\n",
       " '__len__',\n",
       " '__lt__',\n",
       " '__mod__',\n",
       " '__mul__',\n",
       " '__ne__',\n",
       " '__new__',\n",
       " '__reduce__',\n",
       " '__reduce_ex__',\n",
       " '__repr__',\n",
       " '__rmod__',\n",
       " '__rmul__',\n",
       " '__setattr__',\n",
       " '__sizeof__',\n",
       " '__str__',\n",
       " '__subclasshook__',\n",
       " 'capitalize',\n",
       " 'casefold',\n",
       " 'center',\n",
       " 'count',\n",
       " 'encode',\n",
       " 'endswith',\n",
       " 'expandtabs',\n",
       " 'find',\n",
       " 'format',\n",
       " 'format_map',\n",
       " 'index',\n",
       " 'isalnum',\n",
       " 'isalpha',\n",
       " 'isascii',\n",
       " 'isdecimal',\n",
       " 'isdigit',\n",
       " 'isidentifier',\n",
       " 'islower',\n",
       " 'isnumeric',\n",
       " 'isprintable',\n",
       " 'isspace',\n",
       " 'istitle',\n",
       " 'isupper',\n",
       " 'join',\n",
       " 'ljust',\n",
       " 'lower',\n",
       " 'lstrip',\n",
       " 'maketrans',\n",
       " 'partition',\n",
       " 'removeprefix',\n",
       " 'removesuffix',\n",
       " 'replace',\n",
       " 'rfind',\n",
       " 'rindex',\n",
       " 'rjust',\n",
       " 'rpartition',\n",
       " 'rsplit',\n",
       " 'rstrip',\n",
       " 'split',\n",
       " 'splitlines',\n",
       " 'startswith',\n",
       " 'strip',\n",
       " 'swapcase',\n",
       " 'title',\n",
       " 'translate',\n",
       " 'upper',\n",
       " 'zfill']"
      ]
     },
     "execution_count": 8,
     "metadata": {},
     "output_type": "execute_result"
    }
   ],
   "source": [
    "dir(\"modules\")"
   ]
  },
  {
   "cell_type": "code",
   "execution_count": 9,
   "id": "39c71d1c",
   "metadata": {},
   "outputs": [
    {
     "name": "stdout",
     "output_type": "stream",
     "text": [
      "\n",
      "Please wait a moment while I gather a list of all available modules...\n",
      "\n"
     ]
    },
    {
     "name": "stderr",
     "output_type": "stream",
     "text": [
      "Database not initialized by migration_upgrade(). Running it again\n",
      "c:\\Users\\szloh\\anaconda3\\Lib\\site-packages\\paramiko\\pkey.py:82: CryptographyDeprecationWarning: TripleDES has been moved to cryptography.hazmat.decrepit.ciphers.algorithms.TripleDES and will be removed from this module in 48.0.0.\n",
      "  \"cipher\": algorithms.TripleDES,\n",
      "c:\\Users\\szloh\\anaconda3\\Lib\\site-packages\\paramiko\\transport.py:219: CryptographyDeprecationWarning: Blowfish has been moved to cryptography.hazmat.decrepit.ciphers.algorithms.Blowfish and will be removed from this module in 45.0.0.\n",
      "  \"class\": algorithms.Blowfish,\n",
      "c:\\Users\\szloh\\anaconda3\\Lib\\site-packages\\paramiko\\transport.py:243: CryptographyDeprecationWarning: TripleDES has been moved to cryptography.hazmat.decrepit.ciphers.algorithms.TripleDES and will be removed from this module in 48.0.0.\n",
      "  \"class\": algorithms.TripleDES,\n",
      "c:\\Users\\szloh\\anaconda3\\Lib\\site-packages\\nltk\\twitter\\__init__.py:20: UserWarning: The twython library has not been installed. Some functionality from the twitter package will not be available.\n",
      "  warnings.warn(\n",
      "c:\\Users\\szloh\\anaconda3\\Lib\\pkgutil.py:78: UserWarning: The numpy.array_api submodule is still experimental. See NEP 47.\n",
      "  __import__(info.name)\n",
      "c:\\Users\\szloh\\anaconda3\\Lib\\site-packages\\pydantic\\experimental\\__init__.py:7: PydanticExperimentalWarning:\n",
      "\n",
      "This module is experimental, its contents are subject to change and deprecation.\n",
      "\n",
      "No QCoreApplication instance found. Application patches not applied. You have to call load_stylesheet function after instantiation of QApplication to take effect. \n"
     ]
    },
    {
     "name": "stdout",
     "output_type": "stream",
     "text": [
      "3204bda914b7f2c6f497__mypyc chunk               markdown_it         six\n",
      "IPython             click               markupsafe          skimage\n",
      "OpenSSL             cloudpickle         marshal             sklearn\n",
      "PIL                 cmath               math                slugify\n",
      "PyQt5               cmd                 matplotlib          smart_open\n",
      "__future__          code                matplotlib_inline   smmap\n",
      "__hello__           codecs              mccabe              smtplib\n",
      "__phello__          codeop              mdit_py_plugins     sndhdr\n",
      "_abc                collections         mdurl               sniffio\n",
      "_aix_support        colorama            menuinst            snowballstemmer\n",
      "_argon2_cffi_bindings colorcet            mimetypes           socket\n",
      "_ast                colorsys            mistune             socketserver\n",
      "_asyncio            comm                mkl                 socks\n",
      "_bisect             commctrl            mkl_fft             sockshandler\n",
      "_black_version      compileall          mkl_random          sortedcontainers\n",
      "_blake2             concurrent          mmap                soupsieve\n",
      "_brotli             conda               mmapfile            sphinx\n",
      "_bz2                conda_build         mmsystem            spyder\n",
      "_cffi_backend       conda_content_trust modulefinder        spyder_kernels\n",
      "_codecs             conda_env           more_itertools      sqlalchemy\n",
      "_codecs_cn          conda_index         mpmath              sqlite3\n",
      "_codecs_hk          conda_libmamba_solver msgpack             sre_compile\n",
      "_codecs_iso2022     conda_pack          msilib              sre_constants\n",
      "_codecs_jp          conda_package_handling msvcrt              sre_parse\n",
      "_codecs_kr          conda_package_streaming multidict           ssl\n",
      "_codecs_tw          conda_token         multipledispatch    sspi\n",
      "_collections        configparser        multiprocessing     sspicon\n",
      "_collections_abc    constantly          mypy                stack_data\n",
      "_compat_pickle      contextlib          mypy_extensions     stat\n",
      "_compression        contextvars         mypyc               statistics\n",
      "_contextvars        contourpy           nacl                statsmodels\n",
      "_csv                cookiecutter        navigator_updater   streamlit\n",
      "_ctypes             copy                nb_conda_kernels    string\n",
      "_ctypes_test        copyreg             nbclient            stringprep\n",
      "_datetime           cpuinfo             nbconvert           struct\n",
      "_decimal            crypt               nbformat            subprocess\n",
      "_distutils_hack     cryptography        nest_asyncio        sunau\n",
      "_elementtree        cssselect           netbios             sympy\n",
      "_functools          csv                 netrc               symtable\n",
      "_hashlib            ctypes              networkx            sys\n",
      "_heapq              curl                nltk                sysconfig\n",
      "_imp                curses              nntplib             tables\n",
      "_io                 cwp                 notebook            tabnanny\n",
      "_json               cycler              notebook_shim       tabulate\n",
      "_locale             cytoolz             nt                  tarfile\n",
      "_lsprof             dask                ntpath              tblib\n",
      "_lzma               dask_expr           ntsecuritycon       telnetlib\n",
      "_markupbase         dataclasses         nturl2path          tempfile\n",
      "_md5                datashader          numba               tenacity\n",
      "_msi                datetime            numbergen           terminado\n",
      "_multibytecodec     dateutil            numbers             test\n",
      "_multiprocessing    dbi                 numexpr             test_pycosat\n",
      "_nsis               dbm                 numpy               text_unidecode\n",
      "_opcode             dde                 numpydoc            textdistance\n",
      "_operator           debugpy             odbc                textwrap\n",
      "_osx_support        decimal             opcode              this\n",
      "_overlapped         decorator           openpyxl            threading\n",
      "_pickle             defusedxml          operator            threadpoolctl\n",
      "_plotly_future_     diff_match_patch    optparse            three_merge\n",
      "_plotly_utils       difflib             os                  tifffile\n",
      "_py_abc             dill                overrides           time\n",
      "_pydatetime         dis                 packaging           timeit\n",
      "_pydecimal          distributed         pandas              timer\n",
      "_pyio               distro              pandocfilters       tinycss2\n",
      "_pylong             docstring_to_markdown panel               tkinter\n",
      "_pytest             doctest             param               tldextract\n",
      "_queue              docutils            paramiko            tlz\n",
      "_random             dotenv              parsel              token\n",
      "_ruamel_yaml        email               parso               tokenize\n",
      "_sha1               encodings           partd               toml\n",
      "_sha2               ensurepip           pathlib             tomli\n",
      "_sha3               enum                pathspec            tomlkit\n",
      "_signal             erfa                patsy               tomllib\n",
      "_sitebuiltins       errno               pdb                 toolz\n",
      "_socket             et_xmlfile          perfmon             tornado\n",
      "_sqlite3            executing           pexpect             tqdm\n",
      "_sre                fastjsonschema      pickle              trace\n",
      "_ssl                faulthandler        pickleshare         traceback\n",
      "_stat               filecmp             pickletools         tracemalloc\n",
      "_statistics         fileinput           pip                 traitlets\n",
      "_string             filelock            pipes               truststore\n",
      "_strptime           flake8              pkce                tty\n",
      "_struct             flask               pkg_resources       turtle\n",
      "_symtable           fnmatch             pkginfo             turtledemo\n",
      "_system_path        fontTools           pkgutil             twisted\n",
      "_testbuffer         fractions           platform            typeguard\n",
      "_testcapi           frozendict          platformdirs        typer\n",
      "_testclinic         frozenlist          plistlib            types\n",
      "_testconsole        fsspec              plotly              typing\n",
      "_testimportmultiple ftplib              pluggy              typing_extensions\n",
      "_testinternalcapi   functools           ply                 tzdata\n",
      "_testmultiphase     gc                  poplib              uc_micro\n",
      "_testsinglephase    genericpath         posixpath           ujson\n",
      "_thread             gensim              pprint              unicodedata\n",
      "_threading_local    getopt              profile             unicodedata2\n",
      "_tkinter            getpass             prometheus_client   unidecode\n",
      "_tokenize           gettext             prompt_toolkit      unittest\n",
      "_tracemalloc        git                 protego             urllib\n",
      "_typing             gitdb               pstats              urllib3\n",
      "_uuid               glob                psutil              uu\n",
      "_warnings           graphlib            pty                 uuid\n",
      "_weakref            greenlet            ptyprocess          venv\n",
      "_weakrefset         gzip                pure_eval           w3lib\n",
      "_win32sysloader     h11                 py                  warnings\n",
      "_winapi             h5py                py_compile          watchdog\n",
      "_winxptheme         hashlib             pyarrow             wave\n",
      "_wmi                heapdict            pyasn1              wcwidth\n",
      "_xxinterpchannels   heapq               pyasn1_modules      weakref\n",
      "_xxsubinterpreters  hmac                pyclbr              webbrowser\n",
      "_yaml               holoviews           pycodestyle         webencodings\n",
      "_zoneinfo           html                pycosat             websocket\n",
      "abc                 http                pycparser           werkzeug\n",
      "adodbapi            httpcore            pyct                whatthepatch\n",
      "aext_assistant      httpx               pycurl              wheel\n",
      "aext_assistant_server hvplot              pydantic            widgetsnbextension\n",
      "aext_core           hyperlink           pydantic_core       win2kras\n",
      "aext_core_server    idlelib             pydantic_settings   win32api\n",
      "aext_panels         idna                pydeck              win32clipboard\n",
      "aext_panels_server  imagecodecs         pydispatch          win32com\n",
      "aext_project_filebrowser_server imageio             pydoc               win32con\n",
      "aext_share_notebook imagesize           pydoc_data          win32console\n",
      "aext_share_notebook_server imaplib             pydocstyle          win32cred\n",
      "aext_shared         imblearn            pyexpat             win32crypt\n",
      "aext_toolbox        imghdr              pyflakes            win32cryptcon\n",
      "afxres              importlib           pygments            win32ctypes\n",
      "aifc                importlib_metadata  pylab               win32event\n",
      "aiobotocore         importlib_resources pylint              win32evtlog\n",
      "aiohappyeyeballs    incremental         pylint_venv         win32evtlogutil\n",
      "aiohttp             inflect             pyls_spyder         win32file\n",
      "aioitertools        inflection          pylsp               win32gui\n",
      "aiosignal           iniconfig           pylsp_black         win32gui_struct\n",
      "alabaster           inspect             pylsp_jsonrpc       win32help\n",
      "alembic             intake              pyodbc              win32inet\n",
      "altair              intervaltree        pyparsing           win32inetcon\n",
      "anaconda_anon_usage io                  pytest              win32job\n",
      "anaconda_auth       ipaddress           pythoncom           win32lz\n",
      "anaconda_catalogs   ipykernel           pythonjsonlogger    win32net\n",
      "anaconda_cli_base   ipykernel_launcher  pytoolconfig        win32netcon\n",
      "anaconda_cloud_auth ipython_genutils    pytz                win32pdh\n",
      "anaconda_navigator  ipywidgets          pyviz_comms         win32pdhquery\n",
      "anaconda_project    isapi               pywin               win32pdhutil\n",
      "annotated_types     isort               pywin32_bootstrap   win32pipe\n",
      "antigravity         isympy              pywin32_testutil    win32print\n",
      "anyio               itemadapter         pywintypes          win32process\n",
      "appdirs             itemloaders         pywt                win32profile\n",
      "archspec            itertools           qdarkstyle          win32ras\n",
      "argon2              itsdangerous        qstylizer           win32rcparser\n",
      "argparse            jedi                qtawesome           win32security\n",
      "array               jellyfish           qtconsole           win32service\n",
      "arrow               jinja2              qtpy                win32serviceutil\n",
      "ast                 jmespath            queue               win32timezone\n",
      "astroid             joblib              queuelib            win32trace\n",
      "astropy             json                quopri              win32traceutil\n",
      "astropy_iers_data   json5               random              win32transaction\n",
      "asttokens           jsonpatch           rasutil             win32ts\n",
      "async_lru           jsonpointer         re                  win32ui\n",
      "asyncio             jsonschema          readchar            win32uiole\n",
      "atexit              jsonschema_specifications referencing         win32verstamp\n",
      "atomicwrites        jupyter             regcheck            win32wnet\n",
      "attr                jupyter_client      regex               win_inet_pton\n",
      "attrs               jupyter_console     regutil             winerror\n",
      "audioop             jupyter_core        repo_cli            winioctlcon\n",
      "autocommand         jupyter_events      reprlib             winnt\n",
      "automat             jupyter_lsp         requests            winperf\n",
      "autopep8            jupyter_server      requests_file       winpty\n",
      "babel               jupyter_server_terminals requests_toolbelt   winreg\n",
      "backports           jupyterlab          rfc3339_validator   winsound\n",
      "base64              jupyterlab_plotly   rfc3986_validator   winxpgui\n",
      "bcrypt              jupyterlab_pygments rich                winxptheme\n",
      "bdb                 jupyterlab_server   rlcompleter         wrapt\n",
      "binaryornot         jupyterlab_widgets  rope                wsgiref\n",
      "binascii            jwt                 rpds                xarray\n",
      "binstar_client      keyring             rtree               xdrlib\n",
      "bisect              keyword             ruamel_yaml         xlwings\n",
      "black               kiwisolver          runpy               xlwingsjs\n",
      "blackd              lazy_loader         s3fs                xml\n",
      "bleach              lazy_object_proxy   sched               xmlrpc\n",
      "blib2to3            lckr_jupyterlab_variableinspector scipy               xxlimited\n",
      "blinker             lib2to3             scrapy              xxlimited_35\n",
      "bokeh               libarchive          seaborn             xxsubtype\n",
      "boltons             libmambapy          secrets             xyzservices\n",
      "botocore            lief                select              yaml\n",
      "bottleneck          linecache           selectors           yapf\n",
      "brotli              linkify_it          semver              yapf_third_party\n",
      "bs4                 llvmlite            send2trash          yapftests\n",
      "builtins            lmdb                sentry_sdk          yarl\n",
      "bz2                 locale              service_identity    zict\n",
      "cProfile            locket              servicemanager      zipapp\n",
      "cachetools          logging             setuptools          zipfile\n",
      "calendar            lxml                shellingham         zipimport\n",
      "certifi             lz4                 shelve              zipp\n",
      "cffi                lzma                shlex               zlib\n",
      "cgi                 mailbox             shutil              zmq\n",
      "cgitb               mailcap             signal              zoneinfo\n",
      "chardet             mako                sipbuild            zope\n",
      "charset_normalizer  markdown            site                zstandard\n",
      "\n",
      "Enter any module name to get more help.  Or, type \"modules spam\" to search\n",
      "for modules whose name or summary contain the string \"spam\".\n",
      "\n"
     ]
    }
   ],
   "source": [
    "help(\"modules\")"
   ]
  },
  {
   "cell_type": "markdown",
   "id": "8619854a",
   "metadata": {},
   "source": [
    "Identifiers: Names given objects or vaiables or functions or classes\n",
    "\n",
    "Rules for identifiers:<br>\n",
    "Start with either a letter or an underscore <br>\n",
    "can be followed by any combination of letters, digits and underscore <br>\n",
    "No punctuation or special character allowed <br><br>\n",
    "Case sensitive<br>\n",
    "No reserved words can be used as identifiers: class if else return def for in<br>\n",
    "No predefined/ builtins should be used as identifiers: print len int str<br>"
   ]
  },
  {
   "cell_type": "code",
   "execution_count": 10,
   "id": "da3cd312",
   "metadata": {},
   "outputs": [],
   "source": [
    "a =32\n",
    "b =24.0\n",
    "c = 12 +4j\n",
    "d = True\n",
    "e = False"
   ]
  },
  {
   "cell_type": "code",
   "execution_count": 11,
   "id": "a8b9ae30",
   "metadata": {},
   "outputs": [],
   "source": [
    "a =32; b =24.0; c = 12 +4j; d = True; e = False"
   ]
  },
  {
   "cell_type": "code",
   "execution_count": 12,
   "id": "81b06cc2",
   "metadata": {},
   "outputs": [
    {
     "data": {
      "text/plain": [
       "int"
      ]
     },
     "execution_count": 12,
     "metadata": {},
     "output_type": "execute_result"
    }
   ],
   "source": [
    "type(a)"
   ]
  },
  {
   "cell_type": "code",
   "execution_count": 13,
   "id": "64ccd496",
   "metadata": {},
   "outputs": [
    {
     "data": {
      "text/plain": [
       "float"
      ]
     },
     "execution_count": 13,
     "metadata": {},
     "output_type": "execute_result"
    }
   ],
   "source": [
    "type(b)"
   ]
  },
  {
   "cell_type": "code",
   "execution_count": 14,
   "id": "727b74cb",
   "metadata": {},
   "outputs": [
    {
     "data": {
      "text/plain": [
       "complex"
      ]
     },
     "execution_count": 14,
     "metadata": {},
     "output_type": "execute_result"
    }
   ],
   "source": [
    "type(c)"
   ]
  },
  {
   "cell_type": "code",
   "execution_count": 15,
   "id": "53a0f867",
   "metadata": {},
   "outputs": [],
   "source": [
    "a,b,c,d,e, = 32, 24.0,12 +4j, True, False"
   ]
  },
  {
   "cell_type": "code",
   "execution_count": 19,
   "id": "22f0228f",
   "metadata": {},
   "outputs": [
    {
     "name": "stdout",
     "output_type": "stream",
     "text": [
      "32\n",
      "<class 'int'>\n",
      "24.0\n",
      "<class 'float'>\n",
      "<class 'complex'>\n",
      "<class 'bool'>\n",
      "<class 'bool'>\n"
     ]
    }
   ],
   "source": [
    "print(a,type(a),b,type(b),type(c),type(d),type(e), sep ='\\n')"
   ]
  },
  {
   "cell_type": "code",
   "execution_count": 16,
   "id": "6e4208a9",
   "metadata": {},
   "outputs": [],
   "source": [
    "s = \"helo world\""
   ]
  },
  {
   "cell_type": "code",
   "execution_count": 17,
   "id": "6505dfc0",
   "metadata": {},
   "outputs": [
    {
     "data": {
      "text/plain": [
       "'helo world'"
      ]
     },
     "execution_count": 17,
     "metadata": {},
     "output_type": "execute_result"
    }
   ],
   "source": [
    "s"
   ]
  },
  {
   "cell_type": "markdown",
   "id": "1dd1ada8",
   "metadata": {},
   "source": [
    "##Operators in Python:\n",
    "\n",
    "Assignment operator: =\n",
    "\n",
    "Arithimetic operator; + - * / // (integer divide) % (modulus) ** (exponential)\n",
    "\n",
    "Arithemetic operator with assignment operator: a = a+b can be written as a+=b. : += -=\n",
    "\n",
    "Relational operators: ==, !=, >, <, >=, <=\n",
    "\n",
    "Logical operators and - &, or - |, not, in, not in"
   ]
  },
  {
   "cell_type": "code",
   "execution_count": 23,
   "id": "ddfb3d35",
   "metadata": {},
   "outputs": [
    {
     "name": "stdout",
     "output_type": "stream",
     "text": [
      "300\n",
      "20000\n",
      "0.5\n",
      "0\n",
      "100\n"
     ]
    }
   ],
   "source": [
    "num1 = 100\n",
    "num2 = 200\n",
    "sum1 = num1 + num2\n",
    "prod1 = num1*num2 \n",
    "div1 = num1/num2 \n",
    "div2 = num1//num2\n",
    "mod1 = num1%num2\n",
    "print(sum1)\n",
    "print(prod1)\n",
    "print(div1)\n",
    "print(div2)\n",
    "print(mod1)"
   ]
  },
  {
   "cell_type": "code",
   "execution_count": 25,
   "id": "2f0dd566",
   "metadata": {},
   "outputs": [
    {
     "name": "stdout",
     "output_type": "stream",
     "text": [
      "True\n",
      "False\n",
      "True\n"
     ]
    }
   ],
   "source": [
    "a = 10\n",
    "b=20\n",
    "print(a == 10)\n",
    "print(a >10)\n",
    "print(a!=b)"
   ]
  },
  {
   "cell_type": "markdown",
   "id": "bb775f31",
   "metadata": {},
   "source": [
    "## input operation"
   ]
  },
  {
   "cell_type": "code",
   "execution_count": 27,
   "id": "bc08b263",
   "metadata": {},
   "outputs": [
    {
     "name": "stdout",
     "output_type": "stream",
     "text": [
      "sze kye\n"
     ]
    }
   ],
   "source": [
    "name = input(\"enter your name\")\n",
    "print(name)"
   ]
  },
  {
   "cell_type": "code",
   "execution_count": 33,
   "id": "60902de2",
   "metadata": {},
   "outputs": [
    {
     "name": "stdout",
     "output_type": "stream",
     "text": [
      "170\n"
     ]
    }
   ],
   "source": [
    "# enter sub1 marks, sub2 marks and then print the output\n",
    "sub1 = int(input(\"sub1\"))\n",
    "sub2 = int(input(\"sub2\"))\n",
    "totalmarks = sub1 + sub2\n",
    "print(totalmarks)"
   ]
  },
  {
   "cell_type": "code",
   "execution_count": 32,
   "id": "245b41f5",
   "metadata": {},
   "outputs": [
    {
     "name": "stdout",
     "output_type": "stream",
     "text": [
      "python programming\n"
     ]
    }
   ],
   "source": [
    "str1 = \"python\"\n",
    "str2 = \"programming\"\n",
    "str1 +=\" \"+ str2\n",
    "print(str1)"
   ]
  },
  {
   "cell_type": "code",
   "execution_count": 34,
   "id": "6b122f6f",
   "metadata": {},
   "outputs": [
    {
     "name": "stdout",
     "output_type": "stream",
     "text": [
      "Total salary: 39752.050000\n"
     ]
    }
   ],
   "source": [
    "basic_pay = float(input('Enter basic salary: '))\n",
    "HRA = 0.1 * basic_pay\n",
    "TA = 0.05 * basic_pay\n",
    "salary = basic_pay + HRA + TA\n",
    "print('Total salary: %f'% salary)"
   ]
  },
  {
   "cell_type": "markdown",
   "id": "ce10455c",
   "metadata": {},
   "source": [
    "## Conditional branching statements\n",
    "Python supports different types of conditional branching statements<br>\n",
    "if statement<br>\n",
    "if-else statement<br>\n",
    "nested if statement<br>\n",
    "if-elif-else statement<br><br>\n",
    "if statement is the simplest form of decision control statements that is frequently used in decision making"
   ]
  },
  {
   "cell_type": "code",
   "execution_count": 38,
   "id": "141d6f2f",
   "metadata": {},
   "outputs": [
    {
     "name": "stdout",
     "output_type": "stream",
     "text": [
      "even\n"
     ]
    }
   ],
   "source": [
    "num = int(input(\"Please enter a number: \"))\n",
    "## given number is even or odd\n",
    "if (num%2): # 0 is false, any other number is true\n",
    "    print(\"odd\")\n",
    "else:\n",
    "    print('even')"
   ]
  },
  {
   "cell_type": "code",
   "execution_count": 40,
   "id": "1f644f38",
   "metadata": {},
   "outputs": [
    {
     "name": "stdout",
     "output_type": "stream",
     "text": [
      "-2 is greater than -5\n"
     ]
    }
   ],
   "source": [
    "## find the greatest of 2 numbers\n",
    "num1 = int(input(\"Enter num1:\"))\n",
    "num2 = int(input(\"Enter num2:\"))\n",
    "if (num1>num2):\n",
    "    print(\"{0} is greater than {1}\".format(num1, num2))\n",
    "else:\n",
    "    print(\"{1} is greater than {0}\".format(num1, num2))"
   ]
  },
  {
   "cell_type": "code",
   "execution_count": 43,
   "id": "a7cb7984",
   "metadata": {},
   "outputs": [
    {
     "name": "stdout",
     "output_type": "stream",
     "text": [
      "greatest value is 4\n"
     ]
    }
   ],
   "source": [
    "## find the greatest of 3 numbers\n",
    "num1 = int(input(\"Enter num1:\"))\n",
    "num2 = int(input(\"Enter num2:\"))\n",
    "num3 = int(input(\"Enter num3:\"))\n",
    "if (num1 >= num2) and (num1 >= num3):\n",
    "   largest = num1\n",
    "elif (num2 >= num1) and (num2 >= num3):\n",
    "   largest = num2\n",
    "else:\n",
    "   largest = num3\n",
    "print(\"greatest value is\", largest)"
   ]
  },
  {
   "cell_type": "code",
   "execution_count": 45,
   "id": "bbc121a0",
   "metadata": {},
   "outputs": [
    {
     "name": "stdout",
     "output_type": "stream",
     "text": [
      "not divisible by 5\n"
     ]
    }
   ],
   "source": [
    "# enter any number as input and show theh number divisible by 5\n",
    "num = int(input(\"enter the number\"))\n",
    "if (num%5 == 0):\n",
    "    print(\"divisible by 5\")\n",
    "else:\n",
    "    print(\"not divisible by 5\")"
   ]
  },
  {
   "cell_type": "code",
   "execution_count": 47,
   "id": "4a95354b",
   "metadata": {},
   "outputs": [
    {
     "name": "stdout",
     "output_type": "stream",
     "text": [
      "The number is divisble by 5\n"
     ]
    }
   ],
   "source": [
    "# # how much needed to add or subtract to make the number divisible by 5\n",
    "num = int(input(\"enter the number\"))\n",
    "remainder = num%5\n",
    "if (remainder == 0):\n",
    "    print(\"The number is divisble by 5\")\n",
    "else:\n",
    "    print(remainder, \"should be subtracted or %d must be added to %d to make it completely divisble by 5\" %(10-remainder, remainder))"
   ]
  },
  {
   "cell_type": "code",
   "execution_count": 51,
   "id": "b6fe12f3",
   "metadata": {},
   "outputs": [
    {
     "name": "stdout",
     "output_type": "stream",
     "text": [
      "grade C\n"
     ]
    }
   ],
   "source": [
    "# take input marks and grade them :\n",
    "# A => 90 and above\n",
    "# B => 75 - 90\n",
    "# C => 55 - 75\n",
    "# D => 35 - 55\n",
    "# F => <35\n",
    "\n",
    "marks = int(input(\"Enter marks: \"))\n",
    "if (marks >=90):\n",
    "    print(\"grade A\")\n",
    "elif(marks >= 75):\n",
    "    print(\"grade B\")\n",
    "elif(marks>=55):\n",
    "    print(\"grade C\")\n",
    "elif marks>=35:\n",
    "    print(\"grade D\")\n",
    "else:\n",
    "    print(\"grade F\")"
   ]
  },
  {
   "cell_type": "code",
   "execution_count": 56,
   "id": "03e985b3",
   "metadata": {},
   "outputs": [
    {
     "name": "stdout",
     "output_type": "stream",
     "text": [
      "More than 3 digits: 6789\n"
     ]
    }
   ],
   "source": [
    "## accept a number and print whether it is two digit number or three digit number else print it if more than three digits\n",
    "num = int(input(\"Enter number: \"))\n",
    "if len(str(num)) == 2 or len(str(num)) == 3:\n",
    "    print(\"Accepted\")\n",
    "else:\n",
    "    print(\"More than 3 digits: {}\".format(num))"
   ]
  },
  {
   "cell_type": "code",
   "execution_count": 61,
   "id": "16108167",
   "metadata": {},
   "outputs": [
    {
     "name": "stdout",
     "output_type": "stream",
     "text": [
      "Vowel\n"
     ]
    }
   ],
   "source": [
    "## Write a program to determine the character entered is a vowel or not\n",
    "while True:\n",
    "    x = input(\"Enter a single character as input: \")\n",
    "    if len(x) == 1:\n",
    "        break\n",
    "    print(\"Please enter a single character to continue\\n\")\n",
    "if (x == 'a' or x == 'e' or\n",
    "    x == 'i' or x == 'o' or x == 'u'): \n",
    "    print(\"Vowel\")\n",
    "else:\n",
    "    print(\"consonant\") "
   ]
  },
  {
   "cell_type": "markdown",
   "id": "2a019fda",
   "metadata": {},
   "source": [
    "## Iterative loop\n",
    "for loop<br>\n",
    "while loop<br>\n",
    "python supports basic loop structures<br>\n",
    "Iterative statements are used to repeat the execution of one or more statements<br>\n",
    "In python, iterative statements are implemented through while loop and nested loops<br><br>\n",
    "for loop when I know the number of iterations <br>\n",
    "while loop -- condition -- when the condition is met exit from loop"
   ]
  },
  {
   "cell_type": "code",
   "execution_count": 64,
   "id": "320af14d",
   "metadata": {},
   "outputs": [
    {
     "name": "stdout",
     "output_type": "stream",
     "text": [
      "0 2 4 6 8 10 "
     ]
    }
   ],
   "source": [
    "# To print first 10 numbers using while loop\n",
    "i = 0\n",
    "while(i<=10):\n",
    "    print(i, end=' ')\n",
    "    i += 2"
   ]
  },
  {
   "cell_type": "code",
   "execution_count": 63,
   "id": "64a9a273",
   "metadata": {},
   "outputs": [
    {
     "name": "stdout",
     "output_type": "stream",
     "text": [
      "sum of first 10 numbers 55\n",
      "Average of first 10 numbers 5.5\n"
     ]
    }
   ],
   "source": [
    "#Program to print the first 10 numbers using while loop\n",
    "sum =0\n",
    "for i in range(11):\n",
    "    sum+=i\n",
    "print('sum of first 10 numbers', sum)\n",
    "average = sum /10;\n",
    "print (\"Average of first 10 numbers\", average)\n"
   ]
  },
  {
   "cell_type": "markdown",
   "id": "1eca8601",
   "metadata": {},
   "source": [
    "Flow control statements: used with a combination of loop and condition<br>\n",
    "break: terminates the loop <br>\n",
    "continue : skips the remaining steps for that iteration"
   ]
  },
  {
   "cell_type": "code",
   "execution_count": 65,
   "id": "f83fba34",
   "metadata": {},
   "outputs": [
    {
     "name": "stdout",
     "output_type": "stream",
     "text": [
      "1\n",
      "2\n",
      "3\n",
      "4\n",
      "6\n",
      "7\n",
      "8\n",
      "9\n",
      "10\n"
     ]
    }
   ],
   "source": [
    "i = 0\n",
    "while (i < 10):\n",
    "    i = i + 1\n",
    "    if(i == 5):\n",
    "        continue\n",
    "    print(i)"
   ]
  },
  {
   "cell_type": "code",
   "execution_count": 66,
   "id": "936b8e1c",
   "metadata": {},
   "outputs": [
    {
     "name": "stdout",
     "output_type": "stream",
     "text": [
      "Exiting......\n"
     ]
    }
   ],
   "source": [
    "while True:\n",
    "    str = input (\"Enter a string (bye to exit) : \")\n",
    "    if str == \"bye\":\n",
    "        break\n",
    "    print(str)\n",
    "print(\"Exiting......\")"
   ]
  },
  {
   "cell_type": "markdown",
   "id": "0160aef3",
   "metadata": {},
   "source": [
    "## For loop \n",
    "the range() function<br><br>\n",
    "The range() is built in function in python that is used to iterate over a sequence of numbers starting with begin(inclusive) and ending with one less than<br>\n",
    "The step argument is optional, by default every number in the range is increased by 1 , but we can specify it can be both negative and positive but not zero"
   ]
  },
  {
   "cell_type": "code",
   "execution_count": 67,
   "id": "9ccc081c",
   "metadata": {},
   "outputs": [
    {
     "name": "stdout",
     "output_type": "stream",
     "text": [
      "1 2 3 4 5 "
     ]
    }
   ],
   "source": [
    "for i in range(1,6):\n",
    "    print(i,end=' ')"
   ]
  },
  {
   "cell_type": "code",
   "execution_count": 68,
   "id": "672091a6",
   "metadata": {},
   "outputs": [
    {
     "name": "stdout",
     "output_type": "stream",
     "text": [
      "0 2 4 6 8 "
     ]
    }
   ],
   "source": [
    "for i in range(0,10,2):\n",
    "    print(i, end=' ')"
   ]
  },
  {
   "cell_type": "code",
   "execution_count": 69,
   "id": "17f7a89c",
   "metadata": {},
   "outputs": [
    {
     "name": "stdout",
     "output_type": "stream",
     "text": [
      "P Y T H O N "
     ]
    }
   ],
   "source": [
    "for i in \"PYTHON\":\n",
    "    print(i, end= ' ')"
   ]
  },
  {
   "cell_type": "code",
   "execution_count": 70,
   "id": "812ea656",
   "metadata": {},
   "outputs": [
    {
     "name": "stdout",
     "output_type": "stream",
     "text": [
      "1\n",
      "2\n",
      "3\n",
      "4\n",
      "6\n",
      "7\n",
      "8\n",
      "9\n",
      "11\n",
      "12\n",
      "13\n",
      "14\n",
      "16\n",
      "17\n",
      "18\n",
      "19\n"
     ]
    }
   ],
   "source": [
    "for i in range(1,20):\n",
    "    if i%5 == 0:\n",
    "        continue\n",
    "    else:\n",
    "        print(i)"
   ]
  },
  {
   "cell_type": "markdown",
   "id": "cc2fe9fe",
   "metadata": {},
   "source": [
    "## Data Structures\n",
    "set{} <br>\n",
    "list [] <br>\n",
    "tuple () <br>\n",
    "dictionary {key:value}"
   ]
  },
  {
   "cell_type": "code",
   "execution_count": 75,
   "id": "ebf49f24",
   "metadata": {},
   "outputs": [
    {
     "data": {
      "text/plain": [
       "(12, 'sze kye', 45.3, (3, 2), True)"
      ]
     },
     "execution_count": 75,
     "metadata": {},
     "output_type": "execute_result"
    }
   ],
   "source": [
    "#A tuple is one dimensional, immutable ordered sequence of items which can have mixed datatypes\n",
    "tup1 = (12, 'sze kye', 45.3, (3,2), True)\n",
    "tup1"
   ]
  },
  {
   "cell_type": "code",
   "execution_count": 72,
   "id": "bb90cccc",
   "metadata": {},
   "outputs": [
    {
     "data": {
      "text/plain": [
       "45.3"
      ]
     },
     "execution_count": 72,
     "metadata": {},
     "output_type": "execute_result"
    }
   ],
   "source": [
    "##access the dataset at index value 2\n",
    "tup1[2]"
   ]
  },
  {
   "cell_type": "code",
   "execution_count": 73,
   "id": "bdd0df8a",
   "metadata": {},
   "outputs": [
    {
     "data": {
      "text/plain": [
       "'sze kye'"
      ]
     },
     "execution_count": 73,
     "metadata": {},
     "output_type": "execute_result"
    }
   ],
   "source": [
    "tup1[1]"
   ]
  },
  {
   "cell_type": "code",
   "execution_count": null,
   "id": "e62c778b",
   "metadata": {},
   "outputs": [
    {
     "ename": "TypeError",
     "evalue": "'tuple' object does not support item assignment",
     "output_type": "error",
     "traceback": [
      "\u001b[1;31m---------------------------------------------------------------------------\u001b[0m",
      "\u001b[1;31mTypeError\u001b[0m                                 Traceback (most recent call last)",
      "Cell \u001b[1;32mIn[76], line 1\u001b[0m\n\u001b[1;32m----> 1\u001b[0m tup1[\u001b[38;5;241m1\u001b[39m] \u001b[38;5;241m=\u001b[39m \u001b[38;5;124m'\u001b[39m\u001b[38;5;124mhello world\u001b[39m\u001b[38;5;124m'\u001b[39m\n",
      "\u001b[1;31mTypeError\u001b[0m: 'tuple' object does not support item assignment"
     ]
    }
   ],
   "source": [
    "tup1[1] = 'hello world'\n",
    "\n",
    "#A tuple is immutable and cannot be modified"
   ]
  },
  {
   "cell_type": "code",
   "execution_count": null,
   "id": "bf7e52fd",
   "metadata": {},
   "outputs": [
    {
     "data": {
      "text/plain": [
       "True"
      ]
     },
     "execution_count": 77,
     "metadata": {},
     "output_type": "execute_result"
    }
   ],
   "source": [
    "#accessing with negative index\n",
    "tup1[-1]"
   ]
  },
  {
   "cell_type": "code",
   "execution_count": null,
   "id": "0e7e5e07",
   "metadata": {},
   "outputs": [
    {
     "data": {
      "text/plain": [
       "('sze kye', 45.3, (3, 2))"
      ]
     },
     "execution_count": 78,
     "metadata": {},
     "output_type": "execute_result"
    }
   ],
   "source": [
    "# count starts from first index and stops before the second index\n",
    "tup1[1:4] "
   ]
  },
  {
   "cell_type": "code",
   "execution_count": 79,
   "id": "069e6047",
   "metadata": {},
   "outputs": [
    {
     "data": {
      "text/plain": [
       "['string', 101, 25.6, True, 11]"
      ]
     },
     "execution_count": 79,
     "metadata": {},
     "output_type": "execute_result"
    }
   ],
   "source": [
    "# List -- one dimensional mutable ordered sequence of items which can be of mixed dataypes\n",
    "list1 = ['string', 101, 25.6, True, 11]\n",
    "list1"
   ]
  },
  {
   "cell_type": "code",
   "execution_count": 80,
   "id": "4176fe9b",
   "metadata": {},
   "outputs": [
    {
     "data": {
      "text/plain": [
       "['string', 101, 25.6, True, 11, 'bac']"
      ]
     },
     "execution_count": 80,
     "metadata": {},
     "output_type": "execute_result"
    }
   ],
   "source": [
    "list1.append('bac')\n",
    "list1"
   ]
  },
  {
   "cell_type": "code",
   "execution_count": 81,
   "id": "12c31691",
   "metadata": {},
   "outputs": [
    {
     "data": {
      "text/plain": [
       "['string', 25.6, True, 11, 'bac']"
      ]
     },
     "execution_count": 81,
     "metadata": {},
     "output_type": "execute_result"
    }
   ],
   "source": [
    "list1.remove(101)\n",
    "list1"
   ]
  },
  {
   "cell_type": "code",
   "execution_count": 82,
   "id": "2684a5ec",
   "metadata": {},
   "outputs": [],
   "source": [
    "list1.extend(['new_item1', 'new_item2'])"
   ]
  },
  {
   "cell_type": "code",
   "execution_count": null,
   "id": "cdeaa6f5",
   "metadata": {},
   "outputs": [],
   "source": [
    "list1.insert(3,4) # modify list to insert a new item,4, at a certain index 3."
   ]
  },
  {
   "cell_type": "code",
   "execution_count": 84,
   "id": "21cbd05b",
   "metadata": {},
   "outputs": [
    {
     "data": {
      "text/plain": [
       "['string', 25.6, True, 4, 11, 'bac', 'new_item1', 'new_item2']"
      ]
     },
     "execution_count": 84,
     "metadata": {},
     "output_type": "execute_result"
    }
   ],
   "source": [
    "list1"
   ]
  },
  {
   "cell_type": "code",
   "execution_count": null,
   "id": "2c686bdc",
   "metadata": {},
   "outputs": [
    {
     "data": {
      "text/plain": [
       "True"
      ]
     },
     "execution_count": 85,
     "metadata": {},
     "output_type": "execute_result"
    }
   ],
   "source": [
    "list1.pop(2) ## accessing the elements by index position"
   ]
  },
  {
   "cell_type": "code",
   "execution_count": null,
   "id": "22302c9f",
   "metadata": {},
   "outputs": [
    {
     "data": {
      "text/plain": [
       "[25.6, 4, 11]"
      ]
     },
     "execution_count": 86,
     "metadata": {},
     "output_type": "execute_result"
    }
   ],
   "source": [
    "# slice the list\n",
    "list1[1:4]\n",
    "# count starts from first index and stops before the second index"
   ]
  },
  {
   "cell_type": "code",
   "execution_count": 89,
   "id": "be509f58",
   "metadata": {},
   "outputs": [
    {
     "name": "stdout",
     "output_type": "stream",
     "text": [
      "{'name': 'sze kye', 'exp': 10, 'desg': 'Trainer'}\n",
      "dict_keys(['name', 'exp', 'desg'])\n",
      "dict_values(['sze kye', 10, 'Trainer'])\n"
     ]
    }
   ],
   "source": [
    "''' dictionaries store a mapping between a set of keys and set of values\n",
    "d = {key:value}\n",
    "key: can be any python object but need to be imutable and unique for that\n",
    "value : can be any arbitary python object\n",
    "'''\n",
    "\n",
    "d = {'name': 'sze kye'}\n",
    "emp = {'name' : 'sze kye', 'exp': 10, 'desg':'Trainer'}\n",
    "print(emp)\n",
    "print(emp.keys())\n",
    "print(emp.values())"
   ]
  },
  {
   "cell_type": "code",
   "execution_count": 90,
   "id": "11f99501",
   "metadata": {},
   "outputs": [
    {
     "name": "stdout",
     "output_type": "stream",
     "text": [
      "dict_keys(['Brazil', 'Russia', 'India', 'China', 'South Africa'])\n",
      "dict_values([['Brasilia', 17.3], ['Moscow', 3.28], ['Delhi', 4.5], ['Beijing', 9.6], ['Pretoria', 1.22]])\n"
     ]
    }
   ],
   "source": [
    "input1 = {'Brazil' :['Brasilia',17.3], 'Russia':['Moscow',3.28],'India': ['Delhi',4.5], 'China':['Beijing',9.6],'South Africa':['Pretoria',1.22]}\n",
    "print(input1.keys())\n",
    "print(input1.values())"
   ]
  },
  {
   "cell_type": "code",
   "execution_count": 91,
   "id": "73856625",
   "metadata": {},
   "outputs": [],
   "source": [
    "input1.update({'Brazil':['Brasilla', 18.3]})\n",
    "input1.update({'xyz':['abc',10.9]})"
   ]
  },
  {
   "cell_type": "code",
   "execution_count": 92,
   "id": "6459e542",
   "metadata": {},
   "outputs": [
    {
     "data": {
      "text/plain": [
       "{'Brazil': ['Brasilla', 18.3],\n",
       " 'Russia': ['Moscow', 3.28],\n",
       " 'India': ['Delhi', 4.5],\n",
       " 'China': ['Beijing', 9.6],\n",
       " 'South Africa': ['Pretoria', 1.22],\n",
       " 'xyz': ['abc', 10.9]}"
      ]
     },
     "execution_count": 92,
     "metadata": {},
     "output_type": "execute_result"
    }
   ],
   "source": [
    "input1"
   ]
  },
  {
   "cell_type": "code",
   "execution_count": null,
   "id": "0b8d370e",
   "metadata": {},
   "outputs": [],
   "source": []
  }
 ],
 "metadata": {
  "kernelspec": {
   "display_name": "base",
   "language": "python",
   "name": "python3"
  },
  "language_info": {
   "codemirror_mode": {
    "name": "ipython",
    "version": 3
   },
   "file_extension": ".py",
   "mimetype": "text/x-python",
   "name": "python",
   "nbconvert_exporter": "python",
   "pygments_lexer": "ipython3",
   "version": "3.12.7"
  }
 },
 "nbformat": 4,
 "nbformat_minor": 5
}
